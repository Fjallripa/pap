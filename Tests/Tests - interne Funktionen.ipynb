{
 "cells": [
  {
   "cell_type": "code",
   "execution_count": 1,
   "metadata": {},
   "outputs": [],
   "source": [
    "import numpy as np\n",
    "from numpy import array as arr"
   ]
  },
  {
   "cell_type": "code",
   "execution_count": 2,
   "metadata": {},
   "outputs": [],
   "source": [
    "import sys\n",
    "import socket\n",
    "if socket.gethostname() == 'Birks-iMac.fritz.box':\n",
    "    sys.path.append('/Users/Birk/Documents/Programmieren/Python/Eigener Code')\n",
    "    sys.path.append('/Users/Birk/Documents/Programmieren/GitHub/experiment-code/pap')\n",
    "else:\n",
    "    sys.path.append('/Home/ab227/linux/Eigener Code')\n",
    "from pap import _rundung  # Für _größenordnung Test"
   ]
  },
  {
   "cell_type": "markdown",
   "metadata": {},
   "source": [
    "# Entwicklung interner Funktionen für pap.py"
   ]
  },
  {
   "cell_type": "markdown",
   "metadata": {},
   "source": [
    "## Diverses"
   ]
  },
  {
   "cell_type": "markdown",
   "metadata": {},
   "source": [
    "### _negativ_wird_null"
   ]
  },
  {
   "cell_type": "code",
   "execution_count": 3,
   "metadata": {},
   "outputs": [],
   "source": [
    "'''\n",
    "Benötigt von:\n",
    "* pap.resultat()\n",
    "\n",
    "\n",
    "Benutzt:\n",
    "* numpy as np\n",
    "'''\n",
    "\n",
    "\n",
    "def _negativ_wird_null(array):\n",
    "    '''\n",
    "    \"Rampenfunktion\": Die Werte von array, die negativ sind, werden durch 0 ersetzt.\n",
    "    \n",
    "    \n",
    "    Argument\n",
    "    --------\n",
    "    array : np.ndarray (number_like)\n",
    "    '''\n",
    "    \n",
    "    \n",
    "    nullen = np.full(np.shape(array), 0)\n",
    "    return np.where(array > 0, array, nullen)"
   ]
  },
  {
   "cell_type": "markdown",
   "metadata": {},
   "source": [
    "### _istbool "
   ]
  },
  {
   "cell_type": "code",
   "execution_count": 4,
   "metadata": {},
   "outputs": [],
   "source": [
    "'''\n",
    "Benötigt von:\n",
    "* pap.resultat()\n",
    "'''\n",
    "\n",
    "\n",
    "def _istbool(wert, bool_wert:bool):\n",
    "    '''\n",
    "    Überprüft ob wert wirklich bool_wert (True oder False) ist und nicht nur 1 oder 0.\n",
    "    '''\n",
    "    \n",
    "    return (wert == bool_wert and isinstance(wert, bool))    "
   ]
  },
  {
   "cell_type": "markdown",
   "metadata": {},
   "source": [
    " "
   ]
  },
  {
   "cell_type": "markdown",
   "metadata": {},
   "source": [
    "### _listen_transponieren "
   ]
  },
  {
   "cell_type": "code",
   "execution_count": 5,
   "metadata": {},
   "outputs": [],
   "source": [
    "'''\n",
    "Benötigt von:\n",
    "* pap.vergleichstabelle()\n",
    "'''\n",
    "\n",
    "\n",
    "def _listen_transponieren(listen_matrix):\n",
    "    transponierte_matrix = []\n",
    "    for i in range(len(listen_matrix[0])):\n",
    "        zeile = []\n",
    "        for j in range(len(listen_matrix)):\n",
    "            zeile.append(listen_matrix[j][i])\n",
    "        transponierte_matrix.append(zeile)\n",
    "    return transponierte_matrix"
   ]
  },
  {
   "cell_type": "code",
   "execution_count": 6,
   "metadata": {},
   "outputs": [],
   "source": [
    "# Test: _listen_transponieren()\n",
    "\n",
    "test_listen_matrix = [['1', '2'], ['3', '4'], ['5', '6']]\n",
    "test_listen_matrix = _listen_transponieren(test_listen_matrix)"
   ]
  },
  {
   "cell_type": "code",
   "execution_count": 7,
   "metadata": {},
   "outputs": [
    {
     "name": "stdout",
     "output_type": "stream",
     "text": [
      "[[1.3 0.2 1.2 0.3]\n",
      " [2.3 0.0 2.5 0.03]\n",
      " [20 2.3 17.3 0.0]\n",
      " [740000.0 0.0 760000.0 0.0]\n",
      " [0.0 123 489 45]\n",
      " [85 2.3 0.0 3.0]\n",
      " [0.0 3.4 0.0 3.2]\n",
      " [0.0 0.0 0.0 0.0]]\n",
      "(array([1, 2, 3, 3, 4, 5, 6, 6, 7, 7, 7, 7]), array([1, 3, 1, 3, 0, 2, 0, 2, 0, 1, 2, 3]))\n",
      "[4, 6, 7] [5, 6, 7]\n"
     ]
    }
   ],
   "source": [
    "test_werte = arr([[1.3, 0.2, 1.2, 0.3], [2.3, None, 2.5, 0.03], [20, 2.3, 17.3, None], [7.4e5, None, 7.6e5, None], \n",
    "                  [None, 123, 489, 45], [85, 2.3, None, 3.0], [None, 3.4, None, 3.2], [None, None, None, None]])\n",
    "test_kein_wert = test_werte == None\n",
    "none_stellen = np.where(test_kein_wert)\n",
    "nullen = np.zeros(np.shape(test_werte))\n",
    "test_werte = np.where(test_kein_wert, nullen, test_werte)\n",
    "\n",
    "print(test_werte)\n",
    "print(none_stellen)\n",
    "ex_none = []\n",
    "theo_none = []\n",
    "for i in range(len(none_stellen[0])):\n",
    "    if none_stellen[1][i] == 0:\n",
    "        ex_none.append(none_stellen[0][i])\n",
    "    if none_stellen[1][i] == 2:\n",
    "        theo_none.append(none_stellen[0][i])\n",
    "print(ex_none, theo_none)\n",
    "'''\n",
    "none_indices = arr(none_stellen).T\n",
    "for i in none_indices:\n",
    "    i = (i[0], i[1])\n",
    "    test_werte[i] = 0.0\n",
    "print(test_werte)\n",
    "#print(test_werte[none_stellen] = 0)\n",
    "''';"
   ]
  },
  {
   "cell_type": "markdown",
   "metadata": {},
   "source": [
    "## Rundung u.Ä."
   ]
  },
  {
   "cell_type": "markdown",
   "metadata": {},
   "source": [
    "### _größenordnung"
   ]
  },
  {
   "cell_type": "code",
   "execution_count": 8,
   "metadata": {},
   "outputs": [],
   "source": [
    "'''\n",
    "Benötigt von:\n",
    "* pap.vergleichstabelle()\n",
    "* pap._nachkommastelle()\n",
    "* pap._erste_ziffer()\n",
    "\n",
    "\n",
    "Benötigt:\n",
    "* numpy als np\n",
    "* np.array() als arr()\n",
    "'''\n",
    "\n",
    "\n",
    "def _größenordnung(zahlen, art = int):\n",
    "    if art == int:\n",
    "        art = 'int64'\n",
    "    elif art == float:\n",
    "        art = 'float64'\n",
    "    einsen = np.ones(np.shape(zahlen))   # 1 hat Größenordnung 0 (welches auch 0 hier haben soll).\n",
    "    zahlen_kompatibel = np.where(zahlen == 0, einsen, zahlen)\n",
    "    return arr(np.floor(np.log10(np.abs(zahlen_kompatibel))), dtype = art)"
   ]
  },
  {
   "cell_type": "markdown",
   "metadata": {},
   "source": [
    "### _erste_ziffer "
   ]
  },
  {
   "cell_type": "code",
   "execution_count": 9,
   "metadata": {},
   "outputs": [],
   "source": [
    "'''\n",
    "Benötigt von:\n",
    "* pap._nachkommastelle()\n",
    "\n",
    "\n",
    "Benötigt:\n",
    "* numpy als np\n",
    "\n",
    "* pap._größenorndung()\n",
    "'''\n",
    "\n",
    "\n",
    "def _erste_ziffer(zahlen, art = float):\n",
    "    größenordnungen = _größenordnung(zahlen, art = float)\n",
    "    ziffern = np.abs(zahlen / 10**größenordnungen)\n",
    "    if art == float:\n",
    "        return ziffern\n",
    "    if art == int:\n",
    "        return np.int_(ziffern)\n",
    "    "
   ]
  },
  {
   "cell_type": "code",
   "execution_count": 10,
   "metadata": {
    "scrolled": true
   },
   "outputs": [
    {
     "name": "stdout",
     "output_type": "stream",
     "text": [
      "[1.293   3.7     9.304   1.6     9.99999 4.      6.      4.      6.     ]\n",
      "[1 3 9 1 9 4 5 4 5]\n"
     ]
    }
   ],
   "source": [
    "# Test: _erste_ziffer()\n",
    "\n",
    "print(_erste_ziffer(arr([1.293, 37, 0.9304, -1.60, -0.999999, 0.4, 0.6, -0.4, -0.6])))     \n",
    "print(_erste_ziffer(arr([1.293, 37, 0.9304, -1.60, -0.999999, 0.4, 0.6, -0.4, -0.6]), art = int))"
   ]
  },
  {
   "cell_type": "markdown",
   "metadata": {},
   "source": [
    "### _nackommastelle"
   ]
  },
  {
   "cell_type": "code",
   "execution_count": 11,
   "metadata": {},
   "outputs": [],
   "source": [
    "'''\n",
    "Benötigt von:\n",
    "* pap.vergleichstabelle()\n",
    "\n",
    "\n",
    "Benötigt:\n",
    "* numpy als np\n",
    "\n",
    "* _größenordnung\n",
    "* _erste_ziffer\n",
    "'''\n",
    "\n",
    "\n",
    "def _nachkommastelle(zahlen, sig_stellen = 1, sig_grenze = 1.0):\n",
    "    \n",
    "    über_der_grenze = _erste_ziffer(zahlen) >= sig_grenze\n",
    "    sig_stellen_normal = np.full(np.shape(zahlen), sig_stellen)\n",
    "    signifikante_stellen = np.where(über_der_grenze, sig_stellen_normal, sig_stellen_normal + 1)\n",
    "    größenordnungen = _größenordnung(zahlen, art = float)\n",
    "    \n",
    "    nachkommastellen = -größenordnungen + signifikante_stellen - 1\n",
    "    \n",
    "    \n",
    "    return nachkommastellen"
   ]
  },
  {
   "cell_type": "code",
   "execution_count": 12,
   "metadata": {
    "scrolled": true
   },
   "outputs": [
    {
     "name": "stdout",
     "output_type": "stream",
     "text": [
      "[100  44   5   4   4   4   3   2   2   2   1   0   0   0  -1  -2  -4  -5\n",
      "  -5  -7 -99]\n",
      "[-99. -43.  -4.  -4.  -4.  -3.  -2.  -2.  -2.  -1.   0.   1.   0.   1.\n",
      "   1.   2.   5.   5.   5.   8.  99.]\n",
      "[ 1.0e+100  3.8e+044 -1.4e+005  5.0e+004 -4.0e+004 -4.0e+004  1.0e+003\n",
      "  1.0e+003  5.0e+002 -4.0e+002  2.3e+001  1.4e+000  4.0e+000  3.7e+000\n",
      " -8.0e-001  9.0e-002  3.8e-004 -5.0e-005  5.0e-005 -3.9e-007  7.0e-099]\n"
     ]
    }
   ],
   "source": [
    "# Test: _nachkommastelle(), _größenordnung()\n",
    "\n",
    "zahlliste = arr([1e100, 3849184e38, -1.3984820e5, 48024.304, -40000, -39999.0, 1023, 999.9999, 483, -395.00, \n",
    "                 23.30489, 1.3848, 4.09, 3.688, -0.839, 0.094, 0.0003848, -0.00004848, 5.4839e-5, -3.9485e-7, \n",
    "                 7.38e-99])\n",
    "\n",
    "nachkommastellen = _nachkommastelle(zahlliste, sig_grenze = 4.0)\n",
    "\n",
    "print(_größenordnung(zahlliste))\n",
    "print(nachkommastellen)\n",
    "zahlliste_gerundet = _rundung(zahlliste, np.int_(nachkommastellen))\n",
    "print(zahlliste_gerundet)"
   ]
  },
  {
   "cell_type": "markdown",
   "metadata": {},
   "source": [
    "## String-Formatierung "
   ]
  },
  {
   "cell_type": "markdown",
   "metadata": {},
   "source": [
    "### _füllen"
   ]
  },
  {
   "cell_type": "code",
   "execution_count": 13,
   "metadata": {},
   "outputs": [],
   "source": [
    "'''\n",
    "Benötigt von:\n",
    "* pap.vergleichstabelle()\n",
    "* pap._zahlen_ausrichtung()\n",
    "'''\n",
    "\n",
    "\n",
    "def _füllen(string, index = 0,  menge = 1, füllzeichen = ' '):\n",
    "    if index == 'rechts':\n",
    "        index = len(string)\n",
    "    elif index == 'links':\n",
    "        index = 0\n",
    "    string_neu = string[:index] + füllzeichen * menge + string[index:]\n",
    "    return string_neu"
   ]
  },
  {
   "cell_type": "code",
   "execution_count": 14,
   "metadata": {
    "scrolled": true
   },
   "outputs": [
    {
     "name": "stdout",
     "output_type": "stream",
     "text": [
      "'h  i'\n",
      "'hi  '\n",
      "'hi  '\n"
     ]
    }
   ],
   "source": [
    "# Test: _füllen()\n",
    "\n",
    "print(repr(_füllen('hi', index = 1, menge = 2)))\n",
    "print(repr(_füllen('hi', index = len('hi'), menge = 2)))\n",
    "print(repr(_füllen('hi', index = 'rechts', menge = 2)))"
   ]
  },
  {
   "cell_type": "markdown",
   "metadata": {},
   "source": [
    "### _entfernen "
   ]
  },
  {
   "cell_type": "code",
   "execution_count": 15,
   "metadata": {},
   "outputs": [],
   "source": [
    "'''\n",
    "Benötigt von:\n",
    "* pap._zahlen_ausrichtung\n",
    "'''\n",
    "\n",
    "def _entfernen(string, index, länge = 1):\n",
    "    \n",
    "    return string[:index] + string[(index + länge):]"
   ]
  },
  {
   "cell_type": "code",
   "execution_count": 16,
   "metadata": {},
   "outputs": [
    {
     "data": {
      "text/plain": [
       "'Hi!'"
      ]
     },
     "execution_count": 16,
     "metadata": {},
     "output_type": "execute_result"
    }
   ],
   "source": [
    "_entfernen('Hi !', 2)"
   ]
  },
  {
   "cell_type": "markdown",
   "metadata": {},
   "source": [
    "### _zentrieren_rechts"
   ]
  },
  {
   "cell_type": "code",
   "execution_count": 17,
   "metadata": {},
   "outputs": [],
   "source": [
    "'''\n",
    "Benötigt von:\n",
    "* pap.vergleichstabelle()\n",
    "* pap._zahlen_ausrichtung()\n",
    "\n",
    "Benötigt:\n",
    "* numpy als np\n",
    "'''\n",
    "\n",
    "\n",
    "def _zentrieren_rechts(string, länge_gewünscht, füllzeichen = ' '):\n",
    "    länge_string = len(string)\n",
    "    if länge_gewünscht <= länge_string:\n",
    "        return string\n",
    "    else:\n",
    "        füll_länge        = länge_gewünscht - länge_string\n",
    "        füll_länge_links  = int(np.ceil(füll_länge / 2))\n",
    "        füll_länge_rechts = int(np.floor(füll_länge / 2))\n",
    "        string_zentriert  = füllzeichen * füll_länge_links + string + füllzeichen * füll_länge_rechts\n",
    "        return string_zentriert"
   ]
  },
  {
   "cell_type": "markdown",
   "metadata": {},
   "source": [
    "### _zahlen_ausrichtung "
   ]
  },
  {
   "cell_type": "code",
   "execution_count": 18,
   "metadata": {},
   "outputs": [],
   "source": [
    "'''\n",
    "Benötigt von:\n",
    "* pap.vergleichstabelle()\n",
    "\n",
    "\n",
    "Benötigt:\n",
    "* numpy als np\n",
    "\n",
    "* pap._füllen()\n",
    "* pap._entferne()\n",
    "* pap._zentrieren_rechts()\n",
    "'''\n",
    "\n",
    "\n",
    "def _zahlen_ausrichtung(zahlen_liste):\n",
    "    \n",
    "    länge_abs = len(zahlen_liste)\n",
    "    test_zahl    = [any(x in string for x in ['0', '1', '2', '3', '4', '5', '6', '7', '8', '9']) \n",
    "                    for string in zahlen_liste]\n",
    "    nicht_zahlen = [(i, zahlen_liste.pop(i))  for i in reversed(range(länge_abs))  if not test_zahl[i]][::-1]\n",
    "        # Pflückt alle nicht-Zahlen von hinten nach vorne aus der zahlen_liste um deren richtige Indices zu \n",
    "        # bewahren.\n",
    "    \n",
    "    if len(zahlen_liste) != 0:\n",
    "        länge_abs = len(zahlen_liste)\n",
    "        anzahl = 9   #% (minus, vor_komma, komma, nach_komma, e, e-, nach_e, text, ende)\n",
    "\n",
    "        test_minus   = ['-' in string[0] for string in zahlen_liste]\n",
    "        test_komma   = ['.' in string for string in zahlen_liste]\n",
    "        test_e       = ['e' in string for string in zahlen_liste]\n",
    "        test_e_minus = ['e-' in string for string in zahlen_liste]\n",
    "        test_text    = [' ' in string for string in zahlen_liste]\n",
    "        längen_strings = [len(string) for string in zahlen_liste]\n",
    "        indices = np.int_(np.zeros((länge_abs, anzahl)))\n",
    "\n",
    "\n",
    "        for i in range(länge_abs):\n",
    "            indices[i][-1] = längen_strings[i]\n",
    "            if test_text[i]:\n",
    "                indices[i][7] = zahlen_liste[i].find(' ')\n",
    "            else:\n",
    "                indices[i][7] = indices[i][-1]\n",
    "            if test_e[i]:\n",
    "                indices[i][4] = zahlen_liste[i].find('e')\n",
    "                if test_e_minus[i]:\n",
    "                    indices[i][5] = zahlen_liste[i].find('e-') + 1\n",
    "                    indices[i][6] = indices[i][5] + 1\n",
    "                else: \n",
    "                    indices[i][5:7] = [indices[i][4] + 1] * 2\n",
    "            else:\n",
    "                indices[i][4:7] = [indices[i][7]] * 3\n",
    "            if test_komma[i]:\n",
    "                indices[i][2] = zahlen_liste[i].find('.')\n",
    "                indices[i][3] = indices[i][2] + 1\n",
    "            else:\n",
    "                indices[i][2:4] = [indices[i][4]] * 2\n",
    "            if test_minus[i]:\n",
    "                indices[i][1] = 1\n",
    "            else:\n",
    "                indices[i][1] = 0\n",
    "\n",
    "        längen = (indices.T[1:] - indices.T[:-1]).T\n",
    "        längen_max = np.max(längen, axis = 0)\n",
    "        längen_diff = längen_max[np.newaxis:] - längen\n",
    "\n",
    "        längen_auswahl = [7, 6, 5, 4, 3, 2, 1, 0]\n",
    "        indices_auswahl = [7, 5, 5, 4, 4, 2, 0, 0]   #% auf jeden Fall kommentieren.\n",
    "        for i in range(länge_abs):\n",
    "            for j in range(len(längen_auswahl)):\n",
    "                zahlen_liste[i] = _füllen(zahlen_liste[i], menge = längen_diff[i][längen_auswahl[j]], \n",
    "                                          index = indices[i][indices_auswahl[j]])\n",
    "    \n",
    "        test_leerzeichen = [' ' in string[0] for string in zahlen_liste]\n",
    "        test_e_leer      = ['e ' in string if 'e' in string else True for string in zahlen_liste]\n",
    "        if all(test_leerzeichen):\n",
    "            for i in range(länge_abs):\n",
    "                zahlen_liste[i] = zahlen_liste[i][1:]\n",
    "        if all(test_e_leer) and any(test_e):\n",
    "            index_e_string = test_e.index(True)\n",
    "            index_nach_e   = zahlen_liste[index_e_string].index('e') + 1\n",
    "            zahlen_liste = [_entfernen(string, index_nach_e) for string in zahlen_liste]\n",
    "        \n",
    "        länge_gesamt = len(zahlen_liste[0])\n",
    "    else:\n",
    "        länge_gesamt = max([len(string) for i, string in nicht_zahlen])\n",
    "    for tupel in nicht_zahlen:\n",
    "        zahlen_liste.insert(tupel[0], _zentrieren_rechts(tupel[1], länge_gesamt))\n",
    "    \n",
    "    return zahlen_liste"
   ]
  },
  {
   "cell_type": "code",
   "execution_count": 19,
   "metadata": {},
   "outputs": [
    {
     "name": "stdout",
     "output_type": "stream",
     "text": [
      "'    1.003         '\n",
      "'  789       e -3  '\n",
      "'         -        '\n",
      "'                  '\n",
      "'                  '\n",
      "'  -29.4834  e100  '\n",
      "'   -0.000334      '\n",
      "'         x        '\n",
      "'53449             '\n",
      "'       -- %       '\n",
      "'   27            %'\n",
      "'   -5.81         %'\n",
      "'    1.239   e-24 %'\n"
     ]
    }
   ],
   "source": [
    "liste = ['1.003', '789e-3', '-', '', ' ', '-29.4834e100', '-0.000334', 'x', '53449', '-- %', '27 %', '-5.81 %', '1.239e-24 %']\n",
    "liste_ausgerichtet = _zahlen_ausrichtung(liste)\n",
    "for string in liste_ausgerichtet:\n",
    "    print(repr(string))"
   ]
  },
  {
   "cell_type": "code",
   "execution_count": 20,
   "metadata": {},
   "outputs": [
    {
     "name": "stdout",
     "output_type": "stream",
     "text": [
      "'  - '\n",
      "'    '\n",
      "'    '\n",
      "'  x '\n",
      "'-- %'\n"
     ]
    }
   ],
   "source": [
    "liste = ['-', '', ' ', 'x', '-- %']\n",
    "liste_ausgerichtet = _zahlen_ausrichtung(liste)\n",
    "for string in liste_ausgerichtet:\n",
    "    print(repr(string))"
   ]
  },
  {
   "cell_type": "code",
   "execution_count": 21,
   "metadata": {},
   "outputs": [
    {
     "name": "stdout",
     "output_type": "stream",
     "text": [
      "'-'\n"
     ]
    }
   ],
   "source": [
    "liste = ['-']\n",
    "liste_ausgerichtet = _zahlen_ausrichtung(liste)\n",
    "for string in liste_ausgerichtet:\n",
    "    print(repr(string))"
   ]
  },
  {
   "cell_type": "code",
   "execution_count": 22,
   "metadata": {},
   "outputs": [
    {
     "name": "stdout",
     "output_type": "stream",
     "text": [
      "'    1.003         '\n",
      "'  789       e -3  '\n",
      "'  -29.4834  e100  '\n",
      "'   -0.000334      '\n",
      "'53449             '\n",
      "'   27            %'\n",
      "'   -5.81         %'\n",
      "'    1.239   e-24 %'\n"
     ]
    }
   ],
   "source": [
    "liste = ['1.003', '789e-3', '-29.4834e100', '-0.000334', '53449', '27 %', '-5.81 %', '1.239e-24 %']\n",
    "liste_ausgerichtet = _zahlen_ausrichtung(liste)\n",
    "for string in liste_ausgerichtet:\n",
    "    print(repr(string))"
   ]
  },
  {
   "cell_type": "code",
   "execution_count": 23,
   "metadata": {},
   "outputs": [
    {
     "name": "stdout",
     "output_type": "stream",
     "text": [
      "'-29.4834e100'\n"
     ]
    }
   ],
   "source": [
    "liste = ['-29.4834e100']\n",
    "liste_ausgerichtet = _zahlen_ausrichtung(liste)\n",
    "for string in liste_ausgerichtet:\n",
    "    print(repr(string))"
   ]
  },
  {
   "cell_type": "raw",
   "metadata": {},
   "source": [
    "# Test - leere Liste\n",
    "#% crasht noch\n",
    "\n",
    "liste = []\n",
    "liste_ausgerichtet = _zahlen_ausrichtung(liste)\n",
    "for string in liste_ausgerichtet:\n",
    "    print(repr(string))"
   ]
  },
  {
   "cell_type": "code",
   "execution_count": 24,
   "metadata": {},
   "outputs": [
    {
     "name": "stdout",
     "output_type": "stream",
     "text": [
      "['1', 'a', '2.0', 'b', '-32.9', 'c', '94e3', 'd', '2.87e-83', 'e']\n",
      "\n",
      "[(1, 'a'), (3, 'b'), (5, 'c'), (7, 'd'), (9, 'e')]\n",
      "['1', '2.0', '-32.9', '94e3', '2.87e-83']\n",
      "\n",
      "['1', 'a', '2.0', 'b', '-32.9', 'c', '94e3', 'd', '2.87e-83', 'e']\n"
     ]
    }
   ],
   "source": [
    "liste = ['1', 'a', '2.0',  'b', '-32.9', 'c', '94e3', 'd', '2.87e-83', 'e']\n",
    "print(liste)\n",
    "print('')\n",
    "test_zahl    = [any(x in string for x in ['0', '1', '2', '3', '4', '5', '6', '7', '8', '9']) \n",
    "                    for string in liste]\n",
    "test = []\n",
    "for i in reversed(range(len(liste))):\n",
    "    if (not test_zahl[i]):\n",
    "        test.append((i, liste.pop(i)))\n",
    "test.reverse()\n",
    "\n",
    "print(test)\n",
    "print(liste)\n",
    "print('')\n",
    "\n",
    "for i in range(len(test)):\n",
    "    liste.insert(test[i][0], test[i][1])\n",
    "        \n",
    "print(liste)"
   ]
  },
  {
   "cell_type": "code",
   "execution_count": 25,
   "metadata": {},
   "outputs": [
    {
     "name": "stdout",
     "output_type": "stream",
     "text": [
      "[(7, 'd'), (5, 'c'), (3, 'b'), (1, 'a')]\n"
     ]
    }
   ],
   "source": [
    "liste = ['1', 'a', '2.0',  'b', '-32.9', 'c', '94e3', 'd', '2.87e-83' 'e']\n",
    "test_zahl    = [any(x in string for x in ['0', '1', '2', '3', '4', '5', '6', '7', '8', '9']) \n",
    "                    for string in liste]\n",
    "#liste_neu = liste[test_zahl]\n",
    "liste_neu = [(i, liste.pop(i)) for i in range(len(liste))[::-1] if not test_zahl[i]][::-1]\n",
    "liste_neu.reverse()\n",
    "print(liste_neu)"
   ]
  },
  {
   "cell_type": "markdown",
   "metadata": {},
   "source": [
    "### _plus_minus"
   ]
  },
  {
   "cell_type": "code",
   "execution_count": 26,
   "metadata": {},
   "outputs": [],
   "source": [
    "'''\n",
    "Benötigt von:\n",
    "* pap.vergleichstabelle()\n",
    "'''\n",
    "\n",
    "\n",
    "def _plus_minus(string_liste):\n",
    "    plus_minus = []\n",
    "    for i in range(len(string_liste)):\n",
    "        if string_liste[i] == '':\n",
    "            plus_minus.append('')\n",
    "        elif all([zeichen == ' ' for zeichen in string_liste[i]]):\n",
    "            plus_minus.append('   ')\n",
    "        else:\n",
    "            plus_minus.append(' ± ')\n",
    "    return plus_minus"
   ]
  },
  {
   "cell_type": "code",
   "execution_count": 27,
   "metadata": {},
   "outputs": [
    {
     "name": "stdout",
     "output_type": "stream",
     "text": [
      "0 True <class 'int'>\n",
      "1 True <class 'int'>\n",
      "True True <class 'bool'>\n",
      "2.0 True <class 'float'>\n",
      "-3.4 True <class 'float'>\n",
      "3.4e-89 True <class 'float'>\n",
      "2 False <class 'str'>\n",
      "0j False <class 'complex'>\n",
      "(1+0j) False <class 'complex'>\n",
      "1j False <class 'complex'>\n",
      "3 True <class 'numpy.ndarray'>\n",
      "0.4 True <class 'numpy.ndarray'>\n",
      "2 False <class 'numpy.int64'>\n",
      "[ 3 -4] True <class 'numpy.ndarray'>\n"
     ]
    }
   ],
   "source": [
    "liste = [0, 1, True, 2.0, -3.4, 34e-90, '2', complex(0, 0), complex(1, 0), complex(0, 1), arr(3), arr(0.4), arr([2])[0], arr([3, -4])]\n",
    "for element in liste:\n",
    "    if type(element) == np.ndarray: \n",
    "        test_zahl = element.dtype in (np.int64, np.float64)\n",
    "    else:\n",
    "        test_zahl = isinstance(element, (int, float))\n",
    "    print(element, test_zahl, type(element))"
   ]
  }
 ],
 "metadata": {
  "kernelspec": {
   "display_name": "Python 3",
   "language": "python",
   "name": "python3"
  },
  "language_info": {
   "codemirror_mode": {
    "name": "ipython",
    "version": 3
   },
   "file_extension": ".py",
   "mimetype": "text/x-python",
   "name": "python",
   "nbconvert_exporter": "python",
   "pygments_lexer": "ipython3",
   "version": "3.8.5"
  }
 },
 "nbformat": 4,
 "nbformat_minor": 4
}
