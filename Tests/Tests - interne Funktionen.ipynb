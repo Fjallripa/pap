{
 "cells": [
  {
   "cell_type": "code",
   "execution_count": 1,
   "metadata": {},
   "outputs": [],
   "source": [
    "import numpy as np\n",
    "from numpy import array as arr\n",
    "\n",
    "import pap   # für Tests"
   ]
  },
  {
   "cell_type": "markdown",
   "metadata": {},
   "source": [
    "# Entwicklung interner Funktionen für pap.py"
   ]
  },
  {
   "cell_type": "code",
   "execution_count": 2,
   "metadata": {},
   "outputs": [],
   "source": [
    "ZIFFERN = ('0', '1', '2', '3', '4', '5', '6', '7', '8', '9')"
   ]
  },
  {
   "cell_type": "markdown",
   "metadata": {},
   "source": [
    "## Diverses"
   ]
  },
  {
   "cell_type": "markdown",
   "metadata": {},
   "source": [
    "### _negativ_wird_null"
   ]
  },
  {
   "cell_type": "code",
   "execution_count": 3,
   "metadata": {},
   "outputs": [],
   "source": [
    "'''\n",
    "Benötigt von:\n",
    "* pap.resultat()\n",
    "\n",
    "\n",
    "Benutzt:\n",
    "* numpy as np\n",
    "'''\n",
    "\n",
    "\n",
    "def _negativ_wird_null(array):\n",
    "    '''\n",
    "    \"Rampenfunktion\": Die Werte von array, die negativ sind, werden durch 0 ersetzt.\n",
    "    \n",
    "    \n",
    "    Argument\n",
    "    --------\n",
    "    array : np.ndarray (number_like)\n",
    "    '''\n",
    "    \n",
    "    \n",
    "    nullen = np.full(np.shape(array), 0)\n",
    "    return np.where(array > 0, array, nullen)"
   ]
  },
  {
   "cell_type": "markdown",
   "metadata": {},
   "source": [
    "### _istbool "
   ]
  },
  {
   "cell_type": "code",
   "execution_count": 4,
   "metadata": {},
   "outputs": [],
   "source": [
    "'''\n",
    "Benötigt von:\n",
    "* pap.resultat()\n",
    "'''\n",
    "\n",
    "\n",
    "def _istbool(wert, bool_wert:bool):\n",
    "    '''\n",
    "    Überprüft ob wert wirklich bool_wert (True oder False) ist und nicht nur 1 oder 0.\n",
    "    '''\n",
    "    \n",
    "    return (wert == bool_wert and isinstance(wert, bool))    "
   ]
  },
  {
   "cell_type": "markdown",
   "metadata": {},
   "source": [
    " "
   ]
  },
  {
   "cell_type": "markdown",
   "metadata": {},
   "source": [
    "### _listen_transponieren "
   ]
  },
  {
   "cell_type": "code",
   "execution_count": 5,
   "metadata": {},
   "outputs": [],
   "source": [
    "'''\n",
    "Benötigt von:\n",
    "* pap.vergleichstabelle()\n",
    "'''\n",
    "\n",
    "\n",
    "def _listen_transponieren(listen_matrix):\n",
    "    '''\n",
    "    Transponiert eine Liste, die eine Form wie ein 2D np.ndarray hat.\n",
    "    \n",
    "    \n",
    "    Argumente\n",
    "    ---------\n",
    "    listen_matrix : list\n",
    "        Muss aus einer Liste von N Listen, welche alle M Elemente haben, bestehen.\n",
    "        Also \"shape\"(listen_matrix) = (N, M).\n",
    "    \n",
    "    \n",
    "    Output\n",
    "    ------\n",
    "    tranxponierte_matrix : list\n",
    "        \"shape\"(transponierte_maxtrix) = (M, N)\n",
    "    '''\n",
    "    \n",
    "    \n",
    "    \n",
    "    transponierte_matrix = []\n",
    "    for i in range(len(listen_matrix[0])):\n",
    "        zeile = []\n",
    "        for j in range(len(listen_matrix)):\n",
    "            zeile.append(listen_matrix[j][i])\n",
    "        transponierte_matrix.append(zeile)\n",
    "    \n",
    "    return transponierte_matrix"
   ]
  },
  {
   "cell_type": "code",
   "execution_count": 6,
   "metadata": {},
   "outputs": [
    {
     "name": "stdout",
     "output_type": "stream",
     "text": [
      "[['1', '3', '5'], ['2', '4', '6']]\n"
     ]
    }
   ],
   "source": [
    "# Test: _listen_transponieren()\n",
    "\n",
    "test_listen_matrix = [['1', '2'], ['3', '4'], ['5', '6']]\n",
    "print(_listen_transponieren(test_listen_matrix))"
   ]
  },
  {
   "cell_type": "markdown",
   "metadata": {},
   "source": [
    "## Rundung u.Ä."
   ]
  },
  {
   "cell_type": "markdown",
   "metadata": {},
   "source": [
    "### _größenordnung"
   ]
  },
  {
   "cell_type": "code",
   "execution_count": 7,
   "metadata": {},
   "outputs": [],
   "source": [
    "'''\n",
    "Benötigt von:\n",
    "* pap.vergleichstabelle()\n",
    "* pap._nachkommastelle()\n",
    "* pap._erste_ziffer()\n",
    "\n",
    "\n",
    "Benötigt:\n",
    "* numpy als np\n",
    "* np.array() als arr()\n",
    "'''\n",
    "\n",
    "\n",
    "def _größenordnung(zahlen, art = int):\n",
    "    '''\n",
    "    Bestimmt elementweise die Größenordnungen eines Arrays von Zahlen und gibt sie als int- oder float-Array \n",
    "    zurück. \n",
    "    0 bekommt die Größenordnung 0.\n",
    "    \n",
    "    \n",
    "    Argumente\n",
    "    ---------\n",
    "    zahlen : np.ndarray (number_like)\n",
    "        \n",
    "    art : type, optional\n",
    "        Darf nur sein:\n",
    "        int   - größenordnungen-Array wird aus np.int64-Zahlen bestehen, zB. 0.048 -> -2\n",
    "        \n",
    "        float - größenordnungen-Array wird aus np.float64-Zahlen bestehen. zB. 0.048 -> -2.0\n",
    "        \n",
    "        \n",
    "    Output\n",
    "    ------\n",
    "    größenordnungen : np.ndarray  (np.int64 oder np.float64)\n",
    "        np.shape(größenordnungen) = np.shape(zahlen)\n",
    "    '''\n",
    "    \n",
    "    \n",
    "    \n",
    "    if art == int:\n",
    "        art = 'int64'\n",
    "    elif art == float:\n",
    "        art = 'float64'\n",
    "    \n",
    "    # Nullen werden kompatibel gemacht.\n",
    "    einsen            = np.ones(np.shape(zahlen))   # 1 hat Größenordnung 0 (welches auch 0 hier haben soll).\n",
    "    zahlen_kompatibel = np.where(zahlen == 0, einsen, zahlen)\n",
    "    \n",
    "    return arr(np.floor(np.log10(np.abs(zahlen_kompatibel))), dtype = art)"
   ]
  },
  {
   "cell_type": "markdown",
   "metadata": {},
   "source": [
    "### _erste_ziffer "
   ]
  },
  {
   "cell_type": "raw",
   "metadata": {},
   "source": [
    "# Funktion noch nicht in Gebrauch.\n",
    "# Gedacht für zukünftige Verbesserung von pap._erste_ziffer().\n",
    "\n",
    "def _erste_ziffer_einzel(zahl):\n",
    "    zahl_string = str(zahl)\n",
    "    \n",
    "    for character in zahl_string:\n",
    "        if character in ZIFFERN:\n",
    "            return int(character)"
   ]
  },
  {
   "cell_type": "code",
   "execution_count": 8,
   "metadata": {},
   "outputs": [],
   "source": [
    "'''\n",
    "Benötigt von:\n",
    "* pap._nachkommastelle()\n",
    "\n",
    "\n",
    "Benötigt:\n",
    "* numpy als np\n",
    "\n",
    "* pap._größenorndung()\n",
    "'''\n",
    "\n",
    "\n",
    "def _erste_ziffer(zahlen, art = float):\n",
    "    '''\n",
    "    Bestimmt elementweise die erste Ziffer eines Arrays von Zahlen wenn art = int, aber\n",
    "    wenn art = float, wird die Zahl nur auf Größenordnung null gebracht.\n",
    "    \n",
    "    \n",
    "    Argumente\n",
    "    ---------\n",
    "    zahlen : np.ndarray (number_like)\n",
    "    \n",
    "    art : type, optional\n",
    "        Darf nur sein:\n",
    "        int   - ziffern-Array wird aus np.int64-Zahlen bestehen, zB. 239.78 -> 2\n",
    "        \n",
    "        float - ziffern-Array wird aus np.float64-Zahlen bestehen, zB. 239.78 -> 2.3978 \n",
    "        \n",
    "    \n",
    "    Output\n",
    "    ------\n",
    "    ziffern : np.ndarray  (np.int64 oder np.float64)\n",
    "        np.shape(ziffern) = np.shape(zahlen)\n",
    "    '''\n",
    "    \n",
    "    \n",
    "    \n",
    "    größenordnungen = _größenordnung(zahlen, art = float)\n",
    "    ziffern         = np.abs(zahlen / 10**größenordnungen)\n",
    "    \n",
    "    if art == float:\n",
    "        return ziffern\n",
    "    if art == int:\n",
    "        return np.int_(ziffern)"
   ]
  },
  {
   "cell_type": "code",
   "execution_count": 9,
   "metadata": {
    "scrolled": true
   },
   "outputs": [
    {
     "name": "stdout",
     "output_type": "stream",
     "text": [
      "[1.293   3.7     9.304   1.6     9.99999 4.      6.      4.      6.     ]\n",
      "[1 3 9 1 9 4 5 4 5]\n"
     ]
    }
   ],
   "source": [
    "# Test: _erste_ziffer()\n",
    "\n",
    "print(_erste_ziffer(arr([1.293, 37, 0.9304, -1.60, -0.999999, 0.4, 0.6, -0.4, -0.6])))     \n",
    "print(_erste_ziffer(arr([1.293, 37, 0.9304, -1.60, -0.999999, 0.4, 0.6, -0.4, -0.6]), art = int))"
   ]
  },
  {
   "cell_type": "markdown",
   "metadata": {},
   "source": [
    "### _nachkommastelle"
   ]
  },
  {
   "cell_type": "code",
   "execution_count": 10,
   "metadata": {},
   "outputs": [],
   "source": [
    "'''\n",
    "Benötigt von:\n",
    "* pap.vergleichstabelle()\n",
    "\n",
    "\n",
    "Benötigt:\n",
    "* numpy als np\n",
    "\n",
    "* _größenordnung\n",
    "* _erste_ziffer\n",
    "'''\n",
    "\n",
    "\n",
    "def _nachkommastelle(zahlen, sig_stellen = 1, sig_grenze = 1.0):\n",
    "    '''\n",
    "    Berechnet elementweise die Anzahl der Nachkommastellen, auf die eine Zahl gerundet werden soll, \n",
    "    abhängig davon wie viele signifikante Stellen zugelassen werden und davon wo die Signifikanz-Grenze liegt.\n",
    "    Mehr Details unter \"Berechnung\".\n",
    "    \n",
    "    \n",
    "    Argumente\n",
    "    ---------\n",
    "    zahlen : np.ndarray (number_like)\n",
    "    \n",
    "    sig_stellen : int, optional\n",
    "        Nur Zahlen >= 1 sinnvoll\n",
    "    \n",
    "    sig_grenze : int, float, optional\n",
    "        Nur Zahlen >= 1 und < 10 sinvoll\n",
    "    \n",
    "    \n",
    "    Output\n",
    "    ------\n",
    "    nachkommastellen : np.ndarray (np.float64)\n",
    "        np.shape(nachkommastellen) = np.shape(zahlen)\n",
    "    \n",
    "    \n",
    "    Berechnung\n",
    "    ----------\n",
    "    Rundet man eine Zahl wissenschaftlich, dann will man sie auf eine bestimmte Anzahl signifikanter Stellen \n",
    "    runden, zB. bei Fehlerwerten auf oft nur eine: 1.389342 -> 1\n",
    "    Stur auf eine signifikante Stelle zu runden wird aber bei Zahlen mit kleinen ersten Ziffern problematisch\n",
    "    wie in oberem Beispiel. Der gerundete Wert könnte zwischen 0.5 und 1.5 liegen, wodurch man einen unnötig \n",
    "    großen Darstellungsfehler introduziert.\n",
    "    Um dieses Problem zu beheben, wurde eine Signifikanzgrenze eingeführt. Ist die erste Ziffer des zu \n",
    "    rundenden Wertes kleiner als diese Grenze, wird der Wert mit einer signifikanten Stelle mehr gerundet.\n",
    "    \n",
    "    Beispiel 1: Sei die Signifikanzgrenze sig_grenze = 4 (Darstellungsfehler max. 1/8)\n",
    "                und die normale Anzahl signifikanter Stellen sig_stellen = 1\n",
    "    0.002458 -> 0.0025 (nachkommastelle =  4)\n",
    "    828.003  -> 800    (nachkommastelle = -2)\n",
    "    4.001    -> 4      (nachkommastelle =  0)\n",
    "    3.999    -> 4.0    (nachkommastelle =  1)\n",
    "    3.949    -> 3.9    (nachkommastelle =  1)\n",
    "    1.034    -> 1.0    (nachkommastelle =  1)\n",
    "    0.928    -> 0.9    (nachkommastelle =  1)\n",
    "    0.434    -> 0.4    (nachkommastelle =  1)\n",
    "    0.394    -> 0.39   (nachkommastelle =  2)\n",
    "    \n",
    "    Beispiel 2: Will man bei oberen Beispielen vermeiden, dass sowohl 4 als auch 4.0 auftauchen,\n",
    "    kann man sig_grenze = 3.95 wählen. Dann ergibt sich\n",
    "    4.000 -> 4\n",
    "    3.999 -> 4\n",
    "    3.950 -> 4\n",
    "    3.949 -> 3.9\n",
    "    '''\n",
    "    \n",
    "    \n",
    "    über_der_grenze      = _erste_ziffer(zahlen) >= sig_grenze\n",
    "    sig_stellen_normal   = np.full(np.shape(zahlen), sig_stellen)\n",
    "    signifikante_stellen = np.where(über_der_grenze, sig_stellen_normal, sig_stellen_normal + 1)\n",
    "    größenordnungen      = _größenordnung(zahlen, art = float)\n",
    "    \n",
    "    nachkommastellen     = -größenordnungen + signifikante_stellen - 1\n",
    "    return nachkommastellen"
   ]
  },
  {
   "cell_type": "code",
   "execution_count": 11,
   "metadata": {},
   "outputs": [
    {
     "name": "stdout",
     "output_type": "stream",
     "text": [
      "[7.394 4.    3.95  3.949 1.   ]\n",
      "[0 0 0 0 0]\n",
      "[0. 0. 0. 1. 1.]\n",
      "['7', '4', '4', '3.9', '1.0']\n",
      "\n",
      "[0.949 0.4   0.395 0.394 0.1  ]\n",
      "[-1 -1 -1 -1 -1]\n",
      "[1. 1. 1. 2. 2.]\n",
      "['0.9', '0.4', '0.4', '0.39', '0.10']\n",
      "\n"
     ]
    }
   ],
   "source": [
    "# Test: _nachkommastelle()\n",
    "## Demonstration, wie sich _nachkommastelle() auf die rundung diverser Zahlen auswirkt.\n",
    "\n",
    "zahlen = arr([[7.394, 4.000, 3.950, 3.949, 1.000],\n",
    "              [0.949, 0.400, 0.395, 0.394, 0.100]])\n",
    "\n",
    "for zahlliste in zahlen:\n",
    "    zahlliste = arr(zahlliste)\n",
    "    nachkommastellen   = _nachkommastelle(zahlliste, sig_grenze = 3.95)\n",
    "    \n",
    "    zahlliste_gerundet = pap._rundung(zahlliste, np.int_(nachkommastellen))\n",
    "    anzahl_stellen = _negativ_wird_null(np.int_(nachkommastellen))\n",
    "    strings_gerundet = ['{:.{prec}f}'.format(zahlliste_gerundet[i], prec = stelle)\n",
    "                        for i, stelle in enumerate(anzahl_stellen)]\n",
    "    \n",
    "    print(zahlliste)\n",
    "    print(_größenordnung(zahlliste))\n",
    "    print(nachkommastellen)    \n",
    "    print(strings_gerundet)\n",
    "    print('')"
   ]
  },
  {
   "cell_type": "markdown",
   "metadata": {},
   "source": [
    "## String-Formatierung "
   ]
  },
  {
   "cell_type": "markdown",
   "metadata": {},
   "source": [
    "### _füllen"
   ]
  },
  {
   "cell_type": "code",
   "execution_count": 12,
   "metadata": {},
   "outputs": [],
   "source": [
    "'''\n",
    "Benötigt von:\n",
    "* pap.vergleichstabelle()\n",
    "* pap._zahlen_ausrichtung()\n",
    "'''\n",
    "\n",
    "\n",
    "def _füllen(string, index = 0,  menge = 1, füllzeichen = ' '):\n",
    "    '''\n",
    "    fügt eine bestimmte Menge an Füllzeichen an eine bestimmte Position eines Strings.\n",
    "    Ähnlich zu einem .format()-Feature wo der String eine festgelegte Breite haben soll und mit entsprechend\n",
    "    vielen Füllzeichen aufgefüllt wird. Hier kann man stattdessen die Anzahl der Füllzeichen festlegen und auch\n",
    "    die genaue Einsetz-Position.\n",
    "    \n",
    "    \n",
    "    Argumente\n",
    "    ---------\n",
    "    string : str\n",
    "    \n",
    "    index : int, str, optional\n",
    "        Position im string, wo die füllzeichen eingefügt werden sollen\n",
    "        Wenn type(index) = str, dann darf index nur sein:\n",
    "        index = 'links'    (= 0) -> füllzeichen ganz links einfügen\n",
    "        \n",
    "        index = 'rechts'   (= len(string)) -> füllzeichen ganz rechts einfügen\n",
    "    \n",
    "    menge : int, optional\n",
    "        Anzahl gewünschter füllzeichen\n",
    "    \n",
    "    füllzeichen : str, optional\n",
    "    \n",
    "    \n",
    "    Output\n",
    "    ------\n",
    "    string_neu : str\n",
    "    '''\n",
    "    \n",
    "    \n",
    "    if index == 'rechts':\n",
    "        index = len(string)\n",
    "    elif index == 'links':\n",
    "        index = 0\n",
    "        \n",
    "    string_neu = string[:index] + füllzeichen * menge + string[index:]\n",
    "    return string_neu"
   ]
  },
  {
   "cell_type": "code",
   "execution_count": 13,
   "metadata": {
    "scrolled": true
   },
   "outputs": [
    {
     "name": "stdout",
     "output_type": "stream",
     "text": [
      "'h  i'\n",
      "'hi  '\n",
      "'hi  '\n"
     ]
    }
   ],
   "source": [
    "# Test: _füllen()\n",
    "\n",
    "print(repr(_füllen('hi', index = 1, menge = 2)))\n",
    "print(repr(_füllen('hi', index = len('hi'), menge = 2)))\n",
    "print(repr(_füllen('hi', index = 'rechts', menge = 2)))"
   ]
  },
  {
   "cell_type": "markdown",
   "metadata": {},
   "source": [
    "### _entfernen "
   ]
  },
  {
   "cell_type": "code",
   "execution_count": 14,
   "metadata": {},
   "outputs": [],
   "source": [
    "'''\n",
    "Benötigt von:\n",
    "* pap._zahlen_ausrichtung\n",
    "'''\n",
    "\n",
    "def _entfernen(string, index, länge = 1):\n",
    "    '''\n",
    "    entfernt eine bestimmte Anzahl (länge) Zeichen von einem String ab einem bestimmten Index.\n",
    "    \n",
    "    \n",
    "    Argumente\n",
    "    ---------\n",
    "    string : str\n",
    "    \n",
    "    index : int, optional\n",
    "        Nur index >= 0 sinnvoll.\n",
    "\n",
    "    länge : int, optional\n",
    "        Nur länge >= 0 sinnvoll.\n",
    "        \n",
    "    \n",
    "    Output\n",
    "    ------\n",
    "    string_output : str\n",
    "    '''\n",
    "    \n",
    "    \n",
    "    return string[:index] + string[(index + länge):]"
   ]
  },
  {
   "cell_type": "code",
   "execution_count": 15,
   "metadata": {},
   "outputs": [
    {
     "name": "stdout",
     "output_type": "stream",
     "text": [
      "Hi!\n",
      "Hi\n",
      "!\n"
     ]
    }
   ],
   "source": [
    "# Test: _entfernen()\n",
    "\n",
    "print(_entfernen('Hi !', 2))\n",
    "print(_entfernen('Hi !', 2, 3))\n",
    "print(_entfernen('Hi !', 0, 3))\n",
    "\n",
    "## Absurde Eingaben\n",
    "#print(_entfernen('Hi !', 2, -2))\n",
    "#print(_entfernen('Hi !', -1, 1))"
   ]
  },
  {
   "cell_type": "markdown",
   "metadata": {},
   "source": [
    "### _zentrieren_rechts"
   ]
  },
  {
   "cell_type": "code",
   "execution_count": 16,
   "metadata": {},
   "outputs": [],
   "source": [
    "'''\n",
    "Benötigt von:\n",
    "* pap.vergleichstabelle()\n",
    "* pap._zahlen_ausrichtung()\n",
    "\n",
    "Benötigt:\n",
    "* numpy als np\n",
    "'''\n",
    "\n",
    "\n",
    "def _zentrieren_rechts(string, länge_gewünscht, füllzeichen = ' '):\n",
    "    '''\n",
    "    arbeitet so wie '{:^{width}'.format(string, width = länge_gewünscht), mit dem Unterschied dass .format bei \n",
    "    einer ungeraden Anzahl Füllzeichen, den string ein bisschen nach links anordnet:    'Hi' -> ' Hi  '\n",
    "    Diese Funktion ordnet in einem solchen Fall den string ein bisschen nach rechts an: 'Hi' -> '  Hi '\n",
    "    Ist die Anzahl Füllzeichen gerade, benehmen sich beide Funktionen gleich:           'Hi' -> '  Hi  '\n",
    "    \n",
    "    Argumente\n",
    "    ---------\n",
    "    string : str\n",
    "    \n",
    "    länge_gewunscht : int\n",
    "    \n",
    "    füllzeichen : str, optional\n",
    "    \n",
    "    \n",
    "    Output\n",
    "    ------\n",
    "    string_zentriert : str\n",
    "    '''\n",
    "    \n",
    "    \n",
    "    länge_string = len(string)\n",
    "    if länge_gewünscht <= länge_string:\n",
    "        return string\n",
    "    else:\n",
    "        füll_länge        = länge_gewünscht - länge_string\n",
    "        füll_länge_links  = int(np.ceil(füll_länge / 2))\n",
    "        füll_länge_rechts = int(np.floor(füll_länge / 2))\n",
    "        string_zentriert  = füllzeichen * füll_länge_links + string + füllzeichen * füll_länge_rechts\n",
    "        return string_zentriert"
   ]
  },
  {
   "cell_type": "code",
   "execution_count": 17,
   "metadata": {},
   "outputs": [
    {
     "name": "stdout",
     "output_type": "stream",
     "text": [
      "'  Hi  '\n",
      "'  Hi '\n",
      "' Hi '\n",
      "' Hi'\n",
      "'Hi'\n",
      "'Hi'\n",
      "'Hi'\n",
      "'Hi'\n",
      "'--Hi-'\n"
     ]
    }
   ],
   "source": [
    "# Test: _zentrieren_rechts()\n",
    "\n",
    "print(repr(_zentrieren_rechts('Hi', 6)))\n",
    "print(repr(_zentrieren_rechts('Hi', 5)))\n",
    "print(repr(_zentrieren_rechts('Hi', 4)))\n",
    "print(repr(_zentrieren_rechts('Hi', 3)))\n",
    "print(repr(_zentrieren_rechts('Hi', 2)))\n",
    "print(repr(_zentrieren_rechts('Hi', 1)))\n",
    "print(repr(_zentrieren_rechts('Hi', 0)))\n",
    "print(repr(_zentrieren_rechts('Hi', -1)))\n",
    "print(repr(_zentrieren_rechts('Hi', 5, '-')))"
   ]
  },
  {
   "cell_type": "markdown",
   "metadata": {},
   "source": [
    "### _zahlen_ausrichtung "
   ]
  },
  {
   "cell_type": "code",
   "execution_count": 18,
   "metadata": {},
   "outputs": [],
   "source": [
    "'''\n",
    "Benötigt von:\n",
    "* pap.vergleichstabelle()\n",
    "\n",
    "\n",
    "Benötigt:\n",
    "* numpy als np\n",
    "\n",
    "* pap._füllen()\n",
    "* pap._entferne()\n",
    "* pap._zentrieren_rechts()\n",
    "'''\n",
    "\n",
    "\n",
    "def _zahlen_ausrichtung(zahlen_liste):\n",
    "    '''\n",
    "    wandelt eine Liste unterschiedlich langer Zahlenstrings in eine Lister gleichlanger Zahlenstrings um,\n",
    "    die nach Komma ('.'), Größenordnung ('e') und Einheit (zB. ' %') ausgerichtet sind, siehe \"Beispiel\".\n",
    "    \n",
    "    \n",
    "    Argumente\n",
    "    ---------\n",
    "    zahlen_liste : list  (str)\n",
    "        Unterstützte Arten von Strings sind:\n",
    "        * int- und float-Strings (auch mit 'e')\n",
    "        * solche strings mit einem Leerzeichen und Einheit hinten dran (zB. '1.4e-3 %')\n",
    "        * einzelne Zeichen (zB. '-')\n",
    "        * leere Strings\n",
    "        \n",
    "    \n",
    "    Output\n",
    "    ------\n",
    "    zahlen_liste : list  (str)\n",
    "        \n",
    "    \n",
    "    Beispiel\n",
    "    --------\n",
    "    >>> pap._zahlenausrichtung(['23.3',\n",
    "    ...                         '2.940e12',\n",
    "    ...                         '-94',\n",
    "    ...                         '2030 %'\n",
    "    ...                         '-6.19e-3'\n",
    "    ...                         '-',\n",
    "    ...                         ''])\n",
    "    ['   23.3       ',\n",
    "     '    2.940e12  ',\n",
    "     '  -94         ',\n",
    "     '-2030        %',\n",
    "     '   -6.19 e-3  ',\n",
    "     '      -       ',\n",
    "     '              ']\n",
    "    '''\n",
    "    \n",
    "    \n",
    "    # Vorbearbeitung der Liste\n",
    "    anzahl_strings    = len(zahlen_liste)\n",
    "    if anzahl_strings == 0:\n",
    "        return zahlen_liste\n",
    "    \n",
    "    ''' Nur Zahlenstrings können ausgerichtet werden, deshalb werden alle anderen\n",
    "    herausgeplückt.'''\n",
    "    test_zahl    = [any(x in string for x in ZIFFERN) \n",
    "                    for string in zahlen_liste]\n",
    "    nicht_zahlen = [(i, zahlen_liste.pop(i))  for i in reversed(range(anzahl_strings))  \n",
    "                    if not test_zahl[i]] [::-1]\n",
    "    ''' Pflückt alle nicht-Zahlen von hinten nach vorne aus der zahlen_liste um deren richtige Indices zu \n",
    "    bewahren.'''\n",
    "    \n",
    "    \n",
    "    # Ausrichten der Zahlenstrings\n",
    "    if len(zahlen_liste) != 0:\n",
    "\n",
    "        '''Die Zahlenstrings werden in 9 Bereiche unterteilt:\n",
    "        minus, vor_komma, komma, nach_komma, e, e-, nach_e, text und ende.\n",
    "        String-Bsp: '-23.383e-10 %' '''\n",
    "        anzahl_strings       = len(zahlen_liste)\n",
    "        anzahl_bereiche = 9 \n",
    "        indices         = np.int_(np.zeros((anzahl_strings, anzahl_bereiche)))\n",
    "        längen_strings  = [len(string) for string in zahlen_liste]\n",
    "        \n",
    "\n",
    "        '''Nach allen diesen Zeichen unten werden die Strings ausgerichtet. Insbesondere sollen '.' und 'e' \n",
    "        alle vertikal übereinander sfein.'''\n",
    "        test_minus   = ['-'  in string[0] for string in zahlen_liste]\n",
    "        test_komma   = ['.'  in string    for string in zahlen_liste]\n",
    "        test_e       = ['e'  in string    for string in zahlen_liste]\n",
    "        test_e_minus = ['e-' in string    for string in zahlen_liste]\n",
    "        test_text    = [' '  in string    for string in zahlen_liste]\n",
    "        \n",
    "        \n",
    "        '''Hier werden die Anfangs-Indices aller 9 Bereiche bestimmt. Ist ein Bereich nicht vorhanden, bekommt \n",
    "        er den Index des nachfolgenden Bereiches. Deshalb werden die Indices vom hintersten Bereich vorwärts\n",
    "        bestimmt.'''\n",
    "        for i in range(anzahl_strings):\n",
    "            indices[i][-1] = längen_strings[i]   # ende\n",
    "            if test_text[i]:\n",
    "                indices[i][7] = zahlen_liste[i].find(' ')\n",
    "            else:\n",
    "                indices[i][7] = indices[i][-1]\n",
    "            if test_e[i]:\n",
    "                indices[i][4] = zahlen_liste[i].find('e')\n",
    "                if test_e_minus[i]:\n",
    "                    indices[i][5] = zahlen_liste[i].find('e-') + 1\n",
    "                    indices[i][6] = indices[i][5] + 1\n",
    "                else: \n",
    "                    indices[i][5:7] = [indices[i][4] + 1] * 2\n",
    "            else:\n",
    "                indices[i][4:7] = [indices[i][7]] * 3\n",
    "            if test_komma[i]:\n",
    "                indices[i][2] = zahlen_liste[i].find('.')\n",
    "                indices[i][3] = indices[i][2] + 1\n",
    "            else:\n",
    "                indices[i][2:4] = [indices[i][4]] * 2\n",
    "            if test_minus[i]:\n",
    "                indices[i][1] = 1\n",
    "            else:\n",
    "                indices[i][1] = 0\n",
    "\n",
    "        \n",
    "        '''Aus allen Indices werden die Längen der einzelnen Bereiche bestimmt und daraus die Menge an\n",
    "        Füllung, die benötigt wird. Diese wird schließlich bei allen Strings an der richtigen Stelle#\n",
    "        eingefügt.'''\n",
    "        längen      = (indices.T[1:] - indices.T[:-1]).T   \n",
    "            # Längen der Bereiche, sortiert nach Bereich, np.shape(längen) = (anzahl_bereiche, anzahl_strings)\n",
    "        längen_max  = np.max(längen, axis = 0)   # Maximum-Länge jedes Bereiches\n",
    "        längen_diff = längen_max[np.newaxis:] - längen     \n",
    "            # Anzahl benötigte Leerzeichen um jeden Bereich bis zur Max-Länge aufzufüllen.\n",
    "\n",
    "        ## Einfügen der Füllungen\n",
    "        längen_auswahl  = [7, 6, 5, 4, 3, 2, 1, 0]\n",
    "        indices_auswahl = [7, 5, 5, 4, 4, 2, 0, 0]   \n",
    "        '''Dies ist wie folgt zu lesen: Bereich text (7) wird als erstes aufgefüllt. Bereiche e- (5) und \n",
    "        nach-e (6) bleiben zusammen und es wird der Platz 5 zwischen dem 'e' und dem '-' aufgefüllt. \n",
    "        Auch der Platz 4 zwischen Bereichen e (4) und nach-komma (3) wird gefüllt. Das gleiche gilt für\n",
    "        Platz 0 vor Bereichen minus (0), vor-komma (1) und komma (2). Fehlt im Zahlenstring irgendeiner\n",
    "        dieser Bereiche wird sein Platz ebenso gefüllt.'''\n",
    "        for i in range(anzahl_strings):\n",
    "            for j in range(len(längen_auswahl)):\n",
    "                zahlen_liste[i] = _füllen(zahlen_liste[i], menge = längen_diff[i][längen_auswahl[j]], \n",
    "                                          index = indices[i][indices_auswahl[j]])\n",
    "    \n",
    "        \n",
    "        # Nachbearbeitung bei Sonderfällen\n",
    "        '''Wenn Minuszeichen vorhanden sind, wird überall ein Leerzeichen an Füllung deswegen eingebracht.\n",
    "        Da die Minuszeichen aber bei ihren Zahlen bleiben, kann es passieren, dass eine ganze Spalte an \n",
    "        Leerzeichen existiert (all(...)). Dieser wird hier entfernt, da überflüssig.'''\n",
    "        test_leerzeichen = [' ' in string[0] for string in zahlen_liste]\n",
    "        test_e_leer      = ['e ' in string if 'e' in string else True for string in zahlen_liste]\n",
    "        if all(test_leerzeichen):\n",
    "            for i in range(anzahl_strings):\n",
    "                zahlen_liste[i] = zahlen_liste[i][1:]\n",
    "        if all(test_e_leer) and any(test_e):\n",
    "            index_e_string = test_e.index(True)\n",
    "            index_nach_e   = zahlen_liste[index_e_string].index('e') + 1\n",
    "            zahlen_liste   = [_entfernen(string, index_nach_e) for string in zahlen_liste]\n",
    "        \n",
    "        \n",
    "        länge_gesamt = len(zahlen_liste[0])\n",
    "    else:   # Falls keine Zahlenstrings in zahlen_liste vorhanden\n",
    "        länge_gesamt = max([len(string) for i, string in nicht_zahlen])\n",
    "    \n",
    "    \n",
    "    # Zentrierte nicht-Zahlenstrings werden wieder in die Liste eingefügt.\n",
    "    for index, string in nicht_zahlen:\n",
    "        zahlen_liste.insert(index, _zentrieren_rechts(string, länge_gesamt))\n",
    "            \n",
    "            \n",
    "    return zahlen_liste"
   ]
  },
  {
   "cell_type": "code",
   "execution_count": 19,
   "metadata": {},
   "outputs": [
    {
     "name": "stdout",
     "output_type": "stream",
     "text": [
      "'    1.003         '\n",
      "'  789       e -3  '\n",
      "'         -        '\n",
      "'                  '\n",
      "'                  '\n",
      "'  -29.4834  e100  '\n",
      "'   -0.000334      '\n",
      "'         x        '\n",
      "'53449             '\n",
      "'       -- %       '\n",
      "'   27            %'\n",
      "'   -5.81         %'\n",
      "'    1.239   e-24 %'\n"
     ]
    }
   ],
   "source": [
    "liste = ['1.003', '789e-3', '-', '', ' ', '-29.4834e100', '-0.000334', 'x', '53449', '-- %', '27 %', \n",
    "         '-5.81 %', '1.239e-24 %']\n",
    "liste_ausgerichtet = _zahlen_ausrichtung(liste)\n",
    "for string in liste_ausgerichtet:\n",
    "    print(repr(string))"
   ]
  },
  {
   "cell_type": "code",
   "execution_count": 20,
   "metadata": {},
   "outputs": [
    {
     "name": "stdout",
     "output_type": "stream",
     "text": [
      "'  - '\n",
      "'    '\n",
      "'    '\n",
      "'  x '\n",
      "'-- %'\n"
     ]
    }
   ],
   "source": [
    "liste = ['-', '', ' ', 'x', '-- %']\n",
    "liste_ausgerichtet = _zahlen_ausrichtung(liste)\n",
    "for string in liste_ausgerichtet:\n",
    "    print(repr(string))"
   ]
  },
  {
   "cell_type": "code",
   "execution_count": 21,
   "metadata": {},
   "outputs": [
    {
     "name": "stdout",
     "output_type": "stream",
     "text": [
      "'-'\n"
     ]
    }
   ],
   "source": [
    "liste = ['-']\n",
    "liste_ausgerichtet = _zahlen_ausrichtung(liste)\n",
    "for string in liste_ausgerichtet:\n",
    "    print(repr(string))"
   ]
  },
  {
   "cell_type": "code",
   "execution_count": 22,
   "metadata": {},
   "outputs": [
    {
     "name": "stdout",
     "output_type": "stream",
     "text": [
      "'    1.003         '\n",
      "'  789       e -3  '\n",
      "'  -29.4834  e100  '\n",
      "'   -0.000334      '\n",
      "'53449             '\n",
      "'   27            %'\n",
      "'   -5.81         %'\n",
      "'    1.239   e-24 %'\n"
     ]
    }
   ],
   "source": [
    "liste = ['1.003', '789e-3', '-29.4834e100', '-0.000334', '53449', '27 %', '-5.81 %', '1.239e-24 %']\n",
    "liste_ausgerichtet = _zahlen_ausrichtung(liste)\n",
    "for string in liste_ausgerichtet:\n",
    "    print(repr(string))"
   ]
  },
  {
   "cell_type": "code",
   "execution_count": 23,
   "metadata": {},
   "outputs": [
    {
     "name": "stdout",
     "output_type": "stream",
     "text": [
      "'-29.4834e100'\n"
     ]
    }
   ],
   "source": [
    "liste = ['-29.4834e100']\n",
    "liste_ausgerichtet = _zahlen_ausrichtung(liste)\n",
    "for string in liste_ausgerichtet:\n",
    "    print(repr(string))"
   ]
  },
  {
   "cell_type": "code",
   "execution_count": 24,
   "metadata": {},
   "outputs": [],
   "source": [
    "# Test - leere Liste\n",
    "\n",
    "liste = []\n",
    "liste_ausgerichtet = _zahlen_ausrichtung(liste)\n",
    "for string in liste_ausgerichtet:\n",
    "    print(repr(string))"
   ]
  },
  {
   "cell_type": "markdown",
   "metadata": {},
   "source": [
    "### _plus_minus"
   ]
  },
  {
   "cell_type": "code",
   "execution_count": 25,
   "metadata": {},
   "outputs": [],
   "source": [
    "'''\n",
    "Benötigt von:\n",
    "* pap.vergleichstabelle()\n",
    "'''\n",
    "\n",
    "\n",
    "def _plus_minus(string_liste):\n",
    "    '''entscheidet, welche Strings in einer Liste von Strings mit einem Plus-Minus-Zeichen versehen werden \n",
    "    sollen und welche nicht. Diese Funktion ergibt nur als direkte Hilfsfunktion von pap.vergleichstabelle()\n",
    "    Sinn.\n",
    "    \n",
    "    \n",
    "    Argumente\n",
    "    ---------\n",
    "    string_liste : list  (str) \n",
    "    \n",
    "    \n",
    "    Output\n",
    "    ------\n",
    "    plus_minus : list  (str)\n",
    "    '''\n",
    "    \n",
    "    \n",
    "    plus_minus = []\n",
    "    for string in string_liste:\n",
    "        if string == '':   # Falls string leer ist.\n",
    "            plus_minus.append('')\n",
    "        elif all([zeichen == ' ' for zeichen in string]):   # Falls string nur aus Leerzeichen besteht.\n",
    "            plus_minus.append('   ')\n",
    "        else:\n",
    "            plus_minus.append(' ± ')   # Falls string aus mehr besteht.\n",
    "    \n",
    "    return plus_minus"
   ]
  },
  {
   "cell_type": "code",
   "execution_count": 26,
   "metadata": {},
   "outputs": [
    {
     "data": {
      "text/plain": [
       "['', '   ', ' ± ']"
      ]
     },
     "execution_count": 26,
     "metadata": {},
     "output_type": "execute_result"
    }
   ],
   "source": [
    "liste = ['', '    ', '123']\n",
    "_plus_minus(liste)"
   ]
  }
 ],
 "metadata": {
  "kernelspec": {
   "display_name": "Python 3",
   "language": "python",
   "name": "python3"
  },
  "language_info": {
   "codemirror_mode": {
    "name": "ipython",
    "version": 3
   },
   "file_extension": ".py",
   "mimetype": "text/x-python",
   "name": "python",
   "nbconvert_exporter": "python",
   "pygments_lexer": "ipython3",
   "version": "3.8.5"
  }
 },
 "nbformat": 4,
 "nbformat_minor": 4
}
