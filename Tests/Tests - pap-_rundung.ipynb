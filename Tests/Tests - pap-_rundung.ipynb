{
 "cells": [
  {
   "cell_type": "code",
   "execution_count": 1,
   "metadata": {},
   "outputs": [],
   "source": [
    "import numpy as np\n",
    "from numpy import array as arr"
   ]
  },
  {
   "cell_type": "markdown",
   "metadata": {},
   "source": [
    "# pap._rundung() - Entwicklung"
   ]
  },
  {
   "cell_type": "code",
   "execution_count": 2,
   "metadata": {},
   "outputs": [],
   "source": [
    "def _rundung_einzel(wert, präzision):\n",
    "    '''\n",
    "    Die Rundung mit einem Array von Nachkommastellen  (präzisionen)  funktioniert deshalb, da in rekursiven\n",
    "    for-Loops die Arrays in einzelne Elemente aufgebrochen werden, welche dann gerundet werden.\n",
    "    \n",
    "    \n",
    "    Argumente (sollten schon durch  _rundung()  passend gemacht worden sein.)\n",
    "    ---------\n",
    "    werte : np.ndarray (number_like), number_like\n",
    "    \n",
    "    präzisionen : np.ndarray (int), int\n",
    "    \n",
    "    \n",
    "    Output\n",
    "    ------\n",
    "    wert_gerundet : np.ndarray (number_like), number_like\n",
    "        Mit Pythons  round()  auf nächste gerade Ziffer gerundet (symmetrisches Runden).\n",
    "        Form und Elemente sonst gleich wie  werte.\n",
    "    '''\n",
    "    \n",
    "    \n",
    "    \n",
    "    anzahl_dimensionen = np.ndim(wert)   # Entsprechend viele Rekursionen werden stattfinden.\n",
    "    \n",
    "    # Eigentliche Rundung\n",
    "    if anzahl_dimensionen == 0:\n",
    "        wert_gerundet = round(wert, präzision)\n",
    "    \n",
    "    # Aufrufen von  _rundung_einzel()  um in einem for-Loop die Elemente von werte abzuarbeiten.\n",
    "    elif anzahl_dimensionen > 0:\n",
    "        wert_form = np.shape(wert)\n",
    "        wert_gerundet = np.zeros(wert_form)\n",
    "        for i in range(wert_form[0]):\n",
    "            wert_gerundet[i] = _rundung_einzel(wert[i], präzision[i])\n",
    "            \n",
    "    return wert_gerundet   # Die gesammelten gerundeten Werte werden als Ergebnis zur vorigen Funktion\n",
    "                           # zurückgeschickt."
   ]
  },
  {
   "cell_type": "code",
   "execution_count": 3,
   "metadata": {},
   "outputs": [],
   "source": [
    "def _rundung(werte, präzisionen):\n",
    "    '''\n",
    "    Rundet  werte  auf ihre jeweilige Anzahl Nachkommastellen  (präzisionen).\n",
    "    Im Gegensatz zu  np.round()  kann diese Funktion  werte  mit ganzen Arrays von Nachkommastellen runden.\n",
    "    Für Details zum Rundungsprozess siehe  _rundung_einzel().\n",
    "    \n",
    "    \n",
    "    Argumente\n",
    "    ---------\n",
    "    werte : np.ndarray (number_like), number_like\n",
    "        Kann beliebige Form haben und auch Einzelwert sein.\n",
    "    \n",
    "    präzisionen : np.ndarray (int), int\n",
    "        Muss gleiche Form wie  werte  haben oder int sein.\n",
    "    \n",
    "    \n",
    "    Output\n",
    "    ------\n",
    "    \"wert_gerundet\" : np.ndarray (number_like), number_like\n",
    "        Mit Pythons  round()  auf nächste gerade Ziffer gerundet (symmetrisches Runden).\n",
    "        Form und Elemente sonst gleich wie  werte.\n",
    "    '''\n",
    "    \n",
    "    \n",
    "    \n",
    "    # Überprüfung und Anpassung der Argumente\n",
    "    präzisionen = arr(präzisionen)  # Falls Einzelwert\n",
    "    if präzisionen.dtype != int:\n",
    "        print('präzisionen darf nur Integers enthalten!')\n",
    "        print('Die Anzahl Stellen, auf die gerundet wird, kann nur ganzzahlig sein.')\n",
    "    \n",
    "    if np.shape(werte) != np.shape(präzisionen):\n",
    "        if np.ndim(präzisionen) == 0:   # Falls  präzisionen  Einzelwert, dann wird\n",
    "                                        # daraus ein Array derselben Form wie  werte  gemacht.\n",
    "            präzisionen = np.full(np.shape(werte), präzisionen)\n",
    "        else:\n",
    "            print('werte und präzisionen müssen die gleiche np.shape haben!')\n",
    "            print('np.shape(werte) =', np.shape(werte))\n",
    "            print('np.shape(präzisionen) =', np.shape(präzisionen))\n",
    "    \n",
    "    \n",
    "    # Eigentlicher Rundungsprozess\n",
    "    return _rundung_einzel(werte, präzisionen)"
   ]
  },
  {
   "cell_type": "code",
   "execution_count": 4,
   "metadata": {},
   "outputs": [],
   "source": [
    "def _negativ_wird_null(array):\n",
    "    '''\n",
    "    \"Rampenfunktion\": Die Werte von array, die negativ sind, werden durch 0 ersetzt.\n",
    "    \n",
    "    \n",
    "    Argument\n",
    "    --------\n",
    "    array : np.ndarray (number_like)\n",
    "    '''\n",
    "    \n",
    "    \n",
    "    nullen = np.full(np.shape(array), 0)\n",
    "    return np.where(array > 0, array, nullen)"
   ]
  },
  {
   "cell_type": "markdown",
   "metadata": {},
   "source": [
    "## Tests"
   ]
  },
  {
   "cell_type": "code",
   "execution_count": 5,
   "metadata": {},
   "outputs": [
    {
     "data": {
      "text/plain": [
       "-34.34"
      ]
     },
     "execution_count": 5,
     "metadata": {},
     "output_type": "execute_result"
    }
   ],
   "source": [
    "# Einzelne Zahlen\n",
    "_rundung(-34.342, 2)"
   ]
  },
  {
   "cell_type": "code",
   "execution_count": 6,
   "metadata": {},
   "outputs": [
    {
     "name": "stdout",
     "output_type": "stream",
     "text": [
      "präzisionen darf nur Integers enthalten!\n",
      "Die Anzahl Stellen, auf die gerundet wird, kann nur ganzzahlig sein.\n"
     ]
    },
    {
     "ename": "TypeError",
     "evalue": "only integer scalar arrays can be converted to a scalar index",
     "output_type": "error",
     "traceback": [
      "\u001b[0;31m---------------------------------------------------------------------------\u001b[0m",
      "\u001b[0;31mTypeError\u001b[0m                                 Traceback (most recent call last)",
      "\u001b[0;32m<ipython-input-6-e1b16f6e101e>\u001b[0m in \u001b[0;36m<module>\u001b[0;34m\u001b[0m\n\u001b[1;32m      1\u001b[0m \u001b[0;31m# nicht-ganzzahlige Präzision\u001b[0m\u001b[0;34m\u001b[0m\u001b[0;34m\u001b[0m\u001b[0;34m\u001b[0m\u001b[0m\n\u001b[0;32m----> 2\u001b[0;31m \u001b[0m_rundung\u001b[0m\u001b[0;34m(\u001b[0m\u001b[0;36m34.342\u001b[0m\u001b[0;34m,\u001b[0m \u001b[0;36m3.2\u001b[0m\u001b[0;34m)\u001b[0m   \u001b[0;31m# Soll Fehlermeldung generieren\u001b[0m\u001b[0;34m\u001b[0m\u001b[0;34m\u001b[0m\u001b[0m\n\u001b[0m",
      "\u001b[0;32m<ipython-input-3-8e6cbf4579df>\u001b[0m in \u001b[0;36m_rundung\u001b[0;34m(werte, präzisionen)\u001b[0m\n\u001b[1;32m     41\u001b[0m \u001b[0;34m\u001b[0m\u001b[0m\n\u001b[1;32m     42\u001b[0m     \u001b[0;31m# Eigentlicher Rundungsprozess\u001b[0m\u001b[0;34m\u001b[0m\u001b[0;34m\u001b[0m\u001b[0;34m\u001b[0m\u001b[0m\n\u001b[0;32m---> 43\u001b[0;31m     \u001b[0;32mreturn\u001b[0m \u001b[0m_rundung_einzel\u001b[0m\u001b[0;34m(\u001b[0m\u001b[0mwerte\u001b[0m\u001b[0;34m,\u001b[0m \u001b[0mpräzisionen\u001b[0m\u001b[0;34m)\u001b[0m\u001b[0;34m\u001b[0m\u001b[0;34m\u001b[0m\u001b[0m\n\u001b[0m",
      "\u001b[0;32m<ipython-input-2-780e9b9021b8>\u001b[0m in \u001b[0;36m_rundung_einzel\u001b[0;34m(wert, präzision)\u001b[0m\n\u001b[1;32m     25\u001b[0m     \u001b[0;31m# Eigentliche Rundung\u001b[0m\u001b[0;34m\u001b[0m\u001b[0;34m\u001b[0m\u001b[0;34m\u001b[0m\u001b[0m\n\u001b[1;32m     26\u001b[0m     \u001b[0;32mif\u001b[0m \u001b[0manzahl_dimensionen\u001b[0m \u001b[0;34m==\u001b[0m \u001b[0;36m0\u001b[0m\u001b[0;34m:\u001b[0m\u001b[0;34m\u001b[0m\u001b[0;34m\u001b[0m\u001b[0m\n\u001b[0;32m---> 27\u001b[0;31m         \u001b[0mwert_gerundet\u001b[0m \u001b[0;34m=\u001b[0m \u001b[0mround\u001b[0m\u001b[0;34m(\u001b[0m\u001b[0mwert\u001b[0m\u001b[0;34m,\u001b[0m \u001b[0mpräzision\u001b[0m\u001b[0;34m)\u001b[0m\u001b[0;34m\u001b[0m\u001b[0;34m\u001b[0m\u001b[0m\n\u001b[0m\u001b[1;32m     28\u001b[0m \u001b[0;34m\u001b[0m\u001b[0m\n\u001b[1;32m     29\u001b[0m     \u001b[0;31m# Aufrufen von  _rundung_einzel()  um in einem for-Loop die Elemente von werte abzuarbeiten.\u001b[0m\u001b[0;34m\u001b[0m\u001b[0;34m\u001b[0m\u001b[0;34m\u001b[0m\u001b[0m\n",
      "\u001b[0;31mTypeError\u001b[0m: only integer scalar arrays can be converted to a scalar index"
     ]
    }
   ],
   "source": [
    "# nicht-ganzzahlige Präzision\n",
    "_rundung(34.342, 3.2)   # Soll Fehlermeldung generieren"
   ]
  },
  {
   "cell_type": "code",
   "execution_count": 7,
   "metadata": {},
   "outputs": [
    {
     "data": {
      "text/plain": [
       "array([ 33.3, -40. ,  42.9])"
      ]
     },
     "execution_count": 7,
     "metadata": {},
     "output_type": "execute_result"
    }
   ],
   "source": [
    "# Rundung eines Arrays mit einer einzigen Präzision\n",
    "_rundung(arr([100/3, -200 / 5, 300 / 7]), 1) # soll alle auf ein Kommastelle runden"
   ]
  },
  {
   "cell_type": "code",
   "execution_count": 8,
   "metadata": {},
   "outputs": [
    {
     "data": {
      "text/plain": [
       "array([30., 40., 40.])"
      ]
     },
     "execution_count": 8,
     "metadata": {},
     "output_type": "execute_result"
    }
   ],
   "source": [
    "# negative Präzission\n",
    "_rundung(arr([100/3, 200 / 5, 300 / 7]), -1) # soll auf Zehner runden"
   ]
  },
  {
   "cell_type": "code",
   "execution_count": 9,
   "metadata": {
    "scrolled": false
   },
   "outputs": [
    {
     "data": {
      "text/plain": [
       "array([[[0.3       , 0.67      ],\n",
       "        [1.        , 1.3333    ]],\n",
       "\n",
       "       [[1.66667   , 2.        ],\n",
       "        [2.3333333 , 2.66666667]]])"
      ]
     },
     "execution_count": 9,
     "metadata": {},
     "output_type": "execute_result"
    }
   ],
   "source": [
    "# Rundung eines Arrays mit ebenso geformten Präzisions-Array\n",
    "array = arr([[[1, 2], [3, 4]], [[5, 6], [7, 8]]]) / 3\n",
    "nachkommastellen = arr([[[1, 2], [3, 4]], [[5, 6], [7, 8]]])\n",
    "\n",
    "_rundung(array, nachkommastellen)"
   ]
  },
  {
   "cell_type": "code",
   "execution_count": 10,
   "metadata": {},
   "outputs": [
    {
     "name": "stdout",
     "output_type": "stream",
     "text": [
      "werte und präzisionen müssen die gleiche np.shape haben!\n",
      "np.shape(werte) = (2, 2, 2)\n",
      "np.shape(präzisionen) = (4, 2)\n"
     ]
    },
    {
     "ename": "IndexError",
     "evalue": "invalid index to scalar variable.",
     "output_type": "error",
     "traceback": [
      "\u001b[0;31m---------------------------------------------------------------------------\u001b[0m",
      "\u001b[0;31mIndexError\u001b[0m                                Traceback (most recent call last)",
      "\u001b[0;32m<ipython-input-10-2acfe33b1e4c>\u001b[0m in \u001b[0;36m<module>\u001b[0;34m\u001b[0m\n\u001b[1;32m      3\u001b[0m \u001b[0mnachkommastellen\u001b[0m \u001b[0;34m=\u001b[0m \u001b[0marr\u001b[0m\u001b[0;34m(\u001b[0m\u001b[0;34m[\u001b[0m\u001b[0;34m[\u001b[0m\u001b[0;36m1\u001b[0m\u001b[0;34m,\u001b[0m \u001b[0;36m2\u001b[0m\u001b[0;34m]\u001b[0m\u001b[0;34m,\u001b[0m \u001b[0;34m[\u001b[0m\u001b[0;36m3\u001b[0m\u001b[0;34m,\u001b[0m \u001b[0;36m4\u001b[0m\u001b[0;34m]\u001b[0m\u001b[0;34m,\u001b[0m \u001b[0;34m[\u001b[0m\u001b[0;36m5\u001b[0m\u001b[0;34m,\u001b[0m \u001b[0;36m6\u001b[0m\u001b[0;34m]\u001b[0m\u001b[0;34m,\u001b[0m \u001b[0;34m[\u001b[0m\u001b[0;36m7\u001b[0m\u001b[0;34m,\u001b[0m \u001b[0;36m8\u001b[0m\u001b[0;34m]\u001b[0m\u001b[0;34m]\u001b[0m\u001b[0;34m)\u001b[0m\u001b[0;34m\u001b[0m\u001b[0;34m\u001b[0m\u001b[0m\n\u001b[1;32m      4\u001b[0m \u001b[0;34m\u001b[0m\u001b[0m\n\u001b[0;32m----> 5\u001b[0;31m \u001b[0m_rundung\u001b[0m\u001b[0;34m(\u001b[0m\u001b[0marray\u001b[0m\u001b[0;34m,\u001b[0m \u001b[0mnachkommastellen\u001b[0m\u001b[0;34m)\u001b[0m\u001b[0;34m\u001b[0m\u001b[0;34m\u001b[0m\u001b[0m\n\u001b[0m",
      "\u001b[0;32m<ipython-input-3-8e6cbf4579df>\u001b[0m in \u001b[0;36m_rundung\u001b[0;34m(werte, präzisionen)\u001b[0m\n\u001b[1;32m     41\u001b[0m \u001b[0;34m\u001b[0m\u001b[0m\n\u001b[1;32m     42\u001b[0m     \u001b[0;31m# Eigentlicher Rundungsprozess\u001b[0m\u001b[0;34m\u001b[0m\u001b[0;34m\u001b[0m\u001b[0;34m\u001b[0m\u001b[0m\n\u001b[0;32m---> 43\u001b[0;31m     \u001b[0;32mreturn\u001b[0m \u001b[0m_rundung_einzel\u001b[0m\u001b[0;34m(\u001b[0m\u001b[0mwerte\u001b[0m\u001b[0;34m,\u001b[0m \u001b[0mpräzisionen\u001b[0m\u001b[0;34m)\u001b[0m\u001b[0;34m\u001b[0m\u001b[0;34m\u001b[0m\u001b[0m\n\u001b[0m",
      "\u001b[0;32m<ipython-input-2-780e9b9021b8>\u001b[0m in \u001b[0;36m_rundung_einzel\u001b[0;34m(wert, präzision)\u001b[0m\n\u001b[1;32m     32\u001b[0m         \u001b[0mwert_gerundet\u001b[0m \u001b[0;34m=\u001b[0m \u001b[0mnp\u001b[0m\u001b[0;34m.\u001b[0m\u001b[0mzeros\u001b[0m\u001b[0;34m(\u001b[0m\u001b[0mwert_form\u001b[0m\u001b[0;34m)\u001b[0m\u001b[0;34m\u001b[0m\u001b[0;34m\u001b[0m\u001b[0m\n\u001b[1;32m     33\u001b[0m         \u001b[0;32mfor\u001b[0m \u001b[0mi\u001b[0m \u001b[0;32min\u001b[0m \u001b[0mrange\u001b[0m\u001b[0;34m(\u001b[0m\u001b[0mwert_form\u001b[0m\u001b[0;34m[\u001b[0m\u001b[0;36m0\u001b[0m\u001b[0;34m]\u001b[0m\u001b[0;34m)\u001b[0m\u001b[0;34m:\u001b[0m\u001b[0;34m\u001b[0m\u001b[0;34m\u001b[0m\u001b[0m\n\u001b[0;32m---> 34\u001b[0;31m             \u001b[0mwert_gerundet\u001b[0m\u001b[0;34m[\u001b[0m\u001b[0mi\u001b[0m\u001b[0;34m]\u001b[0m \u001b[0;34m=\u001b[0m \u001b[0m_rundung_einzel\u001b[0m\u001b[0;34m(\u001b[0m\u001b[0mwert\u001b[0m\u001b[0;34m[\u001b[0m\u001b[0mi\u001b[0m\u001b[0;34m]\u001b[0m\u001b[0;34m,\u001b[0m \u001b[0mpräzision\u001b[0m\u001b[0;34m[\u001b[0m\u001b[0mi\u001b[0m\u001b[0;34m]\u001b[0m\u001b[0;34m)\u001b[0m\u001b[0;34m\u001b[0m\u001b[0;34m\u001b[0m\u001b[0m\n\u001b[0m\u001b[1;32m     35\u001b[0m \u001b[0;34m\u001b[0m\u001b[0m\n\u001b[1;32m     36\u001b[0m     \u001b[0;32mreturn\u001b[0m \u001b[0mwert_gerundet\u001b[0m   \u001b[0;31m# Die gesammelten gerundeten Werte werden als Ergebnis zur vorigen Funktion\u001b[0m\u001b[0;34m\u001b[0m\u001b[0;34m\u001b[0m\u001b[0m\n",
      "\u001b[0;32m<ipython-input-2-780e9b9021b8>\u001b[0m in \u001b[0;36m_rundung_einzel\u001b[0;34m(wert, präzision)\u001b[0m\n\u001b[1;32m     32\u001b[0m         \u001b[0mwert_gerundet\u001b[0m \u001b[0;34m=\u001b[0m \u001b[0mnp\u001b[0m\u001b[0;34m.\u001b[0m\u001b[0mzeros\u001b[0m\u001b[0;34m(\u001b[0m\u001b[0mwert_form\u001b[0m\u001b[0;34m)\u001b[0m\u001b[0;34m\u001b[0m\u001b[0;34m\u001b[0m\u001b[0m\n\u001b[1;32m     33\u001b[0m         \u001b[0;32mfor\u001b[0m \u001b[0mi\u001b[0m \u001b[0;32min\u001b[0m \u001b[0mrange\u001b[0m\u001b[0;34m(\u001b[0m\u001b[0mwert_form\u001b[0m\u001b[0;34m[\u001b[0m\u001b[0;36m0\u001b[0m\u001b[0;34m]\u001b[0m\u001b[0;34m)\u001b[0m\u001b[0;34m:\u001b[0m\u001b[0;34m\u001b[0m\u001b[0;34m\u001b[0m\u001b[0m\n\u001b[0;32m---> 34\u001b[0;31m             \u001b[0mwert_gerundet\u001b[0m\u001b[0;34m[\u001b[0m\u001b[0mi\u001b[0m\u001b[0;34m]\u001b[0m \u001b[0;34m=\u001b[0m \u001b[0m_rundung_einzel\u001b[0m\u001b[0;34m(\u001b[0m\u001b[0mwert\u001b[0m\u001b[0;34m[\u001b[0m\u001b[0mi\u001b[0m\u001b[0;34m]\u001b[0m\u001b[0;34m,\u001b[0m \u001b[0mpräzision\u001b[0m\u001b[0;34m[\u001b[0m\u001b[0mi\u001b[0m\u001b[0;34m]\u001b[0m\u001b[0;34m)\u001b[0m\u001b[0;34m\u001b[0m\u001b[0;34m\u001b[0m\u001b[0m\n\u001b[0m\u001b[1;32m     35\u001b[0m \u001b[0;34m\u001b[0m\u001b[0m\n\u001b[1;32m     36\u001b[0m     \u001b[0;32mreturn\u001b[0m \u001b[0mwert_gerundet\u001b[0m   \u001b[0;31m# Die gesammelten gerundeten Werte werden als Ergebnis zur vorigen Funktion\u001b[0m\u001b[0;34m\u001b[0m\u001b[0;34m\u001b[0m\u001b[0m\n",
      "\u001b[0;32m<ipython-input-2-780e9b9021b8>\u001b[0m in \u001b[0;36m_rundung_einzel\u001b[0;34m(wert, präzision)\u001b[0m\n\u001b[1;32m     32\u001b[0m         \u001b[0mwert_gerundet\u001b[0m \u001b[0;34m=\u001b[0m \u001b[0mnp\u001b[0m\u001b[0;34m.\u001b[0m\u001b[0mzeros\u001b[0m\u001b[0;34m(\u001b[0m\u001b[0mwert_form\u001b[0m\u001b[0;34m)\u001b[0m\u001b[0;34m\u001b[0m\u001b[0;34m\u001b[0m\u001b[0m\n\u001b[1;32m     33\u001b[0m         \u001b[0;32mfor\u001b[0m \u001b[0mi\u001b[0m \u001b[0;32min\u001b[0m \u001b[0mrange\u001b[0m\u001b[0;34m(\u001b[0m\u001b[0mwert_form\u001b[0m\u001b[0;34m[\u001b[0m\u001b[0;36m0\u001b[0m\u001b[0;34m]\u001b[0m\u001b[0;34m)\u001b[0m\u001b[0;34m:\u001b[0m\u001b[0;34m\u001b[0m\u001b[0;34m\u001b[0m\u001b[0m\n\u001b[0;32m---> 34\u001b[0;31m             \u001b[0mwert_gerundet\u001b[0m\u001b[0;34m[\u001b[0m\u001b[0mi\u001b[0m\u001b[0;34m]\u001b[0m \u001b[0;34m=\u001b[0m \u001b[0m_rundung_einzel\u001b[0m\u001b[0;34m(\u001b[0m\u001b[0mwert\u001b[0m\u001b[0;34m[\u001b[0m\u001b[0mi\u001b[0m\u001b[0;34m]\u001b[0m\u001b[0;34m,\u001b[0m \u001b[0mpräzision\u001b[0m\u001b[0;34m[\u001b[0m\u001b[0mi\u001b[0m\u001b[0;34m]\u001b[0m\u001b[0;34m)\u001b[0m\u001b[0;34m\u001b[0m\u001b[0;34m\u001b[0m\u001b[0m\n\u001b[0m\u001b[1;32m     35\u001b[0m \u001b[0;34m\u001b[0m\u001b[0m\n\u001b[1;32m     36\u001b[0m     \u001b[0;32mreturn\u001b[0m \u001b[0mwert_gerundet\u001b[0m   \u001b[0;31m# Die gesammelten gerundeten Werte werden als Ergebnis zur vorigen Funktion\u001b[0m\u001b[0;34m\u001b[0m\u001b[0;34m\u001b[0m\u001b[0m\n",
      "\u001b[0;31mIndexError\u001b[0m: invalid index to scalar variable."
     ]
    }
   ],
   "source": [
    "# Rundung eines Arrays mit anders geformten Präzisions-Array\n",
    "array = arr([[[1, 2], [3, 4]], [[5, 6], [7, 8]]]) / 3\n",
    "nachkommastellen = arr([[1, 2], [3, 4], [5, 6], [7, 8]])\n",
    "\n",
    "_rundung(array, nachkommastellen)"
   ]
  },
  {
   "cell_type": "markdown",
   "metadata": {},
   "source": [
    "### Rundungsgeschwindigkeiten"
   ]
  },
  {
   "cell_type": "code",
   "execution_count": 11,
   "metadata": {},
   "outputs": [
    {
     "data": {
      "text/plain": [
       "array([16.06, 16.06, 16.06, ..., 16.06, 16.06, 16.06])"
      ]
     },
     "execution_count": 11,
     "metadata": {},
     "output_type": "execute_result"
    }
   ],
   "source": [
    "# Am schnellsten\n",
    "wert_array = np.full((int(1e8), ), 16.055)\n",
    "np.around(wert_array, 2)"
   ]
  },
  {
   "cell_type": "code",
   "execution_count": 12,
   "metadata": {},
   "outputs": [],
   "source": [
    "# Langsamer\n",
    "for i in range(int(1e6)):\n",
    "    round(16.055, 2)"
   ]
  },
  {
   "cell_type": "code",
   "execution_count": 13,
   "metadata": {},
   "outputs": [],
   "source": [
    "# Am langsamsten\n",
    "for i in np.arange(np.int(1e6)):\n",
    "    np.around(16.055, 2)"
   ]
  },
  {
   "cell_type": "code",
   "execution_count": 14,
   "metadata": {},
   "outputs": [
    {
     "name": "stdout",
     "output_type": "stream",
     "text": [
      "3\n",
      "3.5\n",
      "3.4550000000\n",
      "3.0\n",
      "3.0000000000\n"
     ]
    }
   ],
   "source": [
    "print(f'{3.455:.0f}')\n",
    "print(f'{3.455:.1f}')\n",
    "print(f'{3.455:.10f}')\n",
    "print(f'{3.000:.1f}')\n",
    "print(f'{3.000:.10f}')"
   ]
  }
 ],
 "metadata": {
  "kernelspec": {
   "display_name": "Python 3",
   "language": "python",
   "name": "python3"
  },
  "language_info": {
   "codemirror_mode": {
    "name": "ipython",
    "version": 3
   },
   "file_extension": ".py",
   "mimetype": "text/x-python",
   "name": "python",
   "nbconvert_exporter": "python",
   "pygments_lexer": "ipython3",
   "version": "3.8.5"
  }
 },
 "nbformat": 4,
 "nbformat_minor": 4
}
