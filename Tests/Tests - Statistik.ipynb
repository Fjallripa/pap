{
 "cells": [
  {
   "cell_type": "code",
   "execution_count": 1,
   "metadata": {},
   "outputs": [],
   "source": [
    "import numpy as np\n",
    "from numpy import array as arr\n",
    "\n",
    "from pap import std"
   ]
  },
  {
   "cell_type": "markdown",
   "metadata": {},
   "source": [
    "# Entwicklung grundlegender Statistik-Funktionen"
   ]
  },
  {
   "cell_type": "code",
   "execution_count": 2,
   "metadata": {},
   "outputs": [],
   "source": [
    "'''\n",
    "Benötigt:\n",
    "numpy als np\n",
    "np.array() als arr()\n",
    "\n",
    "pap.std()\n",
    "'''\n",
    "\n",
    "\n",
    "def mittel_fehler(*args, **kwargs):\n",
    "    '''\n",
    "    Experimenteller Fehler des Mittelwertes\n",
    "    \n",
    "    Die Funktion berechnet std(X) / sqrt(N) von einer Werteverteilung X mit N Werten.\n",
    "    Dabei ist std() = pap.std() also der Experimentelle Fehler des Einzelwertes.\n",
    "    Somit lassen sich genau die gleichen Argumente wie in np.std() einsetzen.\n",
    "    '''\n",
    "    \n",
    "    \n",
    "    werte = args[0]\n",
    "    shape = np.shape(werte)\n",
    "    if shape == (0,):   # Verhindert Fehlermeldung falls werte == []\n",
    "        return np.nan\n",
    "    \n",
    "    if 'axis' in kwargs and kwargs['axis'] != None:   \n",
    "        # Zweite Bedingung im if-Satz nötig, wenn man explizit axis = None angibt.\n",
    "        achsen        = kwargs['axis']\n",
    "        shape_rest    = (shape[achsen]  if type(achsen) == int  \n",
    "                         else arr([shape[i] for i in achsen]))\n",
    "        anzahl_zahlen = np.prod(shape_rest)\n",
    "    else:\n",
    "        anzahl_zahlen = np.product(shape)\n",
    "    \n",
    "    \n",
    "    fehler_des_mittelwertes = std(*args, **kwargs) / np.sqrt(anzahl_zahlen)\n",
    "    return fehler_des_mittelwertes"
   ]
  },
  {
   "cell_type": "markdown",
   "metadata": {},
   "source": [
    "## Tests"
   ]
  },
  {
   "cell_type": "code",
   "execution_count": 3,
   "metadata": {
    "scrolled": true
   },
   "outputs": [
    {
     "name": "stdout",
     "output_type": "stream",
     "text": [
      "np.shape(test_array) = (2, 3, 4)\n",
      "Anzahl Zahlen = 24\n"
     ]
    }
   ],
   "source": [
    "test_array = np.array([[[1, 2, 3, 4],     [5, 6, 7, 8],     [9, 10, 11, 12]], \n",
    "                       [[13, 14, 15, 16], [17, 18, 19, 20], [21, 22, 23, 24]]])\n",
    "print('np.shape(test_array) =', np.shape(test_array))\n",
    "print('Anzahl Zahlen =', np.product(np.shape(test_array)))"
   ]
  },
  {
   "cell_type": "code",
   "execution_count": 4,
   "metadata": {},
   "outputs": [
    {
     "name": "stdout",
     "output_type": "stream",
     "text": [
      "[[6. 6. 6. 6.]\n",
      " [6. 6. 6. 6.]\n",
      " [6. 6. 6. 6.]]\n",
      "[[6. 6. 6. 6.]\n",
      " [6. 6. 6. 6.]\n",
      " [6. 6. 6. 6.]]\n",
      "[[6. 6. 6. 6.]\n",
      " [6. 6. 6. 6.]\n",
      " [6. 6. 6. 6.]]\n"
     ]
    }
   ],
   "source": [
    "axis = 0\n",
    "anzahl_rest = 2\n",
    "\n",
    "print(np.std(test_array, axis = axis))\n",
    "print(std(test_array, axis = axis) / np.sqrt(anzahl_rest))\n",
    "print(mittel_fehler(test_array, axis = axis))"
   ]
  },
  {
   "cell_type": "code",
   "execution_count": 5,
   "metadata": {},
   "outputs": [
    {
     "name": "stdout",
     "output_type": "stream",
     "text": [
      "[[3.26598632 3.26598632 3.26598632 3.26598632]\n",
      " [3.26598632 3.26598632 3.26598632 3.26598632]]\n",
      "[[2.30940108 2.30940108 2.30940108 2.30940108]\n",
      " [2.30940108 2.30940108 2.30940108 2.30940108]]\n",
      "[[2.30940108 2.30940108 2.30940108 2.30940108]\n",
      " [2.30940108 2.30940108 2.30940108 2.30940108]]\n"
     ]
    }
   ],
   "source": [
    "axis = 1\n",
    "anzahl_rest = 3\n",
    "\n",
    "print(np.std(test_array, axis = axis))\n",
    "print(std(test_array, axis = axis) / np.sqrt(anzahl_rest))\n",
    "print(mittel_fehler(test_array, axis = axis))"
   ]
  },
  {
   "cell_type": "code",
   "execution_count": 6,
   "metadata": {},
   "outputs": [
    {
     "name": "stdout",
     "output_type": "stream",
     "text": [
      "[3.45205253 3.45205253]\n",
      "[1.040833 1.040833]\n",
      "[1.040833 1.040833]\n"
     ]
    }
   ],
   "source": [
    "axis = (1, 2)\n",
    "anzahl_rest = 12\n",
    "\n",
    "print(np.std(test_array, axis = axis))\n",
    "print(std(test_array, axis = axis) / np.sqrt(anzahl_rest))\n",
    "print(mittel_fehler(test_array, axis = axis))"
   ]
  },
  {
   "cell_type": "code",
   "execution_count": 7,
   "metadata": {
    "scrolled": true
   },
   "outputs": [
    {
     "name": "stdout",
     "output_type": "stream",
     "text": [
      "6.922186552431729\n",
      "1.4433756729740645\n",
      "1.4433756729740645\n"
     ]
    }
   ],
   "source": [
    "axis = (2, 0, 1)\n",
    "anzahl_rest = 24\n",
    "\n",
    "print(np.std(test_array, axis = axis))\n",
    "print(std(test_array, axis = axis) / np.sqrt(anzahl_rest))\n",
    "print(mittel_fehler(test_array, axis = axis))"
   ]
  },
  {
   "cell_type": "code",
   "execution_count": 8,
   "metadata": {
    "scrolled": true
   },
   "outputs": [
    {
     "name": "stdout",
     "output_type": "stream",
     "text": [
      "6.922186552431729\n",
      "1.4433756729740645\n",
      "1.4433756729740645\n"
     ]
    }
   ],
   "source": [
    "axis = None\n",
    "anzahl_rest = 24\n",
    "\n",
    "print(np.std(test_array, axis = axis))\n",
    "print(std(test_array, axis = axis) / np.sqrt(anzahl_rest))\n",
    "print(mittel_fehler(test_array, axis = axis))"
   ]
  },
  {
   "cell_type": "code",
   "execution_count": 10,
   "metadata": {},
   "outputs": [
    {
     "name": "stdout",
     "output_type": "stream",
     "text": [
      "nan\n",
      "nan\n",
      "nan\n"
     ]
    }
   ],
   "source": [
    "test_array = np.array([])\n",
    "\n",
    "print(np.std(test_array))\n",
    "print(std(test_array))\n",
    "print(mittel_fehler(test_array))"
   ]
  }
 ],
 "metadata": {
  "kernelspec": {
   "display_name": "Python 3",
   "language": "python",
   "name": "python3"
  },
  "language_info": {
   "codemirror_mode": {
    "name": "ipython",
    "version": 3
   },
   "file_extension": ".py",
   "mimetype": "text/x-python",
   "name": "python",
   "nbconvert_exporter": "python",
   "pygments_lexer": "ipython3",
   "version": "3.8.5"
  }
 },
 "nbformat": 4,
 "nbformat_minor": 4
}
