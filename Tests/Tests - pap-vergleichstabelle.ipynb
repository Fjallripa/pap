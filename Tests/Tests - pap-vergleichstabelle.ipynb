{
 "cells": [
  {
   "cell_type": "code",
   "execution_count": 1,
   "metadata": {},
   "outputs": [],
   "source": [
    "import numpy as np\n",
    "from numpy import array as arr\n",
    "from tabulate import tabulate"
   ]
  },
  {
   "cell_type": "code",
   "execution_count": 2,
   "metadata": {},
   "outputs": [],
   "source": [
    "import sys\n",
    "import socket\n",
    "if socket.gethostname() == 'Birks-iMac.fritz.box':\n",
    "    sys.path.append('/Users/Birk/Documents/Programmieren/Python/Eigener Code')\n",
    "else:\n",
    "    sys.path.append('/Home/ab227/linux/Eigener Code')\n",
    "from pap import *   # Eigene Funktionen zur Fehlerberechnung und Resulat-Darstellung\n",
    "from pap import _rundung, _istbool"
   ]
  },
  {
   "cell_type": "markdown",
   "metadata": {},
   "source": [
    "# pap.vergleichstabelle Tests"
   ]
  },
  {
   "cell_type": "markdown",
   "metadata": {},
   "source": [
    "## Status des Projekts\n",
    "* Skizzen, Planung und Übersicht ist auf dem iPad in 'Notizen Pap II'\n",
    "* Gerade wird an Punkt 5 - \"Rundung hinbekommen\" gearbeitet.\n",
    "* Dazu wird gerade versucht, das nachkommastellen-array in die String-Formatierungen bei \"# Darstellung der Werte\" einfließen zu lassen."
   ]
  },
  {
   "cell_type": "raw",
   "metadata": {},
   "source": [
    "123456789 123456789 123456789 123456789 123456789 123456789 123456789 123456789 123456789 123456789 123456789 12345\n",
    "# Testwerte\n",
    "theoretisch = arr([0.123])\n",
    "theoretisch_fehler = arr([0.012])\n",
    "experimentell = arr([1.098])\n",
    "experimentell_fehler = arr([0.987])\n",
    "\n",
    "werte = arr([theoretisch, theoretisch_fehler, experimentell, experimentell_fehler])\n",
    "print(werte)\n",
    "print(werte[1::2])"
   ]
  },
  {
   "cell_type": "raw",
   "metadata": {},
   "source": [
    "Docstring ToDo:\n",
    "* alle drei Abweichungen müssen erklärt werden\n",
    "* faktor muss erklärt werden\n",
    "\n",
    "\n",
    "Bedinungen für Eingabewerte:\n",
    "\"werte muss Format np.array([theo_wert, theo_fehler, ex_wert, ex_fehler]) oder\n",
    "                   np.array([theo_array, theo_fehler_array, ex_array, ex_fehler_array]) haben.\n",
    "Wenn keine Fehler für einzelne Werte oder arrays existieren, dann müssen die _fehler bzw. _fehler_arrays mit Nullen gefüllt sein.\"\n"
   ]
  },
  {
   "cell_type": "code",
   "execution_count": 3,
   "metadata": {},
   "outputs": [
    {
     "data": {
      "text/plain": [
       "\"\\nif nachkommastellen <= 0:\\n        wertepaar = np.int_(np.round(neue_werte, nachkommastellen))\\n        nachkommastellen = 0\\n    else:\\n        wertepaar = np.round(neue_werte, nachkommastellen) \\n    \\n    print(wertepaar)\\n    # Print des Ergebnis-Strings\\n    if len(werte) == 1:\\n        print(titel + ': {:.{prec}f} {}'.format(*[*wertepaar, einheit], \\n              prec = nachkommastellen))\\n    elif len(werte) == 2:\\n        print(titel + ': {:.{prec}f} +/- {:.{prec}f} {}'.format(*[*wertepaar, einheit], \\n              prec = nachkommastellen))\\n    elif len(werte) == 3:\\n        print(titel + ': {:.{prec}f} +/- {:.{prec}f}(sys) +/- {:.{prec}f}(stat) {}'\\n              .format(*[*wertepaar, einheit], prec = nachkommastellen))\\n    else:\\n        print('Zu viele Elemente in werte! >:(')\\n\""
      ]
     },
     "execution_count": 3,
     "metadata": {},
     "output_type": "execute_result"
    }
   ],
   "source": [
    "def vergleichstabelle(werte:np.ndarray, einheit = '', faktor = 1):\n",
    "    # Vorbearbeitung der Werte\n",
    "    if np.shape(werte) == (4,):   \n",
    "        werte = np.array(werte, ndmin = 2).T\n",
    "    werte = werte * faktor   # Umrechnung auf gewünschte Größenordnung bzw. Einheit\n",
    "    werte[1::2] = np.abs(werte[1::2])      # Keine negativen Fehlerwerte\n",
    "    theo, theo_fehler, ex, ex_fehler = werte\n",
    "    \n",
    "    \n",
    "    # Ausrechnen der Abweichungen\n",
    "    abweichung_abs = ex - theo\n",
    "    abweichung_abs_fehler = summen_fehler(arr([theo_fehler, ex_fehler]))\n",
    "    abweichung_rel = abweichung_abs / theo * 100   # [%]\n",
    "    abweichung_sig = np.abs(abweichung_abs_fehler / abweichung_abs)\n",
    "    \n",
    "    '''\n",
    "    abweichung_rel = abweichung_abs / theo * 100  if theo != 0  else  None   # [%]\n",
    "    abweichung_sig = np.abs(abweichung_abs_fehler / abweichung_abs)  if abweichung_abs != 0  else  None\n",
    "    if theo != 0:\n",
    "        abweichung_rel = abweichung_abs / theo * 100   # [%]\n",
    "    else:\n",
    "        abweichung_rel = None\n",
    "    if abweichung_abs != 0:\n",
    "        abweichung_sig = np.abs(abweichung_abs_fehler / abweichung_abs)\n",
    "    else:\n",
    "        abweichung_rel = None'''\n",
    "   \n",
    "\n",
    "    # Rundung der Werte\n",
    "    nachkommastellen = []\n",
    "    for fehler_liste in [theo_fehler, ex_fehler, abweichung_abs_fehler]:\n",
    "        größenordnung_liste = arr((np.floor(np.log10(fehler_liste))), dtype = 'float64')\n",
    "        signifikante_stellen = np.ones(len(fehler_liste))\n",
    "        i = 0\n",
    "        for fehler in fehler_liste:\n",
    "            if fehler / 10 ** größenordnung_liste[i] < 4.0:\n",
    "                signifikante_stellen[i] = 2\n",
    "            i += 1\n",
    "        nachkommastellen_liste = -größenordnung_liste + signifikante_stellen - 1    \n",
    "        nachkommastellen.append(nachkommastellen_liste)\n",
    "    nachkommastellen = np.array(nachkommastellen)\n",
    "    #print(nachkommastellen)  \n",
    "    \n",
    "    \n",
    "    # Darstellung der Werte\n",
    "    werte_aufzählung = np.arange(np.shape(werte)[1])\n",
    "    print('')\n",
    "    print([f'{theo[i]} +/- {theo_fehler[i]}' for i in werte_aufzählung])\n",
    "    print([f'{ex[i]} +/- {ex_fehler[i]}' for i in werte_aufzählung])\n",
    "    print([f'{abweichung_abs[i]} +/- {abweichung_abs_fehler[i]}'  for i in werte_aufzählung])\n",
    "    print([f'{abweichung_rel[i]} %' for i in werte_aufzählung])\n",
    "    print([f'{abweichung_sig[i]}' for i in werte_aufzählung])\n",
    "\n",
    "\n",
    "'''\n",
    "if nachkommastellen <= 0:\n",
    "        wertepaar = np.int_(np.round(neue_werte, nachkommastellen))\n",
    "        nachkommastellen = 0\n",
    "    else:\n",
    "        wertepaar = np.round(neue_werte, nachkommastellen) \n",
    "    \n",
    "    print(wertepaar)\n",
    "    # Print des Ergebnis-Strings\n",
    "    if len(werte) == 1:\n",
    "        print(titel + ': {:.{prec}f} {}'.format(*[*wertepaar, einheit], \n",
    "              prec = nachkommastellen))\n",
    "    elif len(werte) == 2:\n",
    "        print(titel + ': {:.{prec}f} +/- {:.{prec}f} {}'.format(*[*wertepaar, einheit], \n",
    "              prec = nachkommastellen))\n",
    "    elif len(werte) == 3:\n",
    "        print(titel + ': {:.{prec}f} +/- {:.{prec}f}(sys) +/- {:.{prec}f}(stat) {}'\n",
    "              .format(*[*wertepaar, einheit], prec = nachkommastellen))\n",
    "    else:\n",
    "        print('Zu viele Elemente in werte! >:(')\n",
    "'''\n",
    "\n",
    "\n"
   ]
  },
  {
   "cell_type": "code",
   "execution_count": 4,
   "metadata": {},
   "outputs": [
    {
     "name": "stdout",
     "output_type": "stream",
     "text": [
      "\n",
      "['0.123 +/- 0.012']\n",
      "['1.098 +/- 0.987']\n",
      "['0.9750000000000001 +/- 0.9870729456326923']\n",
      "['792.6829268292684 %']\n",
      "['1.0123825083412228']\n",
      "\n",
      "['-0.123 +/- 0.012']\n",
      "['1.098 +/- 0.987']\n",
      "['1.221 +/- 0.9870729456326923']\n",
      "['-992.6829268292684 %']\n",
      "['0.8084135508867258']\n",
      "\n",
      "['-0.123 +/- 0.012']\n",
      "['-1.098 +/- 0.987']\n",
      "['-0.9750000000000001 +/- 0.9870729456326923']\n",
      "['792.6829268292684 %']\n",
      "['1.0123825083412228']\n",
      "\n",
      "['0.123 +/- 0.012']\n",
      "['1.098 +/- 0.987']\n",
      "['0.9750000000000001 +/- 0.9870729456326923']\n",
      "['792.6829268292684 %']\n",
      "['1.0123825083412228']\n",
      "\n",
      "['0.123 +/- 0.012', '57.142857142857146 +/- 3.2857142857142856']\n",
      "['1.098 +/- 0.987', '48.142857142857146 +/- 4.142857142857143']\n",
      "['0.9750000000000001 +/- 0.9870729456326923', '-9.0 +/- 5.287644435234785']\n",
      "['792.6829268292684 %', '-15.75 %']\n",
      "['1.0123825083412228', '0.5875160483594206']\n"
     ]
    }
   ],
   "source": [
    "# Test der Funktion:\n",
    "vergleichstabelle(arr([0.123, 0.012, 1.098, 0.987]))\n",
    "vergleichstabelle(arr([-0.123, 0.012, 1.098, 0.987]))\n",
    "vergleichstabelle(arr([-0.123, 0.012, -1.098, 0.987]))\n",
    "vergleichstabelle(arr([0.123, -0.012, 1.098, 0.987]))\n",
    "vergleichstabelle(arr([[0.123, 400 / 7], \n",
    "                       [0.012, 23 / 7], \n",
    "                       [1.098, 337 / 7], \n",
    "                       [0.987, 29 / 7]]))"
   ]
  },
  {
   "cell_type": "code",
   "execution_count": 5,
   "metadata": {},
   "outputs": [
    {
     "data": {
      "text/plain": [
       "dtype('int64')"
      ]
     },
     "execution_count": 5,
     "metadata": {},
     "output_type": "execute_result"
    }
   ],
   "source": [
    "np.dtype(np.array([1])[0])"
   ]
  },
  {
   "cell_type": "markdown",
   "metadata": {},
   "source": [
    "# "
   ]
  },
  {
   "cell_type": "markdown",
   "metadata": {},
   "source": [
    "# "
   ]
  },
  {
   "cell_type": "code",
   "execution_count": 6,
   "metadata": {},
   "outputs": [],
   "source": [
    "def vergleichstabelle(werte_array:np.ndarray, titel:str = 'Vergleichstabelle', \n",
    "                       headers:list = [''], wertetitel:list = ['exp. Wert', 'the. Wert'], faktor = 1,\n",
    "                       float_format:str = '.2f'):\n",
    "    '''werte_array muss ein  Numpy Array mit shape = (4, X) oder (4,) sein.\n",
    "    '''\n",
    "    \n",
    "    if np.shape(werte_array) == (4,):\n",
    "        werte_array = np.array(werte_array, ndmin = 2).T\n",
    "    wert1, wert1_fehler, wert2, wert2_fehler = werte_array * faktor\n",
    "    \n",
    "    abweichung     = wert1 - wert2\n",
    "    abweichung_rel = abweichung / wert2 * 100   # [%], relative Abweichung \n",
    "    sigma          = np.abs(abweichung / np.sqrt(wert1_fehler**2 + wert2_fehler**2))\n",
    "\n",
    "    print(f'{titel}\\n')\n",
    "    print(tabulate([[wertetitel[0], *wert1], ['dessen Fehler', *wert1_fehler], [wertetitel[1], *wert2], \n",
    "                    ['dessen Fehler', *wert2_fehler], ['rel. Abweichung [%]', *abweichung_rel], \n",
    "                    ['Sigma', *sigma]], headers = headers, floatfmt = float_format))"
   ]
  },
  {
   "cell_type": "code",
   "execution_count": 7,
   "metadata": {},
   "outputs": [],
   "source": [
    "def listen_vergleichstabelle(titel:str, werte:np.ndarray, \n",
    "                             nachkommastellen:int = 0, umrechnungsfaktor = 1, ordnungswerte = []):\n",
    "    if np.shape(werte)[0] == 3:\n",
    "        liste1, liste2, liste2_fehler = werte * umrechnungsfaktor\n",
    "        liste1_fehler = np.zeros(len(liste1))\n",
    "    elif np.shape(werte)[0] == 4:\n",
    "        liste1, liste1_fehler, liste2, liste2_fehler = werte * umrechnungsfaktor\n",
    "    else:\n",
    "        print('Format noch nicht definiert oder werte falsch eingegeben.')\n",
    "        \n",
    "    abweichung     = liste2 - liste1\n",
    "    abweichung_rel = abweichung / liste1 * 100   # [%], relative Abweichung \n",
    "    sigma          = np.abs(abweichung / np.sqrt(liste1_fehler**2 + liste2_fehler**2))\n",
    "\n",
    "    \n",
    "    if np.shape(werte)[0] == 3:\n",
    "        liste1_strings = ['{wert:.{prec}f}'.format(wert = liste1[i], prec = nachkommastellen)\n",
    "                          for i in range(len(liste1))]\n",
    "    elif np.shape(werte)[0] == 4:\n",
    "        liste1_strings = ['{wert:.{prec}f} +/- {fehler:.{prec}f}'.format(wert = liste1[i], \n",
    "                                                             fehler = liste1_fehler[i], \n",
    "                                                             prec = nachkommastellen)\n",
    "                          for i in range(len(liste1))]\n",
    "    \n",
    "    liste2_strings = ['{wert:.{prec}f} +/- {fehler:.{prec}f}'.format(wert = liste2[i], \n",
    "                                                             fehler = liste2_fehler[i], \n",
    "                                                             prec = nachkommastellen)\n",
    "                      for i in range(len(liste2))]\n",
    "        \n",
    "        \n",
    "    print(f'{titel}\\n')\n",
    "    if ordnungswerte == []:\n",
    "        print(tabulate(arr([liste1_strings, liste2_strings, abweichung_rel, sigma]).T, \n",
    "                       headers = ('theoretisch', 'experimentell', 'Abweichung [%]', 'Sigma'), \n",
    "                       floatfmt = '.1f', stralign = 'right', disable_numparse = [0]))\n",
    "    else:\n",
    "        print(tabulate(arr([ordnungswerte[1:], liste1_strings, liste2_strings, abweichung_rel, sigma]).T, \n",
    "                       headers = (ordnungswerte[0], 'theoretisch', 'experimentell', 'Abweichung [%]', 'Sigma'), \n",
    "                       floatfmt = '.1f', stralign = 'right', disable_numparse = [1]))"
   ]
  }
 ],
 "metadata": {
  "kernelspec": {
   "display_name": "Python 3",
   "language": "python",
   "name": "python3"
  },
  "language_info": {
   "codemirror_mode": {
    "name": "ipython",
    "version": 3
   },
   "file_extension": ".py",
   "mimetype": "text/x-python",
   "name": "python",
   "nbconvert_exporter": "python",
   "pygments_lexer": "ipython3",
   "version": "3.8.5"
  }
 },
 "nbformat": 4,
 "nbformat_minor": 4
}
