{
 "cells": [
  {
   "cell_type": "code",
   "execution_count": 1,
   "metadata": {},
   "outputs": [],
   "source": [
    "import numpy as np\n",
    "from numpy import array as arr\n",
    "\n",
    "from pap import summen_fehler\n",
    "from pap import _rundung, _rundung_einzel, _negativ_wird_null, _nachkommastelle, _größenordnung, _erste_ziffer\n",
    "from pap import _füllen, _entfernen, _zentrieren_rechts, _zahlen_ausrichtung, _plus_minus\n",
    "from pap import _listen_transponieren"
   ]
  },
  {
   "cell_type": "markdown",
   "metadata": {},
   "source": [
    "# pap.vergleichstabelle()-Entwicklung"
   ]
  },
  {
   "cell_type": "code",
   "execution_count": 3,
   "metadata": {},
   "outputs": [],
   "source": [
    "'''\n",
    "Benötigt:\n",
    "* numpy als np\n",
    "* np.array() als arr()\n",
    "\n",
    "* pap.summen_fehler()\n",
    "* pap._rundung()\n",
    "* pap._negativ_wird_null()\n",
    "* pap._nachkommastelle()\n",
    "* pap._größenordnung()\n",
    "* pap._listen_transponieren()\n",
    "* pap._zahlenausrichtung()\n",
    "* pap._füllen()\n",
    "* pap._zentrieren_rechts()\n",
    "* pap._plus_minus()\n",
    "'''\n",
    "\n",
    "\n",
    "def vergleichstabelle(werte, titel = '', einheit = '', größen = '', faktor = 1, ausrichtung = 'blöcke', \n",
    "                      beschreibung = 'standard'):\n",
    "    '''\n",
    "    Argumente\n",
    "    ---------\n",
    "    werte : np.ndarray (1D/2D, mit number_like oder None Elementen)\n",
    "        Darf folgende Formen haben:\n",
    "        * shape = (4, 0), np.array([ex_wert, ex_fehler, theo_wert, theo_fehler ])\n",
    "        * shape = (4, N), np.array([ex_liste, ex_fehler_liste, theo_liste, theo_fehler_liste]) mit \n",
    "            Listenlänge N, N = Anzahl der Wertvergleiche, die gemacht werden sollen\n",
    "        \n",
    "        Art der Werte:\n",
    "        Die Elemene dürfen reellwertige Zahlen sein (int, bool oder numpy-Äquivalente) oder None sein.\n",
    "        Ein Fehler-Wert, der None ist, wird als 0 interpretiert. Ein ex-/theo-Wert der None ist, wird als \n",
    "        fehlende Zahl interpretiert und es wird kein Vergleich durchgeführt, siehe \"Beispiele\".\n",
    "        \n",
    "    titel : str, optional\n",
    "    \n",
    "    einheit : str, optional\n",
    "    \n",
    "    größen : str, array_like (1D, mit str Elementen), optional\n",
    "        Überschriften für jeden Vergleich. Werden je nach Ausrichtung in der Titelzeile bzw. -spalte des \n",
    "        jeweiligen Vergleichs angezeigt.\n",
    "        Darf folgende Formen haben:\n",
    "        * str                   - einzelne Überschrift\n",
    "        * Liste bis Länge N     - bis zu eine Überschrift für jeden Vergleich. Bei weniger Überschriften \n",
    "                                  bekommen die letzten Vergleiche keine Überschrift\n",
    "        * Liste von Länge N + 1 - nur möglich, wenn einheit nicht angegeben. Erster String der Liste \n",
    "                                  ersetzt einheit und die Kennzeichnung 'Einheit' bzw. '[...]'. Die \n",
    "                                  restlichen Strings sind die jeweiligen Vergleichsüberschriften.\n",
    "    \n",
    "    faktor : number_like, optional\n",
    "    \n",
    "    ausrichtung : str, optional\n",
    "        Darf nur sein:\n",
    "        'blöcke'\n",
    "        \n",
    "        'liste'\n",
    "    \n",
    "    beschreibung : str, optional\n",
    "        Darf nur sein:\n",
    "        'standard'\n",
    "        \n",
    "        'knapp'\n",
    "    '''\n",
    "   \n",
    "\n",
    "\n",
    "    # Überprüfen der Argumente\n",
    "    werte_typ = type(werte)\n",
    "    if werte_typ != np.ndarray:\n",
    "        print(f'Eingabefehler: type(werte) = {werte_typ}')\n",
    "        print('werte muss ein numpy Array sein.\\n')\n",
    "        return\n",
    "    werte_shape = np.shape(werte)\n",
    "    if (not len(werte_shape) in [1, 2]) or werte_shape[0] != 4:\n",
    "            print(f'Eingabefehler: shape(werte) = {werte_shape}')\n",
    "            print('werte muss die shape  (4, n) mit n = 0, 1, 2, ...  haben.\\n')\n",
    "            return\n",
    "    \n",
    "    titel_typ = type(titel) \n",
    "    if titel_typ != str:\n",
    "        print(f'Eingabefehler: type(titel) = {titel_typ}')\n",
    "        print('titel muss ein String sein.\\n')\n",
    "        return\n",
    "    \n",
    "    einheit_typ = type(einheit)\n",
    "    if einheit_typ  != str:\n",
    "        print(f'Eingabefehler: type(einheit) = {einheit_typ}')\n",
    "        print('einheit muss ein String sein.\\n')\n",
    "        return\n",
    "    \n",
    "    # größen siehe: \"# Vorbereitung Größenliste\"\n",
    "    \n",
    "    ausrichtung_optionen = ['blöcke', 'liste']\n",
    "    if not ausrichtung in ausrichtung_optionen:\n",
    "        print(f'Eingabefehler: ausrichtung = {ausrichtung}')\n",
    "        print(f'ausrichtung kann nur folgende Strings sein: {ausrichtung_optionen}\\n')\n",
    "        return\n",
    "    \n",
    "    beschreibung_optionen = ['standard', 'knapp']\n",
    "    if not beschreibung in beschreibung_optionen:\n",
    "        print(f'Eingabefehler: beschreibung = {beschreibung}')\n",
    "        print(f'beschreibung kann nur folgende Strings sein: {beschreibung_optionen}\\n')\n",
    "        return\n",
    "    \n",
    "    \n",
    "    \n",
    "    # Vorbearbeitung der Argumente\n",
    "    if np.shape(werte) == (4,):   \n",
    "        werte = arr(werte, ndmin = 2).T\n",
    "    \n",
    "    ## Auslese von None-Elementen im Werte-Array\n",
    "    test_kein_wert = werte == None\n",
    "    none_stellen = np.where(test_kein_wert)\n",
    "    nullen = np.zeros(np.shape(werte))\n",
    "    werte = arr(np.where(test_kein_wert, nullen, werte), dtype = np.float64)\n",
    "    ex_none = []\n",
    "    theo_none = []\n",
    "    for i in range(len(none_stellen[0])):\n",
    "        if none_stellen[0][i] == 0:\n",
    "            ex_none.append(none_stellen[1][i])\n",
    "        if none_stellen[0][i] == 2:\n",
    "            theo_none.append(none_stellen[1][i])\n",
    "    alle_none = ex_none + theo_none\n",
    "    \n",
    "    ## Vorbereitung der zu verrechnenden Werte\n",
    "    werte = werte * faktor   # Umrechnung auf gewünschte Größenordnung bzw. Einheit\n",
    "    werte[1::2] = np.abs(werte[1::2])      # Keine negativen Fehlerwerte\n",
    "    ex, ex_fehler, theo, theo_fehler = werte\n",
    "    \n",
    "    ## Wichtige Konstanten\n",
    "    anzahl_vergleiche = np.shape(werte)[1]\n",
    "    anzahl_zahlen = 8    # Anzahl Zahlen, die in einem Vergleich vorkommen\n",
    "    anzahl_vergleichswerte = 5  # Anzahl (fehlerbehafteter) Werte, die in einem Vergleich vorkommen\n",
    "    \n",
    "    ## Vorberarbeitung der Größen(-liste)\n",
    "    größe0 = None\n",
    "    if not type(größen) in [str, list]:\n",
    "        größen = list(größen)\n",
    "    if len(größen) == 0:\n",
    "        if einheit == '':\n",
    "            überschriften = []\n",
    "        else:\n",
    "            fehlende_größen = [''] * anzahl_vergleiche\n",
    "            überschriften = [*fehlende_größen]\n",
    "    elif type(größen) == str:\n",
    "        fehlende_größen = [''] * (anzahl_vergleiche - 1)\n",
    "        überschriften = [größen, *fehlende_größen]\n",
    "    elif len(größen) < anzahl_vergleiche:\n",
    "        fehlende_größen = [''] * (anzahl_vergleiche - len(größen))\n",
    "        überschriften = [*größen, *fehlende_größen]\n",
    "    elif len(größen) == anzahl_vergleiche:\n",
    "        überschriften = größen\n",
    "    elif len(größen) - 1 == anzahl_vergleiche and einheit == '':\n",
    "        größe0 = größen.pop(0)\n",
    "        überschriften = größen\n",
    "    else:\n",
    "        if anzahl_vergleiche == 1:\n",
    "            print(f'Eingabefehler: len(größen) = {len(größen)}, aber es findet nur {anzahl_vergleiche} Vergleich statt.')\n",
    "        else:\n",
    "            print(f'Eingabefehler: len(größen) = {len(größen)}, aber es finden nur {anzahl_vergleiche} Vergleiche statt.')\n",
    "        print('Es darf höchstens so viele Größen wie Vergleiche geben.')\n",
    "        print('(Ausnahme: einheit = \\'\\' und len(größen) = Anzahl Vergleiche + 1,')\n",
    "        print(' dann wird der erste Wert als einheit interpretiert)\\n')\n",
    "        return\n",
    "        \n",
    "    \n",
    "    # Berechnung und Rundung\n",
    "    ## Ausrechnen der Abweichungen\n",
    "    abweichung_abs = ex - theo\n",
    "    abweichung_abs_fehler = summen_fehler(arr([theo_fehler, ex_fehler]))\n",
    "    nullen = np.zeros((anzahl_vergleiche, ))\n",
    "    abweichung_rel = arr([abweichung_abs[i] / theo[i] * 100  if theo[i] != 0  else 0 \n",
    "                          for i in range(anzahl_vergleiche)])   # [%]\n",
    "    abweichung_sig = arr([np.abs(abweichung_abs[i] / abweichung_abs_fehler[i])  \n",
    "                          if abweichung_abs_fehler[i] != 0  else 0  for i in range(anzahl_vergleiche)])\n",
    "    \n",
    "    \n",
    "    ## Bestimmung der Nachkommastellen\n",
    "    werte_absolut = arr([ex, theo, abweichung_abs])\n",
    "    werte_fehler  = arr([ex_fehler, theo_fehler, abweichung_abs_fehler])\n",
    "    werte_relativ = arr([abweichung_rel, abweichung_sig])\n",
    "    \n",
    "    nachkommastellen_fehler = _nachkommastelle(werte_fehler, sig_grenze = 3.95)\n",
    "    nachkommastellen_absolut = nachkommastellen_fehler\n",
    "    nachkommastellen_relativ = _nachkommastelle(werte_relativ, sig_stellen = 2, sig_grenze = 1.0)\n",
    "    \n",
    "    nachkommastellen = []\n",
    "    for i in range(3):\n",
    "        nachkommastellen.append(nachkommastellen_absolut[i])\n",
    "        nachkommastellen.append(nachkommastellen_fehler[i])\n",
    "    nachkommastellen.extend(nachkommastellen_relativ)\n",
    "    nachkommastellen = np.array(nachkommastellen, dtype = int)\n",
    "    \n",
    "    \n",
    "    ## Rundung aller Werte\n",
    "    alle_werte = arr([ex, ex_fehler, theo, theo_fehler, abweichung_abs, abweichung_abs_fehler,\n",
    "                      abweichung_rel, abweichung_sig])\n",
    "    alle_werte_gerundet = _rundung(alle_werte, nachkommastellen)\n",
    "    größenordnungen     = _größenordnung(alle_werte_gerundet)\n",
    "    \n",
    "    \n",
    "    ## Darstellung der einzelnen Werte\n",
    "    alle_werte_strings = []\n",
    "    for i in range(anzahl_zahlen):\n",
    "        zahlen_strings = []\n",
    "        for j in range(anzahl_vergleiche):\n",
    "            if np.abs(größenordnungen[i][j]) < 5:\n",
    "                nachkommastelle = _negativ_wird_null(nachkommastellen[i][j])\n",
    "                wert_string = '{:.{prec}f}'.format(alle_werte_gerundet[i][j], prec = nachkommastelle)\n",
    "            else:\n",
    "                größenordnung = größenordnungen[i][j]\n",
    "                wert_gestutzt = alle_werte_gerundet[i][j] * 10**(-float(größenordnung))\n",
    "                präzision = nachkommastellen[i][j] + größenordnung\n",
    "\n",
    "                wert_string = '{:.{prec}f}e{}'.format(wert_gestutzt, größenordnung, prec = präzision)\n",
    "            zahlen_strings.append(wert_string)\n",
    "        alle_werte_strings.append(zahlen_strings)\n",
    "    \n",
    "    alle_werte_strings = arr(alle_werte_strings).T\n",
    "    for i in range(anzahl_vergleiche):\n",
    "        if i in ex_none:\n",
    "            alle_werte_strings[i][0:2] = ['', '']\n",
    "        if i in theo_none:\n",
    "            alle_werte_strings[i][2:4] = ['', '']\n",
    "        if i in alle_none:\n",
    "            alle_werte_strings[i][4:8] = ['', '', '', '']\n",
    "\n",
    "    \n",
    "    \n",
    "    # Formatierung der Werte zu schönen, gut lesbaren Vergleichen\n",
    "    if ausrichtung == 'blöcke':\n",
    "        alle_vergleiche = []\n",
    "        for i in range(anzahl_vergleiche):\n",
    "            strings_einzelwerte = alle_werte_strings[i]\n",
    "\n",
    "            # Anpassen der Absolutwerte aneinander\n",
    "            strings_absolut = list(strings_einzelwerte[[0, 2, 4]])\n",
    "            strings_absolut = _zahlen_ausrichtung(strings_absolut)\n",
    "\n",
    "            # Anpassen der Fehlerwerte aneinander\n",
    "            strings_fehler = list(strings_einzelwerte[[1, 3, 5]])\n",
    "            strings_fehler = _zahlen_ausrichtung(strings_fehler)\n",
    "\n",
    "            # Zusammenstellen des Vergleichs\n",
    "            plus_minus = _plus_minus(strings_absolut)\n",
    "            strings_plusminus = [strings_absolut[j] + plus_minus[j] + strings_fehler[j]\n",
    "                                 for j in range(len(strings_absolut))]\n",
    "            \n",
    "            string_rel, string_sig = [strings_einzelwerte[6] + ' %', strings_einzelwerte[7] + ' σ']\n",
    "            if string_rel[0] == '-':\n",
    "                string_sig = _füllen(string_sig, index = 0)\n",
    "            if theo[i] == 0:\n",
    "                string_rel = '-'\n",
    "            if abweichung_abs_fehler[i] == 0:\n",
    "                string_sig = '-'\n",
    "            if i in alle_none:\n",
    "                string_rel = ''\n",
    "                string_sig = ''\n",
    "                \n",
    "            strings_vergleich = [*strings_plusminus, string_rel, string_sig]\n",
    "            breite_block = max([len(string) for string in strings_vergleich])\n",
    "            strings_vergleich = [_zentrieren_rechts(string, breite_block) for string in strings_vergleich]\n",
    "            alle_vergleiche.append(strings_vergleich)\n",
    "            \n",
    "    elif ausrichtung == 'liste':\n",
    "        alle_werte_strings = alle_werte_strings.T\n",
    "            \n",
    "        zahlen_absolut = [_zahlen_ausrichtung(list(zahlen)) for zahlen in alle_werte_strings[:6]]\n",
    "        plus_minus = [_plus_minus(zahlen_absolut[i]) for i in range(0, len(zahlen_absolut), 2)]\n",
    "        strings_absolut = [[zahlen_absolut[i][j] + plus_minus[i//2][j] + zahlen_absolut[i + 1][j] \n",
    "                            for j in range(anzahl_vergleiche)] for i in range(0, len(zahlen_absolut), 2)]\n",
    "        \n",
    "        strings_rel = [alle_werte_strings[6][i]  + ' %'  if theo[i] != 0  else '-'  \n",
    "                       for i in range(anzahl_vergleiche)]\n",
    "        strings_sig = [alle_werte_strings[7][i] + ' σ'  if abweichung_abs_fehler[i] != 0  else '-'  \n",
    "                       for i in range(anzahl_vergleiche)]\n",
    "        strings_rel = ['' if i in alle_none else strings_rel[i] for i in range(anzahl_vergleiche)]\n",
    "        strings_sig = ['' if i in alle_none else strings_sig[i] for i in range(anzahl_vergleiche)]\n",
    "        strings_rel = _zahlen_ausrichtung(strings_rel)\n",
    "        strings_sig = _zahlen_ausrichtung(strings_sig)\n",
    "        \n",
    "        alle_vergleiche = [*strings_absolut, strings_rel, strings_sig]\n",
    "        \n",
    "    \n",
    "    \n",
    "    # Erstellen der fertigen Tabellenstrings\n",
    "    if titel != '':\n",
    "        titel_strings = [titel, '']\n",
    "    else:\n",
    "        titel_strings = []\n",
    "    \n",
    "    \n",
    "    if ausrichtung == 'blöcke':\n",
    "        separator = '   '\n",
    "        \n",
    "        # Angleichen der Länge der Größenstrings mit der Breite der dazugehörigen Vergleichsblöcke\n",
    "        if überschriften != []:\n",
    "            \n",
    "            breite_blöcke = [max(len(alle_vergleiche[i][0]), len(überschriften[i])) \n",
    "                             for i in range(anzahl_vergleiche)]\n",
    "            überschriften = ['{:^{width}}'.format(überschriften[i], width = breite_blöcke[i]) \n",
    "                             for i in range(anzahl_vergleiche)]\n",
    "            alle_vergleiche = [['{:^{width}}'.format(vergleichswert, width = breite_blöcke[i]) \n",
    "                                for vergleichswert in alle_vergleiche[i]] for i in range(anzahl_vergleiche)]\n",
    "            \n",
    "        # Erstellen vom \"Einheiten und Beschreibungen\"-Block (Überschriftenspalte)\n",
    "        if beschreibung == 'standard':\n",
    "            beschreibung_liste = ['Wert       experimentell', '           theoretisch  ', 'Abweichung absolut      ', \n",
    "                                  '           relativ      ', '           sigma        ']\n",
    "            if einheit != '':\n",
    "                einheit_string = f'Einheit    {einheit}'\n",
    "                überschuss     = len(einheit) - len('experimentell')\n",
    "                stelle         = 'rechts'\n",
    "                \n",
    "        elif beschreibung == 'knapp':\n",
    "            beschreibung_liste = ['Wert exp', '     the', 'Abw. abs', '     rel', '     sig']\n",
    "            if einheit != '':\n",
    "                einheit_string = f'[{einheit}]'\n",
    "                überschuss     = len(einheit_string) - len(beschreibung_liste[0])\n",
    "                stelle         = 'links'\n",
    "            \n",
    "        if größe0 != None:\n",
    "            einheit_string = größe0\n",
    "            überschuss     = len(einheit_string) - len(beschreibung_liste[0])\n",
    "            stelle         = 'rechts'\n",
    "            \n",
    "        if einheit == '' and größe0 == None:\n",
    "            einheit_string = ' ' * len(beschreibung_liste[0])\n",
    "        elif überschuss < 0:\n",
    "            einheit_string = _füllen(einheit_string, stelle, menge = -überschuss)\n",
    "        elif überschuss > 0:\n",
    "            beschreibung_liste = [_füllen(string, index = stelle, menge = überschuss) for string in beschreibung_liste]\n",
    "        \n",
    "        \n",
    "        # Erstellen und Sammeln aller Überschriften-Strings\n",
    "        if überschriften != []:\n",
    "            überschriften.insert(0, einheit_string)\n",
    "            überschriften_string = separator.join(überschriften)   \n",
    "            titel_strings.append(überschriften_string)\n",
    "            \n",
    "        ## Erstellen der Linie, die Überschriften und Vergleiche trennt\n",
    "        alle_vergleiche   = _listen_transponieren(alle_vergleiche)\n",
    "        blöcke_längen = [len(vergleich) for vergleich in alle_vergleiche[0]]\n",
    "        blöcke_längen.insert(0, len(einheit_string))\n",
    "        oberlinie = separator.join(['-' * länge for länge in blöcke_längen])\n",
    "        titel_strings.append(oberlinie)\n",
    "        \n",
    "        # Erstellen aller Vergleich-Strings\n",
    "        vergleich_strings = []\n",
    "        for i in range(anzahl_vergleichswerte):\n",
    "            vergleich_string = separator.join([beschreibung_liste[i], *alle_vergleiche[i]])\n",
    "            vergleich_strings.append(vergleich_string)\n",
    "    \n",
    "    \n",
    "    if ausrichtung == 'liste':\n",
    "        separator = ' | '\n",
    "        \n",
    "        if beschreibung == 'standard':\n",
    "            beschreibung_liste = [['Wert', 'Abweichung'], \n",
    "                                  ['experimentell', 'theoretisch', 'absolut', 'relativ', 'sigma']]\n",
    "            \n",
    "        elif beschreibung == 'knapp':\n",
    "            beschreibung_liste = [['Wert', 'Abw.'], ['exp', 'the', 'abs', 'rel', 'sig']]\n",
    "            if einheit != '':\n",
    "                einheit = f'[{einheit}]'\n",
    "        \n",
    "        for i in range(anzahl_vergleichswerte):\n",
    "            differenz = len(beschreibung_liste[1][i]) - len(alle_vergleiche[i][0])\n",
    "            if differenz < 0:\n",
    "                beschreibung_liste[1][i] = '{:^{width}}'.format(beschreibung_liste[1][i], width = len(alle_vergleiche[i][0]))\n",
    "            elif differenz > 0:\n",
    "                alle_vergleiche[i] = [_füllen(string, 'links', menge = differenz) for string in alle_vergleiche[i]]\n",
    "        \n",
    "        beschreibung_liste[0][0] = '{:^{width}}'.format(beschreibung_liste[0][0], \n",
    "                                                        width = len(separator.join(beschreibung_liste[1][:2])))\n",
    "        beschreibung_liste[0][1] = '{:^{width}}'.format(beschreibung_liste[0][1], \n",
    "                                                        width = len(separator.join(beschreibung_liste[1][2:])))\n",
    "        \n",
    "        if überschriften != []:  # Wenn falsch, bedeutet auch, dass einheit == '' ist.\n",
    "            if einheit == '' or beschreibung == 'knapp':\n",
    "                überschriften.insert(0, '')\n",
    "            elif beschreibung == 'standard':\n",
    "                überschriften.insert(0, 'Einheit')\n",
    "            if größe0 == None:\n",
    "                überschriften.insert(1, einheit)\n",
    "            else:\n",
    "                überschriften.insert(1, größe0)\n",
    "        \n",
    "            überschrift_längen = [len(string) for string in überschriften]\n",
    "            überschriften_breite = max(überschrift_längen)\n",
    "            for i in range(2):\n",
    "                einheit_string = '{:^{width}}'.format(überschriften.pop(0), width = überschriften_breite)\n",
    "                beschreibung_liste[i].insert(0, einheit_string)\n",
    "            überschriften = ['{:<{width}}'.format(string, width = überschriften_breite) for string in überschriften]\n",
    "            \n",
    "        \n",
    "        # Erstellen und Sammeln aller Überschriften-Strings\n",
    "        for i in range(2):\n",
    "            beschreibung_string = separator.join(beschreibung_liste[i])\n",
    "            titel_strings.append(beschreibung_string)\n",
    "        oberlinie = '-' * len(beschreibung_string)\n",
    "        titel_strings.append(oberlinie)\n",
    "        \n",
    "        # Erstellen aller Vergleich-Strings\n",
    "        alle_vergleiche   = _listen_transponieren(alle_vergleiche)\n",
    "        if überschriften != []:\n",
    "            vergleich_liste = [[überschriften[i], *alle_vergleiche[i]] for i in range(anzahl_vergleiche)]\n",
    "        else:\n",
    "            vergleich_liste = alle_vergleiche\n",
    "        vergleich_strings = [separator.join(vergleich) for vergleich in vergleich_liste]\n",
    "    \n",
    "    \n",
    "    # Printen der Tabelle\n",
    "    alle_strings = [*titel_strings, *vergleich_strings]\n",
    "    for zeile in alle_strings:\n",
    "        print(zeile)  \n",
    "    print('')"
   ]
  },
  {
   "cell_type": "markdown",
   "metadata": {},
   "source": [
    " ## Tests"
   ]
  },
  {
   "cell_type": "markdown",
   "metadata": {},
   "source": [
    "### Eingabefehler"
   ]
  },
  {
   "cell_type": "code",
   "execution_count": 4,
   "metadata": {},
   "outputs": [
    {
     "name": "stdout",
     "output_type": "stream",
     "text": [
      "Eingabefehler: type(werte) = <class 'list'>\n",
      "werte muss ein numpy Array sein.\n",
      "\n",
      "Eingabefehler: shape(werte) = (4, 2, 0)\n",
      "werte muss die shape  (4, n) mit n = 0, 1, 2, ...  haben.\n",
      "\n",
      "Eingabefehler: shape(werte) = (5, 3)\n",
      "werte muss die shape  (4, n) mit n = 0, 1, 2, ...  haben.\n",
      "\n",
      "Eingabefehler: type(titel) = <class 'int'>\n",
      "titel muss ein String sein.\n",
      "\n",
      "Eingabefehler: type(einheit) = <class 'numpy.ndarray'>\n",
      "einheit muss ein String sein.\n",
      "\n",
      "Eingabefehler: len(größen) = 3, aber es findet nur 1 Vergleich statt.\n",
      "Es darf höchstens so viele Größen wie Vergleiche geben.\n",
      "(Ausnahme: einheit = '' und len(größen) = Anzahl Vergleiche + 1,\n",
      " dann wird der erste Wert als einheit interpretiert)\n",
      "\n",
      "Eingabefehler: len(größen) = 4, aber es finden nur 2 Vergleiche statt.\n",
      "Es darf höchstens so viele Größen wie Vergleiche geben.\n",
      "(Ausnahme: einheit = '' und len(größen) = Anzahl Vergleiche + 1,\n",
      " dann wird der erste Wert als einheit interpretiert)\n",
      "\n",
      "Eingabefehler: ausrichtung = 2.0\n",
      "ausrichtung kann nur folgende Strings sein: ['blöcke', 'liste']\n",
      "\n",
      "Eingabefehler: beschreibung = range(0, 1)\n",
      "beschreibung kann nur folgende Strings sein: ['standard', 'knapp']\n",
      "\n"
     ]
    }
   ],
   "source": [
    "# Test: Eingabefehler aller Art\n",
    "\n",
    "# werte ist nicht np.array\n",
    "vergleichstabelle([1, 2, 3, 4])\n",
    "\n",
    "\n",
    "# werte hat zu viele Dimensionen\n",
    "vergleichstabelle(np.ones((4, 2, 0)))\n",
    "\n",
    "# werte hat falsche shape\n",
    "vergleichstabelle(np.ones((5, 3)))\n",
    "\n",
    "\n",
    "werte = arr([12, 4, 6, 4])\n",
    "# titel ist nicht str\n",
    "vergleichstabelle(werte, titel = 1)\n",
    "\n",
    "# einheit ist nicht str\n",
    "vergleichstabelle(werte, einheit = arr(1.))\n",
    "\n",
    "# größenliste ist zu lang\n",
    "vergleichstabelle(werte, größen = ['a', 'b', 'c'])  # Test singular\n",
    "vergleichstabelle(werte[:, np.newaxis] * np.ones((4, 2)), größen = ['a', 'b', 'c', 'd']) # Test plural\n",
    "\n",
    "# ausrichtung ist keine der möglichen Optionen\n",
    "vergleichstabelle(werte, ausrichtung = 2.)\n",
    "\n",
    "# beschreibung ist keine der möglichen Optionen\n",
    "vergleichstabelle(werte, beschreibung = range(1))"
   ]
  },
  {
   "cell_type": "code",
   "execution_count": 5,
   "metadata": {
    "scrolled": false
   },
   "outputs": [
    {
     "name": "stdout",
     "output_type": "stream",
     "text": [
      "------------------------   ------\n",
      "Wert       experimentell   12 ± 4\n",
      "           theoretisch      6 ± 4\n",
      "Abweichung absolut          6 ± 6\n",
      "           relativ          100 %\n",
      "           sigma            1.1 σ\n",
      "\n",
      "                                 \n",
      "------------------------   ------\n",
      "Wert       experimentell   12 ± 4\n",
      "           theoretisch      6 ± 4\n",
      "Abweichung absolut          6 ± 6\n",
      "           relativ          100 %\n",
      "           sigma            1.1 σ\n",
      "\n",
      "------------------------   ------\n",
      "Wert       experimentell   12 ± 4\n",
      "           theoretisch      6 ± 4\n",
      "Abweichung absolut          6 ± 6\n",
      "           relativ          100 %\n",
      "           sigma            1.1 σ\n",
      "\n",
      "                                 \n",
      "------------------------   ------\n",
      "Wert       experimentell   12 ± 4\n",
      "           theoretisch      6 ± 4\n",
      "Abweichung absolut          6 ± 6\n",
      "           relativ          100 %\n",
      "           sigma            1.1 σ\n",
      "\n",
      "                            Hi!  \n",
      "------------------------   ------\n",
      "Wert       experimentell   12 ± 4\n",
      "           theoretisch      6 ± 4\n",
      "Abweichung absolut          6 ± 6\n",
      "           relativ          100 %\n",
      "           sigma            1.1 σ\n",
      "\n",
      "                            Hi!  \n",
      "------------------------   ------\n",
      "Wert       experimentell   12 ± 4\n",
      "           theoretisch      6 ± 4\n",
      "Abweichung absolut          6 ± 6\n",
      "           relativ          100 %\n",
      "           sigma            1.1 σ\n",
      "\n",
      "                            Hi!  \n",
      "------------------------   ------\n",
      "Wert       experimentell   12 ± 4\n",
      "           theoretisch      6 ± 4\n",
      "Abweichung absolut          6 ± 6\n",
      "           relativ          100 %\n",
      "           sigma            1.1 σ\n",
      "\n",
      "                            Hi!  \n",
      "------------------------   ------\n",
      "Wert       experimentell   12 ± 4\n",
      "           theoretisch      6 ± 4\n",
      "Abweichung absolut          6 ± 6\n",
      "           relativ          100 %\n",
      "           sigma            1.1 σ\n",
      "\n"
     ]
    }
   ],
   "source": [
    "# Test ob größen Einzelstrings als str, list, tupel und np.array aufnehmen kann\n",
    "inhalt = [ '', 'Hi!']\n",
    "for element in inhalt:\n",
    "    array_liste = [element, [element], (element), arr([element])]\n",
    "    for array in array_liste:\n",
    "        vergleichstabelle(werte, größen = array)\n"
   ]
  },
  {
   "cell_type": "code",
   "execution_count": 6,
   "metadata": {},
   "outputs": [
    {
     "name": "stdout",
     "output_type": "stream",
     "text": [
      "                                a              b      \n",
      "------------------------   ------------   ------------\n",
      "Wert       experimentell   374   ± 23     287   ± 17  \n",
      "           theoretisch     365.0 ±  0.4   302.0 ±  0.5\n",
      "Abweichung absolut           9   ± 23     -15   ± 17  \n",
      "           relativ             2.5 %         -5.0 %   \n",
      "           sigma              0.39 σ          0.88 σ  \n",
      "\n",
      "                                a              b      \n",
      "------------------------   ------------   ------------\n",
      "Wert       experimentell   374   ± 23     287   ± 17  \n",
      "           theoretisch     365.0 ±  0.4   302.0 ±  0.5\n",
      "Abweichung absolut           9   ± 23     -15   ± 17  \n",
      "           relativ             2.5 %         -5.0 %   \n",
      "           sigma              0.39 σ          0.88 σ  \n",
      "\n",
      "                                a              b      \n",
      "------------------------   ------------   ------------\n",
      "Wert       experimentell   374   ± 23     287   ± 17  \n",
      "           theoretisch     365.0 ±  0.4   302.0 ±  0.5\n",
      "Abweichung absolut           9   ± 23     -15   ± 17  \n",
      "           relativ             2.5 %         -5.0 %   \n",
      "           sigma              0.39 σ          0.88 σ  \n",
      "\n",
      "Hulp                            a              b      \n",
      "------------------------   ------------   ------------\n",
      "Wert       experimentell   374   ± 23     287   ± 17  \n",
      "           theoretisch     365.0 ±  0.4   302.0 ±  0.5\n",
      "Abweichung absolut           9   ± 23     -15   ± 17  \n",
      "           relativ             2.5 %         -5.0 %   \n",
      "           sigma              0.39 σ          0.88 σ  \n",
      "\n",
      "Hulp                            a              b      \n",
      "------------------------   ------------   ------------\n",
      "Wert       experimentell   374   ± 23     287   ± 17  \n",
      "           theoretisch     365.0 ±  0.4   302.0 ±  0.5\n",
      "Abweichung absolut           9   ± 23     -15   ± 17  \n",
      "           relativ             2.5 %         -5.0 %   \n",
      "           sigma              0.39 σ          0.88 σ  \n",
      "\n",
      "Hulp                            a              b      \n",
      "------------------------   ------------   ------------\n",
      "Wert       experimentell   374   ± 23     287   ± 17  \n",
      "           theoretisch     365.0 ±  0.4   302.0 ±  0.5\n",
      "Abweichung absolut           9   ± 23     -15   ± 17  \n",
      "           relativ             2.5 %         -5.0 %   \n",
      "           sigma              0.39 σ          0.88 σ  \n",
      "\n"
     ]
    }
   ],
   "source": [
    "# Test ob größen eine String-Liste als list, tupel und np.array aufnehmen kann\n",
    "\n",
    "werte = arr([[374, 23, 365, 0.4], [287, 17, 302, 0.5]]).T\n",
    "inhalt = [['a', 'b'], ['Hulp', 'a', 'b']]\n",
    "for element in inhalt:\n",
    "    array_liste = [element, tuple(element), arr(element)]\n",
    "    for array in array_liste:\n",
    "        vergleichstabelle(werte, größen = array)\n",
    "\n"
   ]
  },
  {
   "cell_type": "markdown",
   "metadata": {},
   "source": [
    "### Berechnung, Rundung und Wertausrichtung"
   ]
  },
  {
   "cell_type": "code",
   "execution_count": 7,
   "metadata": {
    "scrolled": false
   },
   "outputs": [
    {
     "name": "stdout",
     "output_type": "stream",
     "text": [
      "--------   -------------------\n",
      "Wert exp    1.000e100 ± 1.3e98\n",
      "     the    1.050e100 ± 1.3e98\n",
      "Abw. abs   -5.0  e 98 ± 1.8e98\n",
      "     rel          -4.8 %      \n",
      "     sig           2.7 σ      \n",
      "\n",
      "--------   ---------------\n",
      "Wert exp    3.85e44 ± 5e42\n",
      "     the    4.04e44 ± 5e42\n",
      "Abw. abs   -1.9 e43 ± 7e42\n",
      "     rel        -4.8 %    \n",
      "     sig         2.7 σ    \n",
      "\n",
      "--------   -----------------\n",
      "Wert exp     -1.398e5 ± 1800\n",
      "     the     -1.468e5 ± 1800\n",
      "Abw. abs   7000       ± 2600\n",
      "     rel         -4.8 %     \n",
      "     sig          2.7 σ     \n",
      "\n",
      "--------   -----------\n",
      "Wert exp   48000 ± 600\n",
      "     the   50400 ± 600\n",
      "Abw. abs   -2400 ± 900\n",
      "     rel      -4.8 %  \n",
      "     sig       2.7 σ  \n",
      "\n",
      "--------   ------------\n",
      "Wert exp   -40000 ± 500\n",
      "     the   -42000 ± 500\n",
      "Abw. abs     2000 ± 700\n",
      "     rel      -4.8 %   \n",
      "     sig       2.7 σ   \n",
      "\n",
      "--------   ------------\n",
      "Wert exp   -40000 ± 500\n",
      "     the   -42000 ± 500\n",
      "Abw. abs     2000 ± 700\n",
      "     rel      -4.8 %   \n",
      "     sig       2.7 σ   \n",
      "\n",
      "--------   ---------\n",
      "Wert exp   1023 ± 13\n",
      "     the   1074 ± 13\n",
      "Abw. abs    -51 ± 19\n",
      "     rel     -4.8 % \n",
      "     sig      2.7 σ \n",
      "\n",
      "--------   -------\n",
      "Wert exp   483 ± 6\n",
      "     the   507 ± 6\n",
      "Abw. abs   -24 ± 9\n",
      "     rel    -4.8 %\n",
      "     sig     2.7 σ\n",
      "\n",
      "--------   --------\n",
      "Wert exp   -395 ± 5\n",
      "     the   -415 ± 5\n",
      "Abw. abs     20 ± 7\n",
      "     rel    -4.8 % \n",
      "     sig     2.7 σ \n",
      "\n",
      "--------   ------------\n",
      "Wert exp   23.30 ± 0.30\n",
      "     the   24.47 ± 0.30\n",
      "Abw. abs   -1.2  ± 0.4 \n",
      "     rel      -4.8 %   \n",
      "     sig       2.7 σ   \n",
      "\n",
      "--------   ------------\n",
      "Wert exp    4.09 ± 0.05\n",
      "     the    4.29 ± 0.05\n",
      "Abw. abs   -0.20 ± 0.08\n",
      "     rel      -4.8 %   \n",
      "     sig       2.7 σ   \n",
      "\n",
      "--------   ------------\n",
      "Wert exp    3.69 ± 0.05\n",
      "     the    3.87 ± 0.05\n",
      "Abw. abs   -0.18 ± 0.07\n",
      "     rel      -4.8 %   \n",
      "     sig       2.7 σ   \n",
      "\n",
      "--------   --------------\n",
      "Wert exp    1.385 ± 0.018\n",
      "     the    1.454 ± 0.018\n",
      "Abw. abs   -0.069 ± 0.025\n",
      "     rel       -4.8 %    \n",
      "     sig        2.7 σ    \n",
      "\n",
      "--------   --------------\n",
      "Wert exp   -0.839 ± 0.011\n",
      "     the   -0.881 ± 0.011\n",
      "Abw. abs    0.042 ± 0.015\n",
      "     rel       -4.8 %    \n",
      "     sig        2.7 σ    \n",
      "\n",
      "--------   ----------------\n",
      "Wert exp    0.0940 ± 0.0012\n",
      "     the    0.0987 ± 0.0012\n",
      "Abw. abs   -0.0047 ± 0.0017\n",
      "     rel        -4.8 %     \n",
      "     sig         2.7 σ     \n",
      "\n",
      "--------   -------------------\n",
      "Wert exp    0.000385    ± 5e-6\n",
      "     the    0.000404    ± 5e-6\n",
      "Abw. abs   -1.9     e-5 ± 7e-6\n",
      "     rel          -4.8 %      \n",
      "     sig           2.7 σ      \n",
      "\n",
      "--------   ---------------\n",
      "Wert exp   -4.85e-5 ± 6e-7\n",
      "     the   -5.09e-5 ± 6e-7\n",
      "Abw. abs    2.4 e-6 ± 9e-7\n",
      "     rel        -4.8 %    \n",
      "     sig         2.7 σ    \n",
      "\n",
      "--------   -----------------\n",
      "Wert exp    5.48e-5 ± 7  e-7\n",
      "     the    5.76e-5 ± 7  e-7\n",
      "Abw. abs   -2.7 e-6 ± 1.0e-6\n",
      "     rel         -4.8 %     \n",
      "     sig          2.7 σ     \n",
      "\n",
      "--------   ---------------\n",
      "Wert exp   -3.95e-7 ± 5e-9\n",
      "     the   -4.15e-7 ± 5e-9\n",
      "Abw. abs    2.0 e-8 ± 7e-9\n",
      "     rel        -4.8 %    \n",
      "     sig         2.7 σ    \n",
      "\n",
      "--------   ---------------------\n",
      "Wert exp    7.38e -99 ± 1.0e-100\n",
      "     the    7.75e -99 ± 1.0e-100\n",
      "Abw. abs   -3.7 e-100 ± 1.4e-100\n",
      "     rel           -4.8 %       \n",
      "     sig            2.7 σ       \n",
      "\n"
     ]
    }
   ],
   "source": [
    "# Test: Darstellung von Werten verschiedenster Größenordnungen\n",
    "\n",
    "zahlliste = arr([1e100, 3849184e38, -1.3984820e5, 48024.304, -40000, -39999.0, 1023, 483, -395.00, 23.30489, \n",
    "                 4.09, 3.688, 1.3848, -0.839, 0.094, 0.0003848, -0.00004848, 5.4839e-5, -3.9485e-7, 7.38e-99])\n",
    "fehlerliste = zahlliste / 77\n",
    "theoliste = zahlliste * 1.05\n",
    "\n",
    "alle_werte = arr([zahlliste, fehlerliste, theoliste, fehlerliste]).T\n",
    "for i in range(len(zahlliste)):\n",
    "    vergleichstabelle(alle_werte[i], beschreibung = 'knapp')"
   ]
  },
  {
   "cell_type": "code",
   "execution_count": 8,
   "metadata": {},
   "outputs": [
    {
     "name": "stdout",
     "output_type": "stream",
     "text": [
      "--------   ------------------\n",
      "Wert exp   1.000e100 ± 1.3e98\n",
      "     the   9.45 e 99 ± 1.3e98\n",
      "Abw. abs   5.5  e 98 ± 1.8e98\n",
      "     rel          5.8 %      \n",
      "     sig          3.0 σ      \n",
      "\n",
      "--------   ---------------\n",
      "Wert exp   -4.85e-5 ± 6e-7\n",
      "     the   -4.58e-5 ± 6e-7\n",
      "Abw. abs   -2.7 e-6 ± 9e-7\n",
      "     rel        5.8 %     \n",
      "     sig        3.0 σ     \n",
      "\n"
     ]
    }
   ],
   "source": [
    "# Test: Modifikation um Darstellung von negativen Zahlen weiter zu testen\n",
    "theoliste[0] = theoliste[0] * 0.9    # Test \"kein -\"\n",
    "theoliste[-4] = theoliste[-4] * 0.9  # Test \"alle -\"\n",
    "\n",
    "alle_werte = arr([zahlliste, fehlerliste, theoliste, fehlerliste]).T\n",
    "for i in [0, -4]:\n",
    "    vergleichstabelle(alle_werte[i], beschreibung = 'knapp')"
   ]
  },
  {
   "cell_type": "code",
   "execution_count": 9,
   "metadata": {},
   "outputs": [
    {
     "name": "stdout",
     "output_type": "stream",
     "text": [
      "--------   ------------\n",
      "Wert exp   12.30 ± 0.12\n",
      "     the   11.0  ± 1.0 \n",
      "Abw. abs    1.3  ± 1.0 \n",
      "     rel       12 %    \n",
      "     sig       1.3 σ   \n",
      "\n"
     ]
    }
   ],
   "source": [
    "# Test mit normalen Werten\n",
    "vergleichstabelle(arr([12.3, 0.12, 10.98, 0.987]), beschreibung = 'knapp')"
   ]
  },
  {
   "cell_type": "code",
   "execution_count": 10,
   "metadata": {},
   "outputs": [
    {
     "name": "stdout",
     "output_type": "stream",
     "text": [
      "--------   --------------\n",
      "Wert exp    0.123 ± 0.012\n",
      "     the    1.10  ± 0.10 \n",
      "Abw. abs   -0.98  ± 0.10 \n",
      "     rel        -89 %    \n",
      "     sig        9.8 σ    \n",
      "\n",
      "--------   --------------\n",
      "Wert exp   -0.123 ± 0.012\n",
      "     the   -1.10  ± 0.10 \n",
      "Abw. abs    0.98  ± 0.10 \n",
      "     rel        -89 %    \n",
      "     sig        9.8 σ    \n",
      "\n",
      "--------   --------------\n",
      "Wert exp    0.123 ± 0.012\n",
      "     the   -1.10  ± 0.10 \n",
      "Abw. abs    1.22  ± 0.10 \n",
      "     rel       -110 %    \n",
      "     sig         12 σ    \n",
      "\n"
     ]
    }
   ],
   "source": [
    "# Tests mit negativen Werten und negativen Fehlern\n",
    "vergleichstabelle(arr([ 0.123, -0.012,  1.098,  0.0987]), beschreibung = 'knapp')\n",
    "vergleichstabelle(arr([-0.123,  0.012, -1.098,  0.0987]), beschreibung = 'knapp')\n",
    "vergleichstabelle(arr([ 0.123,  0.012, -1.098, -0.0987]), beschreibung = 'knapp')"
   ]
  },
  {
   "cell_type": "code",
   "execution_count": 11,
   "metadata": {},
   "outputs": [
    {
     "name": "stdout",
     "output_type": "stream",
     "text": [
      "--------   ---------\n",
      "Wert exp   1250 ± 50\n",
      "     the    -93 ± 25\n",
      "Abw. abs   1340 ± 50\n",
      "     rel    -1400 % \n",
      "     sig      25 σ  \n",
      "\n"
     ]
    }
   ],
   "source": [
    "# Tests mit der Positionierung von Minuszeichen\n",
    "vergleichstabelle(arr([1248.834, 48.489, -93.17, 25.37]), beschreibung = 'knapp')"
   ]
  },
  {
   "cell_type": "code",
   "execution_count": 12,
   "metadata": {
    "scrolled": false
   },
   "outputs": [
    {
     "name": "stdout",
     "output_type": "stream",
     "text": [
      "--------   ---------\n",
      "Wert exp      0 ± 4 \n",
      "     the      0 ± 4 \n",
      "Abw. abs     -0 ± 6 \n",
      "     rel     -99 %  \n",
      "     sig    1.8e-6 σ\n",
      "\n",
      "--------   --------\n",
      "Wert exp     6 ± 4 \n",
      "     the    -0 ± 4 \n",
      "Abw. abs     6 ± 6 \n",
      "     rel   -57000 %\n",
      "     sig     1.0 σ \n",
      "\n"
     ]
    }
   ],
   "source": [
    "# Test mit längeren relativen als ±-Strings und dortigen Minuspositionen\n",
    "vergleichstabelle(arr([1e-7, 4,  1e-5, 4]), beschreibung = 'knapp')\n",
    "vergleichstabelle(arr([5.7321, 4 ,  -1e-2, 4]), beschreibung = 'knapp')"
   ]
  },
  {
   "cell_type": "code",
   "execution_count": 13,
   "metadata": {
    "scrolled": true
   },
   "outputs": [
    {
     "name": "stdout",
     "output_type": "stream",
     "text": [
      "------------------------   -----------------------------------\n",
      "Wert       experimentell   1.00000000000000199840e10 ± 7  e-10\n",
      "           theoretisch     1.00000000000000088818e10 ± 7  e-10\n",
      "Abweichung absolut         9.5367                e-6 ± 1.0e -9\n",
      "           relativ                      9.5e-14 %             \n",
      "           sigma                          9600 σ              \n",
      "\n"
     ]
    }
   ],
   "source": [
    "# Test mit der Minus-Position bei negativen Exponenten \n",
    "# (siehe auch großer Listendarstellung-Test, Vergleich ganz unten)\n",
    "## Grenzen der Rechenpräzision hier sichtbar\n",
    "\n",
    "vergleichstabelle(arr([1.000000000000002e10, 7e-10, 1.000000000000001e10, 7e-10]))"
   ]
  },
  {
   "cell_type": "markdown",
   "metadata": {},
   "source": [
    "#### Rundung von 0-Werten"
   ]
  },
  {
   "cell_type": "code",
   "execution_count": 14,
   "metadata": {},
   "outputs": [
    {
     "name": "stdout",
     "output_type": "stream",
     "text": [
      "Rundungstests\n",
      "\n",
      "              Ex-Wert = 0       Ex-Fehler = 0    Theo-Fehler = 0     Alles 0 \n",
      "--------   ------------------   -------------   -----------------   ---------\n",
      "Wert exp      0.0000 ± 0.0010    382.4 ± 0.0    382.3830 ± 0.0006   0.0 ± 0.0\n",
      "     the    219      ± 6         219   ± 6      218.6    ± 0.0      0.0 ± 0.0\n",
      "Abw. abs   -219      ± 6         164   ± 6      163.8091 ± 0.0006   0.0 ± 0.0\n",
      "     rel         -100 %              75 %              75 %             -    \n",
      "     sig           34 σ              26 σ            2.6e5 σ            -    \n",
      "\n",
      "Rundungstests\n",
      "\n",
      "                |              Wert               |               Abweichung               \n",
      "                |   experimentell   | theoretisch |      absolut       | relativ |  sigma  \n",
      "-------------------------------------------------------------------------------------------\n",
      "Ex-Wert = 0     |   0.0000 ± 0.0010 | 219   ± 6   | -219      ± 6      |  -100 % | 34     σ\n",
      "Ex-Fehler = 0   | 382.4    ± 0.0    | 219   ± 6   |  164      ± 6      |    75 % | 26     σ\n",
      "Theo-Fehler = 0 | 382.3830 ± 0.0006 | 218.6 ± 0.0 |  163.8091 ± 0.0006 |    75 % |  2.6e5 σ\n",
      "Alles 0         |   0.0    ± 0.0    |   0.0 ± 0.0 |    0.0    ± 0.0    |     -   |     -   \n",
      "\n"
     ]
    }
   ],
   "source": [
    "werte = arr([[0, 1.0e-3, 218.57, 6.4], [382.383, 0.00e8, 218.57, 6.4], \n",
    "                       [382.383, 6.4e-4, 218.573947, 0], [0, 0.0, 0, 0.00e-3]]).T\n",
    "größen = ['Ex-Wert = 0', 'Ex-Fehler = 0', 'Theo-Fehler = 0', 'Alles 0']\n",
    "vergleichstabelle(werte, titel = 'Rundungstests',\n",
    "                  größen = größen, beschreibung = 'knapp')\n",
    "vergleichstabelle(werte, titel = 'Rundungstests',\n",
    "                  größen = größen, beschreibung = 'standard', ausrichtung = 'liste')"
   ]
  },
  {
   "cell_type": "markdown",
   "metadata": {},
   "source": [
    "#### Berechnung (Ausnahmefall)"
   ]
  },
  {
   "cell_type": "code",
   "execution_count": 15,
   "metadata": {
    "scrolled": true
   },
   "outputs": [
    {
     "name": "stdout",
     "output_type": "stream",
     "text": [
      "Crashtests\n",
      "\n",
      "           Theo-Wert = 0   Abw-Fehler = 0   Alles = 0\n",
      "--------   -------------   --------------   ---------\n",
      "Wert exp    382.4 ± 3.2     382.4 ± 0.0     0.0 ± 0.0\n",
      "     the      0   ± 6       218.6 ± 0.0     0.0 ± 0.0\n",
      "Abw. abs    382   ± 7       163.8 ± 0.0     0.0 ± 0.0\n",
      "     rel         -              75 %            -    \n",
      "     sig        53 σ             -              -    \n",
      "\n",
      "\n",
      "Crashtests\n",
      "\n",
      "               |           Wert            |           Abw.           \n",
      "               |     exp     |     the     |     abs     | rel  | sig \n",
      "----------------------------------------------------------------------\n",
      "Theo-Wert = 0  | 382.4 ± 3.2 |   0   ± 6   | 382   ± 7   |   -  | 53 σ\n",
      "Abw-Fehler = 0 | 382.4 ± 0.0 | 218.6 ± 0.0 | 163.8 ± 0.0 | 75 % |   - \n",
      "Alles = 0      |   0.0 ± 0.0 |   0.0 ± 0.0 |   0.0 ± 0.0 |   -  |   - \n",
      "\n"
     ]
    }
   ],
   "source": [
    "testwerte = arr([[382.383, 3.2, 0, 6.4], [382.383, 0, 218.57, 0], [0, 0.0, 0, 0.00e-3]]).T\n",
    "größen = ['Theo-Wert = 0', 'Abw-Fehler = 0', 'Alles = 0']\n",
    "vergleichstabelle(testwerte, titel = 'Crashtests', größen = größen, beschreibung = 'knapp')\n",
    "print('')\n",
    "vergleichstabelle(testwerte, titel = 'Crashtests', größen = größen, beschreibung = 'knapp', \n",
    "                  ausrichtung = 'liste')"
   ]
  },
  {
   "cell_type": "markdown",
   "metadata": {},
   "source": [
    "#### Präzision exakter Theowerte"
   ]
  },
  {
   "cell_type": "code",
   "execution_count": 16,
   "metadata": {},
   "outputs": [
    {
     "name": "stdout",
     "output_type": "stream",
     "text": [
      "Theo-Fehler = 0, Rundungstest\n",
      "\n",
      "--------   -----------------\n",
      "Wert exp   382.3830 ± 0.0006\n",
      "     the   218.6    ± 0.0   \n",
      "Abw. abs   163.8091 ± 0.0006\n",
      "     rel          75 %      \n",
      "     sig        2.6e5 σ     \n",
      "\n"
     ]
    }
   ],
   "source": [
    "vergleichstabelle(arr([382.383, 6.4e-4, 218.573947, 0]), titel = 'Theo-Fehler = 0, Rundungstest', beschreibung = 'knapp')\n",
    "\n",
    "'''\n",
    "Stand 2020-10-04: Exakter Theo-Wert nicht manuell rundbar\n",
    "Präzision eines exakten Theo-Wertes ist auf immer eine Nachkommastelle beschränkt.\n",
    "\n",
    "Dieser Wert sollte in zukunft manuell gerundet werden können.\n",
    "\n",
    "the   218.6    ± 0.0 \n",
    "''';"
   ]
  },
  {
   "cell_type": "raw",
   "metadata": {},
   "source": [
    "# Weiterer Test mit mehreren exakten Theo-Werten\n",
    "testwerte = arr([[3.0932e8, 2.6953e8, 2.8548e8, 2.9949e8], \n",
    "                 [2.4736e6, 4.3713e7, 9.8420e6, 1.4235e5],\n",
    "                 [299792458] * 4,\n",
    "                 [None]      * 4])\n",
    "titel = 'Vergleich unterschiedlicher gemessener Lichtgeschwindigkeiten'\n",
    "\n",
    "vergleichstabelle(testwerte, titel, faktor = 1e-8, einheit = '10^8 m/s', \n",
    "                  größen = ['Experiment A', 'Experiment B', 'Experiment C', 'Experiment D'])"
   ]
  },
  {
   "cell_type": "markdown",
   "metadata": {},
   "source": [
    "#### Blockdarstellung"
   ]
  },
  {
   "cell_type": "code",
   "execution_count": 17,
   "metadata": {
    "scrolled": false
   },
   "outputs": [
    {
     "name": "stdout",
     "output_type": "stream",
     "text": [
      "--------   --------------   ----------\n",
      "Wert exp    0.123 ± 0.012   57.1 ± 3.3\n",
      "     the    1.1   ± 1.0     48   ± 4  \n",
      "Abw. abs   -1.0   ± 1.0      9   ± 5  \n",
      "     rel        -89 %          19 %   \n",
      "     sig        0.99 σ         1.7 σ  \n",
      "\n"
     ]
    }
   ],
   "source": [
    "# Test mit zwei Vergleichen\n",
    "vergleichstabelle(arr([[0.123, 400 / 7], \n",
    "                       [0.012, 23 / 7], \n",
    "                       [1.098, 337 / 7], \n",
    "                       [0.987, 29 / 7]]), beschreibung = 'knapp')"
   ]
  },
  {
   "cell_type": "code",
   "execution_count": 18,
   "metadata": {},
   "outputs": [
    {
     "name": "stdout",
     "output_type": "stream",
     "text": [
      "--------   --------   -------------   ------------------   ---------------------\n",
      "Wert exp   280 ± 40   0.075 ± 0.004    0.008293 ± 4.0e-5   -0.1230   ± 0.0012   \n",
      "     the   320 ± 40   0.075 ± 0.004    0.010000 ± 3.9e-5   -1.098000 ± 1.0   e-5\n",
      "Abw. abs   -30 ± 60   0.000 ± 0.006   -0.00171  ± 6  e-5    0.9750   ± 0.0012   \n",
      "     rel     -10 %       0.027 %             -17 %                 -89 %        \n",
      "     sig     0.58 σ      0.0035 σ             31 σ                  810 σ       \n",
      "\n"
     ]
    }
   ],
   "source": [
    "# Test der Rundung (auch bei rel. und sig. Abweichung)\n",
    "vergleichstabelle(arr([[284.3858, 0.07538, 0.00829339400, -0.123], \n",
    "                       [40.0000 , 0.00400, 0.00003950000,  0.0012], \n",
    "                       [317.3048, 0.07536, 0.00999999900, -1.098], \n",
    "                       [39.9999 , 0.00399, 0.00003949990,  0.0000098]]), beschreibung = 'knapp')"
   ]
  },
  {
   "cell_type": "markdown",
   "metadata": {},
   "source": [
    "#### Listendarstellung"
   ]
  },
  {
   "cell_type": "code",
   "execution_count": 19,
   "metadata": {},
   "outputs": [
    {
     "data": {
      "text/html": [
       "<style>.container { width:100% !important; }</style>"
      ],
      "text/plain": [
       "<IPython.core.display.HTML object>"
      ]
     },
     "metadata": {},
     "output_type": "display_data"
    }
   ],
   "source": [
    "# Test: Listendarstellung der Vergleiche mit vielen Größenordnungen\n",
    "\n",
    "# Um den Output breit genug für die Tabelle zu machen.\n",
    "from IPython.core.display import display, HTML\n",
    "display(HTML(\"<style>.container { width:100% !important; }</style>\"))"
   ]
  },
  {
   "cell_type": "code",
   "execution_count": 20,
   "metadata": {
    "scrolled": false
   },
   "outputs": [
    {
     "name": "stdout",
     "output_type": "stream",
     "text": [
      "                                 Wert                                   |                     Abweichung                    \n",
      "          experimentell            |            theoretisch             |             absolut              | relativ | sigma\n",
      "----------------------------------------------------------------------------------------------------------------------------\n",
      "     1.000   e100 ±    1.3   e  98 |      9.45    e 99 ±    1.3   e  98 |     5.5   e  98 ±    1.8   e  98 |   5.8 % | 3.0 σ\n",
      "     3.85    e 44 ±    5     e  42 |      4.04    e 44 ±    5     e  42 |    -1.9   e  43 ±    7     e  42 |  -4.8 % | 2.7 σ\n",
      "    -1.398   e  5 ± 1800           |     -1.468   e  5 ± 1800           |  7000           ± 2600           |  -4.8 % | 2.7 σ\n",
      " 48000            ±  600           |  50400            ±  600           | -2400           ±  900           |  -4.8 % | 2.7 σ\n",
      "-40000            ±  500           | -42000            ±  500           |  2000           ±  700           |  -4.8 % | 2.7 σ\n",
      "-40000            ±  500           | -42000            ±  500           |  2000           ±  700           |  -4.8 % | 2.7 σ\n",
      "  1023            ±   13           |   1074            ±   13           |   -51           ±   19           |  -4.8 % | 2.7 σ\n",
      "   483            ±    6           |    507            ±    6           |   -24           ±    9           |  -4.8 % | 2.7 σ\n",
      "  -395            ±    5           |   -415            ±    5           |    20           ±    7           |  -4.8 % | 2.7 σ\n",
      "    23.30         ±    0.30        |     24.47         ±    0.30        |    -1.2         ±    0.4         |  -4.8 % | 2.7 σ\n",
      "     4.09         ±    0.05        |      4.29         ±    0.05        |    -0.20        ±    0.08        |  -4.8 % | 2.7 σ\n",
      "     3.69         ±    0.05        |      3.87         ±    0.05        |    -0.18        ±    0.07        |  -4.8 % | 2.7 σ\n",
      "     1.385        ±    0.018       |      1.454        ±    0.018       |    -0.069       ±    0.025       |  -4.8 % | 2.7 σ\n",
      "    -0.839        ±    0.011       |     -0.881        ±    0.011       |     0.042       ±    0.015       |  -4.8 % | 2.7 σ\n",
      "     0.0940       ±    0.0012      |      0.0987       ±    0.0012      |    -0.0047      ±    0.0017      |  -4.8 % | 2.7 σ\n",
      "     0.000385     ±    5     e  -6 |      0.000404     ±    5     e  -6 |    -1.9   e  -5 ±    7     e  -6 |  -4.8 % | 2.7 σ\n",
      "    -4.85    e -5 ±    6     e  -7 |     -4.58    e -5 ±    6     e  -7 |    -2.7   e  -6 ±    9     e  -7 |   5.8 % | 3.0 σ\n",
      "     5.48    e -5 ±    7     e  -7 |      5.76    e -5 ±    7     e  -7 |    -2.7   e  -6 ±    1.0   e  -6 |  -4.8 % | 2.7 σ\n",
      "    -3.95    e -7 ±    5     e  -9 |     -4.15    e -7 ±    5     e  -9 |     2.0   e  -8 ±    7     e  -9 |  -4.8 % | 2.7 σ\n",
      "     7.38    e-99 ±    1.0   e-100 |      7.75    e-99 ±    1.0   e-100 |    -3.7   e-100 ±    1.4   e-100 |  -4.8 % | 2.7 σ\n",
      "\n"
     ]
    }
   ],
   "source": [
    "# Großer Test der Ausrichtungsfeatures\n",
    "\n",
    "vergleichstabelle(alle_werte.T, ausrichtung = 'liste')"
   ]
  },
  {
   "cell_type": "code",
   "execution_count": 21,
   "metadata": {},
   "outputs": [
    {
     "name": "stdout",
     "output_type": "stream",
     "text": [
      "             Wert               |          Abweichung          \n",
      "experimentell  |  theoretisch   |   absolut   | relativ | sigma\n",
      "---------------------------------------------------------------\n",
      " 483    ± 6    |  507    ± 6    | -24   ± 9   |  -4.8 % | 2.7 σ\n",
      "-395    ± 5    | -415    ± 5    |  20   ± 7   |  -4.8 % | 2.7 σ\n",
      "  23.30 ± 0.30 |   24.47 ± 0.30 |  -1.2 ± 0.4 |  -4.8 % | 2.7 σ\n",
      "\n",
      "                Wert                  |             Abweichung            \n",
      "  experimentell    |   theoretisch    |     absolut      | relativ | sigma\n",
      "--------------------------------------------------------------------------\n",
      "1.000e100 ± 1.3e98 | 9.45e99 ± 1.3e98 |  5.5e98 ± 1.8e98 |   5.8 % | 3.0 σ\n",
      "3.85 e 44 ± 5  e42 | 4.04e44 ± 5  e42 | -1.9e43 ± 7  e42 |  -4.8 % | 2.7 σ\n",
      "\n",
      "                  Wert                    |           Abweichung          \n",
      "   experimentell    |     theoretisch     |   absolut    | relativ | sigma\n",
      "--------------------------------------------------------------------------\n",
      "    -1.398e5 ± 1800 |     -1.468e5 ± 1800 |  7000 ± 2600 |  -4.8 % | 2.7 σ\n",
      " 48000       ±  600 |  50400       ±  600 | -2400 ±  900 |  -4.8 % | 2.7 σ\n",
      "-40000       ±  500 | -42000       ±  500 |  2000 ±  700 |  -4.8 % | 2.7 σ\n",
      "\n"
     ]
    }
   ],
   "source": [
    "# Test: Listendarstellungen bei kleineren Listen und ähnlicheren Werten.\n",
    "\n",
    "vergleichstabelle(alle_werte[7:10].T, ausrichtung = 'liste')\n",
    "vergleichstabelle(alle_werte[0:2].T, ausrichtung = 'liste')\n",
    "vergleichstabelle(alle_werte[2:5].T, ausrichtung = 'liste')"
   ]
  },
  {
   "cell_type": "code",
   "execution_count": 22,
   "metadata": {},
   "outputs": [
    {
     "name": "stdout",
     "output_type": "stream",
     "text": [
      "------------------------   ------------   ------------------   ------------------   ---------------   ---------------------\n",
      "Wert       experimentell   40000 ± 4000   -0.000395 ± 3.9e-5   -0.000395 ± 4.0e-5    0.00040 ± 4e-5    3.95    e-5 ± 3.9e-6\n",
      "           theoretisch     40000 ± 4000   -0.00040  ± 4  e-5   -0.00040  ± 4  e-5    0.00040 ± 4e-5    4.0     e-5 ± 4  e-6\n",
      "Abweichung absolut            -0 ± 6000    0.00000  ± 6  e-5    0.00000  ± 6  e-5   -0.00000 ± 6e-5   -0.000000    ± 6  e-6\n",
      "           relativ            -0.99 %           -0.99 %              -0.99 %            -0.99 %              -0.99 %       \n",
      "           sigma              0.070 σ           0.070 σ              0.070 σ             0.070 σ              0.070 σ      \n",
      "\n",
      "                         Wert                          |               Abweichung               \n",
      "       experimentell        |       theoretisch        |       absolut       | relativ |  sigma \n",
      "------------------------------------------------------------------------------------------------\n",
      "40000           ± 4000      | 40000          ± 4000    | -0        ± 6000    | -0.99 % | 0.070 σ\n",
      "   -0.000395    ±    3.9e-5 |    -0.00040    ±    4e-5 |  0.00000  ±    6e-5 | -0.99 % | 0.070 σ\n",
      "   -0.000395    ±    4.0e-5 |    -0.00040    ±    4e-5 |  0.00000  ±    6e-5 | -0.99 % | 0.070 σ\n",
      "    0.00040     ±    4  e-5 |     0.00040    ±    4e-5 | -0.00000  ±    6e-5 | -0.99 % | 0.070 σ\n",
      "    3.95    e-5 ±    3.9e-6 |     4.0    e-5 ±    4e-6 | -0.000000 ±    6e-6 | -0.99 % | 0.070 σ\n",
      "\n"
     ]
    }
   ],
   "source": [
    "# Test: Rundung am Cutoff\n",
    "# Test: Vergleich der Block-Darstellung mit der Listendarstellung\n",
    "\n",
    "zahlliste = arr([39950, -0.000394999, -0.000395000, 0.000395001, 0.0000395000])\n",
    "fehlerliste = zahlliste / 10\n",
    "theoliste = zahlliste * 1.01\n",
    "alle_werte = arr([zahlliste, fehlerliste, theoliste, fehlerliste * 1.01])\n",
    "\n",
    "vergleichstabelle(alle_werte, ausrichtung = 'blöcke')\n",
    "vergleichstabelle(alle_werte, ausrichtung = 'liste')\n",
    "\n",
    "'''\n",
    "Stand 2020-10-04: Fehler bei den experimentellen Werten\n",
    "Rundung bei Vergleichen 1, 2 und 4 läuft wie erwartet.\n",
    "Vergleich 3 enthält sowohl einen Rundungsfehler (float-Problem) als auch einen Cutoff-Fehler (Grund bisher unbekannt).\n",
    "Vergleich 5 enthält wieder den Rundungsfehler aber der Cutoff wurde hier richtig fortgeführt.\n",
    "\n",
    "Da dies Extremfälle sind (tritt nur bei Fehlerzahlen, die mit 3.950 (Cutoff) beginnen auf), werden sie fürs erste ignoriert.\n",
    "\n",
    "       experimentell        \n",
    "----------------------------\n",
    "40000           ± 4000      \n",
    "   -0.000395    ±    3.9e-5 \n",
    "   -0.000395    ±    4.0e-5 \n",
    "    0.00040     ±    4  e-5 \n",
    "    3.95    e-5 ±    3.9e-6 \n",
    "\n",
    "''';"
   ]
  },
  {
   "cell_type": "markdown",
   "metadata": {},
   "source": [
    "### Tests der Beschriftung und Darstellung mit richtigen Werten aus PAP-Experimenten"
   ]
  },
  {
   "cell_type": "code",
   "execution_count": 23,
   "metadata": {},
   "outputs": [
    {
     "name": "stdout",
     "output_type": "stream",
     "text": [
      "Literaturvergleich Inklinationswinkel\n",
      "\n",
      "Einheit    °                         \n",
      "------------------------   ----------\n",
      "Wert       experimentell   75.3 ± 0.8\n",
      "           theoretisch     66.0 ± 0.5\n",
      "Abweichung absolut          9.3 ± 0.9\n",
      "           relativ            14 %   \n",
      "           sigma              10 σ   \n",
      "\n",
      "Literaturvergleich\n",
      "\n",
      "     [°]   Inklinationswinkel\n",
      "--------   ------------------\n",
      "Wert exp       75.3 ± 0.8    \n",
      "     the       66.0 ± 0.5    \n",
      "Abw. abs        9.3 ± 0.9    \n",
      "     rel          14 %       \n",
      "     sig          10 σ       \n",
      "\n"
     ]
    }
   ],
   "source": [
    "# Test: standard Wertdarstellung mit Einheit und Titel\n",
    "werte = arr([75.31709457, 0.76723428, 66., 0.5])\n",
    "vergleichstabelle(werte, titel = 'Literaturvergleich Inklinationswinkel', einheit = '°')\n",
    "vergleichstabelle(werte, titel = 'Literaturvergleich', einheit = '°', größen = 'Inklinationswinkel', beschreibung = 'knapp')\n",
    "\n",
    "\n",
    "# Zum Vergleich: Resultat mit der ursprünglischen Funktion\n",
    "'''\n",
    "Tabelle 5: Literaturvergleich Inklinationswinkel\n",
    "\n",
    "Angaben in °\n",
    "-------------------  ----\n",
    "Messwert             75.3\n",
    "dessen Fehler         0.8\n",
    "Literaturwert        66.0\n",
    "dessen Fehler         0.5\n",
    "rel. Abweichung [%]  14.1\n",
    "Sigma                10.2\n",
    "''';"
   ]
  },
  {
   "cell_type": "code",
   "execution_count": 24,
   "metadata": {},
   "outputs": [
    {
     "name": "stdout",
     "output_type": "stream",
     "text": [
      "Vergleich der Viskositäten nach Stokes bzw. Hagen-Poiseuille\n",
      "\n",
      "Adiabatenkoeffizient       Clément-Desormes Luft    Rüchhardt Luft    Rüchhardt Argon \n",
      "------------------------   ---------------------   ----------------   ----------------\n",
      "Wert       experimentell      1.252  ± 0.024        1.386  ± 0.016     1.409  ± 0.023 \n",
      "           theoretisch        1.4000 ± 0.0010       1.4000 ± 0.0010    1.6480 ± 0.0005\n",
      "Abweichung absolut           -0.148  ± 0.024       -0.014  ± 0.016    -0.239  ± 0.023 \n",
      "           relativ                 -11 %                -1.0 %              -15 %     \n",
      "           sigma                   6.2 σ                 0.92 σ              11 σ     \n",
      "\n",
      "Vergleich der Viskositäten nach Stokes bzw. Hagen-Poiseuille\n",
      "\n",
      "                       |              Wert               |             Abweichung            \n",
      " Adiabatenkoeffizient  | experimentell |   theoretisch   |    absolut     | relativ |  sigma \n",
      "---------------------------------------------------------------------------------------------\n",
      "Clément-Desormes Luft  | 1.252 ± 0.024 | 1.4000 ± 0.0010 | -0.148 ± 0.024 | -11   % |  6.2  σ\n",
      "Rüchhardt        Luft  | 1.386 ± 0.016 | 1.4000 ± 0.0010 | -0.014 ± 0.016 |  -1.0 % |  0.92 σ\n",
      "Rüchhardt        Argon | 1.409 ± 0.023 | 1.6480 ± 0.0005 | -0.239 ± 0.023 | -15   % | 11    σ\n",
      "\n"
     ]
    }
   ],
   "source": [
    "# Test: standard Wertdarstellung \n",
    "## mit unterschiedlich vielen Nachkommastellen\n",
    "## Mit mehreren Unterüberschriften deren Ausrichtung und einer die Einheit ersetzenden Größe\n",
    "werte = arr([[1.25153244e+00, 1.38557443e+00, 1.40897994e+00],\n",
    "             [2.39146223e-02, 1.56325105e-02, 2.27141900e-02],\n",
    "             [1.40000000e+00, 1.40000000e+00, 1.64800000e+00],\n",
    "             [1.00000000e-03, 1.00000000e-03, 5.00000000e-04]])\n",
    "vergleichstabelle(werte, titel = 'Vergleich der Viskositäten nach Stokes bzw. Hagen-Poiseuille',\n",
    "                  größen = ['Adiabatenkoeffizient', 'Clément-Desormes Luft', 'Rüchhardt Luft', 'Rüchhardt Argon'])\n",
    "vergleichstabelle(werte, titel = 'Vergleich der Viskositäten nach Stokes bzw. Hagen-Poiseuille',\n",
    "                  größen = ['Adiabatenkoeffizient', 'Clément-Desormes Luft', 'Rüchhardt        Luft', 'Rüchhardt        Argon'], \n",
    "                  ausrichtung = 'liste')\n",
    "\n",
    "\n",
    "# Zum Vergleich: Resultat mit der ursprünglischen Funktion\n",
    "'''\n",
    "Tabelle 1: Vergleich der Viskositäten nach Stokes bzw. Hagen-Poiseuille\n",
    "\n",
    "Adiabatenkoeffizient      Clément-Desormes Luft    Rüchhardt Luft    Rüchhardt Argon\n",
    "----------------------  -----------------------  ----------------  -----------------\n",
    "exp. Wert                                  1.25              1.39               1.41\n",
    "dessen Fehler                              0.02              0.02               0.02\n",
    "the. Wert                                  1.40              1.40               1.65\n",
    "dessen Fehler                              0.00              0.00               0.00\n",
    "rel. Abweichung [%]                      -10.60             -1.03             -14.50\n",
    "Sigma                                      6.20              0.92              10.52\n",
    "''';"
   ]
  },
  {
   "cell_type": "markdown",
   "metadata": {},
   "source": [
    "#### Ausprobieren verschiedenster Einheit- und Größen-Kombinationen "
   ]
  },
  {
   "cell_type": "code",
   "execution_count": 25,
   "metadata": {},
   "outputs": [
    {
     "name": "stdout",
     "output_type": "stream",
     "text": [
      "Eingabefehler: len(größen) = 4, aber es finden nur 3 Vergleiche statt.\n",
      "Es darf höchstens so viele Größen wie Vergleiche geben.\n",
      "(Ausnahme: einheit = '' und len(größen) = Anzahl Vergleiche + 1,\n",
      " dann wird der erste Wert als einheit interpretiert)\n",
      "\n"
     ]
    }
   ],
   "source": [
    "vergleichstabelle(werte, titel = 'Vergleich der Viskositäten nach Stokes bzw. Hagen-Poiseuille',\n",
    "                  größen = ['Adiabatenkoeffizient', 'Clément-Desormes Luft', 'Rüchhardt Luft', 'Rüchhardt Argon'],\n",
    "                  einheit = 'o.E.')"
   ]
  },
  {
   "cell_type": "code",
   "execution_count": 26,
   "metadata": {},
   "outputs": [
    {
     "name": "stdout",
     "output_type": "stream",
     "text": [
      "                           Clément-Desormes Luft    Rüchhardt Luft    Rüchhardt Argon \n",
      "------------------------   ---------------------   ----------------   ----------------\n",
      "Wert       experimentell      1.252  ± 0.024        1.386  ± 0.016     1.409  ± 0.023 \n",
      "           theoretisch        1.4000 ± 0.0010       1.4000 ± 0.0010    1.6480 ± 0.0005\n",
      "Abweichung absolut           -0.148  ± 0.024       -0.014  ± 0.016    -0.239  ± 0.023 \n",
      "           relativ                 -11 %                -1.0 %              -15 %     \n",
      "           sigma                   6.2 σ                 0.92 σ              11 σ     \n",
      "\n",
      "                       |              Wert               |             Abweichung            \n",
      "                       | experimentell |   theoretisch   |    absolut     | relativ |  sigma \n",
      "---------------------------------------------------------------------------------------------\n",
      "Clément-Desormes Luft  | 1.252 ± 0.024 | 1.4000 ± 0.0010 | -0.148 ± 0.024 | -11   % |  6.2  σ\n",
      "Rüchhardt        Luft  | 1.386 ± 0.016 | 1.4000 ± 0.0010 | -0.014 ± 0.016 |  -1.0 % |  0.92 σ\n",
      "Rüchhardt        Argon | 1.409 ± 0.023 | 1.6480 ± 0.0005 | -0.239 ± 0.023 | -15   % | 11    σ\n",
      "\n",
      "                       |              Wert               |                Abw.               \n",
      "                       |      exp      |       the       |      abs       |   rel   |   sig  \n",
      "---------------------------------------------------------------------------------------------\n",
      "Clément-Desormes Luft  | 1.252 ± 0.024 | 1.4000 ± 0.0010 | -0.148 ± 0.024 | -11   % |  6.2  σ\n",
      "Rüchhardt        Luft  | 1.386 ± 0.016 | 1.4000 ± 0.0010 | -0.014 ± 0.016 |  -1.0 % |  0.92 σ\n",
      "Rüchhardt        Argon | 1.409 ± 0.023 | 1.6480 ± 0.0005 | -0.239 ± 0.023 | -15   % | 11    σ\n",
      "\n"
     ]
    }
   ],
   "source": [
    "vergleichstabelle(werte, größen = ['Clément-Desormes Luft', 'Rüchhardt Luft', 'Rüchhardt Argon'])\n",
    "vergleichstabelle(werte, größen = ['Clément-Desormes Luft', 'Rüchhardt        Luft', 'Rüchhardt        Argon'],\n",
    "                  ausrichtung = 'liste')\n",
    "vergleichstabelle(werte, größen = ['Clément-Desormes Luft', 'Rüchhardt        Luft', 'Rüchhardt        Argon'],\n",
    "                  ausrichtung = 'liste', beschreibung = 'knapp')"
   ]
  },
  {
   "cell_type": "code",
   "execution_count": 27,
   "metadata": {},
   "outputs": [
    {
     "name": "stdout",
     "output_type": "stream",
     "text": [
      "Einheit    o.E.             Rüchhardt Luft    Rüchhardt Argon                    \n",
      "------------------------   ----------------   ----------------   ----------------\n",
      "Wert       experimentell    1.252  ± 0.024     1.386  ± 0.016     1.409  ± 0.023 \n",
      "           theoretisch      1.4000 ± 0.0010    1.4000 ± 0.0010    1.6480 ± 0.0005\n",
      "Abweichung absolut         -0.148  ± 0.024    -0.014  ± 0.016    -0.239  ± 0.023 \n",
      "           relativ               -11 %             -1.0 %              -15 %     \n",
      "           sigma                 6.2 σ              0.92 σ              11 σ     \n",
      "\n",
      "       Einheit         |              Wert               |             Abweichung            \n",
      "         o.E.          | experimentell |   theoretisch   |    absolut     | relativ |  sigma \n",
      "---------------------------------------------------------------------------------------------\n",
      "Rüchhardt        Luft  | 1.252 ± 0.024 | 1.4000 ± 0.0010 | -0.148 ± 0.024 | -11   % |  6.2  σ\n",
      "Rüchhardt        Argon | 1.386 ± 0.016 | 1.4000 ± 0.0010 | -0.014 ± 0.016 |  -1.0 % |  0.92 σ\n",
      "                       | 1.409 ± 0.023 | 1.6480 ± 0.0005 | -0.239 ± 0.023 | -15   % | 11    σ\n",
      "\n"
     ]
    }
   ],
   "source": [
    "vergleichstabelle(werte, größen = ['Rüchhardt Luft', 'Rüchhardt Argon'], einheit = 'o.E.')\n",
    "vergleichstabelle(werte, größen = ['Rüchhardt        Luft', 'Rüchhardt        Argon'],\n",
    "                  einheit = 'o.E.', ausrichtung = 'liste')"
   ]
  },
  {
   "cell_type": "code",
   "execution_count": 28,
   "metadata": {},
   "outputs": [
    {
     "name": "stdout",
     "output_type": "stream",
     "text": [
      "                            Rüchhardt Luft                       Rüchhardt Argon \n",
      "------------------------   ----------------   ----------------   ----------------\n",
      "Wert       experimentell    1.252  ± 0.024     1.386  ± 0.016     1.409  ± 0.023 \n",
      "           theoretisch      1.4000 ± 0.0010    1.4000 ± 0.0010    1.6480 ± 0.0005\n",
      "Abweichung absolut         -0.148  ± 0.024    -0.014  ± 0.016    -0.239  ± 0.023 \n",
      "           relativ               -11 %             -1.0 %              -15 %     \n",
      "           sigma                 6.2 σ              0.92 σ              11 σ     \n",
      "\n",
      "                       |              Wert               |             Abweichung            \n",
      "                       | experimentell |   theoretisch   |    absolut     | relativ |  sigma \n",
      "---------------------------------------------------------------------------------------------\n",
      "Rüchhardt        Luft  | 1.252 ± 0.024 | 1.4000 ± 0.0010 | -0.148 ± 0.024 | -11   % |  6.2  σ\n",
      "                       | 1.386 ± 0.016 | 1.4000 ± 0.0010 | -0.014 ± 0.016 |  -1.0 % |  0.92 σ\n",
      "Rüchhardt        Argon | 1.409 ± 0.023 | 1.6480 ± 0.0005 | -0.239 ± 0.023 | -15   % | 11    σ\n",
      "\n"
     ]
    }
   ],
   "source": [
    "vergleichstabelle(werte, größen = ['Rüchhardt Luft', '', 'Rüchhardt Argon'])\n",
    "vergleichstabelle(werte, größen = ['Rüchhardt        Luft', '', 'Rüchhardt        Argon'],\n",
    "                  ausrichtung = 'liste')"
   ]
  },
  {
   "cell_type": "code",
   "execution_count": 29,
   "metadata": {},
   "outputs": [
    {
     "name": "stdout",
     "output_type": "stream",
     "text": [
      "                            Rüchhardt Luft                                       \n",
      "------------------------   ----------------   ----------------   ----------------\n",
      "Wert       experimentell    1.252  ± 0.024     1.386  ± 0.016     1.409  ± 0.023 \n",
      "           theoretisch      1.4000 ± 0.0010    1.4000 ± 0.0010    1.6480 ± 0.0005\n",
      "Abweichung absolut         -0.148  ± 0.024    -0.014  ± 0.016    -0.239  ± 0.023 \n",
      "           relativ               -11 %             -1.0 %              -15 %     \n",
      "           sigma                 6.2 σ              0.92 σ              11 σ     \n",
      "\n",
      "                      |              Wert               |             Abweichung            \n",
      "                      | experimentell |   theoretisch   |    absolut     | relativ |  sigma \n",
      "--------------------------------------------------------------------------------------------\n",
      "Rüchhardt        Luft | 1.252 ± 0.024 | 1.4000 ± 0.0010 | -0.148 ± 0.024 | -11   % |  6.2  σ\n",
      "                      | 1.386 ± 0.016 | 1.4000 ± 0.0010 | -0.014 ± 0.016 |  -1.0 % |  0.92 σ\n",
      "                      | 1.409 ± 0.023 | 1.6480 ± 0.0005 | -0.239 ± 0.023 | -15   % | 11    σ\n",
      "\n"
     ]
    }
   ],
   "source": [
    "vergleichstabelle(werte, größen = 'Rüchhardt Luft')\n",
    "vergleichstabelle(werte, größen = 'Rüchhardt        Luft',\n",
    "                  ausrichtung = 'liste')"
   ]
  },
  {
   "cell_type": "code",
   "execution_count": 30,
   "metadata": {},
   "outputs": [
    {
     "name": "stdout",
     "output_type": "stream",
     "text": [
      "Einheit    o.E.                                                                  \n",
      "------------------------   ----------------   ----------------   ----------------\n",
      "Wert       experimentell    1.252  ± 0.024     1.386  ± 0.016     1.409  ± 0.023 \n",
      "           theoretisch      1.4000 ± 0.0010    1.4000 ± 0.0010    1.6480 ± 0.0005\n",
      "Abweichung absolut         -0.148  ± 0.024    -0.014  ± 0.016    -0.239  ± 0.023 \n",
      "           relativ               -11 %             -1.0 %              -15 %     \n",
      "           sigma                 6.2 σ              0.92 σ              11 σ     \n",
      "\n",
      "Einheit |              Wert               |             Abweichung            \n",
      " o.E.   | experimentell |   theoretisch   |    absolut     | relativ |  sigma \n",
      "------------------------------------------------------------------------------\n",
      "        | 1.252 ± 0.024 | 1.4000 ± 0.0010 | -0.148 ± 0.024 | -11   % |  6.2  σ\n",
      "        | 1.386 ± 0.016 | 1.4000 ± 0.0010 | -0.014 ± 0.016 |  -1.0 % |  0.92 σ\n",
      "        | 1.409 ± 0.023 | 1.6480 ± 0.0005 | -0.239 ± 0.023 | -15   % | 11    σ\n",
      "\n",
      "       |              Wert               |                Abw.               \n",
      "[o.E.] |      exp      |       the       |      abs       |   rel   |   sig  \n",
      "-----------------------------------------------------------------------------\n",
      "       | 1.252 ± 0.024 | 1.4000 ± 0.0010 | -0.148 ± 0.024 | -11   % |  6.2  σ\n",
      "       | 1.386 ± 0.016 | 1.4000 ± 0.0010 | -0.014 ± 0.016 |  -1.0 % |  0.92 σ\n",
      "       | 1.409 ± 0.023 | 1.6480 ± 0.0005 | -0.239 ± 0.023 | -15   % | 11    σ\n",
      "\n"
     ]
    }
   ],
   "source": [
    "vergleichstabelle(werte, einheit = 'o.E.')\n",
    "vergleichstabelle(werte, einheit = 'o.E.', ausrichtung = 'liste')\n",
    "vergleichstabelle(werte, einheit = 'o.E.', ausrichtung = 'liste', beschreibung = 'knapp')"
   ]
  },
  {
   "cell_type": "code",
   "execution_count": 31,
   "metadata": {},
   "outputs": [
    {
     "name": "stdout",
     "output_type": "stream",
     "text": [
      "Literaturvergleich Boltzmannkonstante\n",
      "\n",
      "Einheit    10^-23 J/K                   \n",
      "------------------------   -------------\n",
      "Wert       experimentell   1.395 ± 0.029\n",
      "           theoretisch     1.4   ± 0.0  \n",
      "Abweichung absolut         0.015 ± 0.029\n",
      "           relativ             1.1 %    \n",
      "           sigma               0.50 σ   \n",
      "\n",
      "Literaturvergleich Boltzmannkonstante\n",
      "\n",
      "Einheit    10^(-23) J / K                \n",
      "-------------------------   -------------\n",
      "Wert       experimentell    1.395 ± 0.029\n",
      "           theoretisch      1.4   ± 0.0  \n",
      "Abweichung absolut          0.015 ± 0.029\n",
      "           relativ              1.1 %    \n",
      "           sigma                0.50 σ   \n",
      "\n",
      "Literaturvergleich Boltzmannkonstante\n",
      "\n",
      "[10^(-23) J / K]                \n",
      "----------------   -------------\n",
      "        Wert exp   1.395 ± 0.029\n",
      "             the   1.4   ± 0.0  \n",
      "        Abw. abs   0.015 ± 0.029\n",
      "             rel       1.1 %    \n",
      "             sig       0.50 σ   \n",
      "\n",
      "    [µN]                \n",
      "--------   -------------\n",
      "Wert exp   1.395 ± 0.029\n",
      "     the   1.4   ± 0.0  \n",
      "Abw. abs   0.015 ± 0.029\n",
      "     rel       1.1 %    \n",
      "     sig       0.50 σ   \n",
      "\n",
      "Einheit    µN                           \n",
      "------------------------   -------------\n",
      "Wert       experimentell   1.395 ± 0.029\n",
      "           theoretisch     1.4   ± 0.0  \n",
      "Abweichung absolut         0.015 ± 0.029\n",
      "           relativ             1.1 %    \n",
      "           sigma               0.50 σ   \n",
      "\n"
     ]
    }
   ],
   "source": [
    "# Test: verschieden lange Einheiten\n",
    "## erneuter Test für manuelle Rundung wegen theo-Fehler = 0\n",
    "## Einsatz vom Faktor-Argument\n",
    "werte = arr([1.39515138e-23, 2.90095704e-25, 1.38064900e-23, 0.00000000e+00])\n",
    "vergleichstabelle(werte, titel = 'Literaturvergleich Boltzmannkonstante', einheit = '10^-23 J/K', faktor = 1e23)\n",
    "vergleichstabelle(werte, titel = 'Literaturvergleich Boltzmannkonstante', einheit = '10^(-23) J / K', faktor = 1e23)\n",
    "vergleichstabelle(werte, titel = 'Literaturvergleich Boltzmannkonstante', einheit = '10^(-23) J / K', \n",
    "                  beschreibung = 'knapp', faktor = 1e23)\n",
    "vergleichstabelle(werte, einheit = 'µN', beschreibung = 'knapp', faktor = 1e23)\n",
    "vergleichstabelle(werte, einheit = 'µN', faktor = 1e23)\n",
    "\n",
    "\n",
    "# Zum Vergleich: Resultat mit der ursprünglischen Funktion\n",
    "'''\n",
    "Tabelle 1: Literaturvergleich Boltzmannkonstante\n",
    "\n",
    "Angaben in 10^(-23) J/K\n",
    "-------------------------  ----\n",
    "Messwert                   1.40\n",
    "dessen Fehler              0.03\n",
    "Literaturwert              1.38\n",
    "dessen Fehler              0.00\n",
    "rel. Abweichung [%]        1.05\n",
    "Sigma                      0.50\n",
    "''';"
   ]
  },
  {
   "cell_type": "code",
   "execution_count": 32,
   "metadata": {},
   "outputs": [
    {
     "name": "stdout",
     "output_type": "stream",
     "text": [
      "Vergleich der Ordnungszahlen der Maxima\n",
      "\n",
      "           Wert             |           Abweichung           \n",
      "experimentell | theoretisch |   absolut    | relativ | sigma \n",
      "-------------------------------------------------------------\n",
      " -0.06 ± 0.05 |   0.0 ± 0.0 | -0.06 ± 0.05 |    -    | 1.2  σ\n",
      "  1.42 ± 0.05 |   1.4 ± 0.0 | -0.01 ± 0.05 | -0.93 % | 0.24 σ\n",
      "  2.48 ± 0.05 |   2.5 ± 0.0 |  0.02 ± 0.05 |  0.93 % | 0.42 σ\n",
      "  3.46 ± 0.06 |   3.5 ± 0.0 | -0.01 ± 0.06 | -0.41 % | 0.26 σ\n",
      "  4.56 ± 0.06 |   4.5 ± 0.0 |  0.08 ± 0.06 |  1.8  % | 1.4  σ\n",
      "\n"
     ]
    }
   ],
   "source": [
    "# Test: Listenansicht und theoretischer Wert ist 0\n",
    "# Test: exakte Theo-Werte\n",
    "werte = arr([[-0.0631769, 1.41696751, 2.48194946, 3.4566787, 4.55776173],\n",
    "             [0.05460126, 0.05472070, 0.05496739, 0.0553094, 0.05582687],\n",
    "             [0,          1.43030,    2.45902,    3.47089,   4.47741   ],\n",
    "             [0,          0,          0,          0,         0         ]])\n",
    "vergleichstabelle(werte, titel = 'Vergleich der Ordnungszahlen der Maxima', ausrichtung = 'liste')\n",
    "\n",
    "\n",
    "# Zum Vergleich: Resultat mit der ursprünglischen Funktion\n",
    "'''\n",
    "Vergleich der Ordnungszahlen der Maxima\n",
    "\n",
    "  theoretisch    experimentell    Abweichung [%]    Sigma\n",
    "-------------  ---------------  ----------------  -------\n",
    "         0.00   -0.06 +/- 0.05            -inf        1.2\n",
    "         1.43    1.42 +/- 0.05              -0.9      0.2\n",
    "         2.46    2.48 +/- 0.05               0.9      0.4\n",
    "         3.47    3.46 +/- 0.06              -0.4      0.3\n",
    "         4.48    4.56 +/- 0.06               1.8      1.4\n",
    "         \n",
    "<ipython-input-7-ebcfbd735655>:12: RuntimeWarning: divide by zero encountered in true_divide\n",
    "  abweichung_rel = abweichung / liste1 * 100   # [%], relative Abweichung\n",
    "''';"
   ]
  },
  {
   "cell_type": "code",
   "execution_count": 33,
   "metadata": {
    "scrolled": true
   },
   "outputs": [
    {
     "name": "stdout",
     "output_type": "stream",
     "text": [
      "            Wert             |         Abweichung         \n",
      "experimentell | theoretisch  | absolut  | relativ | sigma \n",
      "----------------------------------------------------------\n",
      "  12400 ± 600 | 12400 ± 1100 | 0 ± 1300 |  0.00 % | 0.00 σ\n",
      "   7400 ± 600 |  7400 ±  800 | 0 ± 1000 |  0.00 % | 0.00 σ\n",
      "\n"
     ]
    }
   ],
   "source": [
    "# Test: fehler_rel == fehler_sig == 0\n",
    "werte = arr([[12368.47501413,  7421.08500848],\n",
    "             [  623.31254737,   620.18815701],\n",
    "             [12368.47501413,  7421.08500848],\n",
    "             [ 1124.64056495,   836.7201341 ]])\n",
    "vergleichstabelle(werte, ausrichtung = 'liste')\n",
    "\n",
    "\n",
    "# Zum Vergleich: Resultat mit der ursprünglischen Funktion\n",
    "'''\n",
    "Vergleich der Wellenzahl 2\n",
    "\n",
    "  [mm^-1]       theoretisch     experimentell    Abweichung [%]    Sigma\n",
    "---------  ----------------  ----------------  ----------------  -------\n",
    "       a)  12.368 +/- 1.125  12.368 +/- 0.623              -0.0      0.0\n",
    "       b)   7.421 +/- 0.837   7.421 +/- 0.620               0.0      0.0\n",
    "''';"
   ]
  },
  {
   "cell_type": "code",
   "execution_count": 34,
   "metadata": {},
   "outputs": [
    {
     "name": "stdout",
     "output_type": "stream",
     "text": [
      "           Wert             |         Abweichung         \n",
      "experimentell | theoretisch |  absolut  | relativ | sigma\n",
      "---------------------------------------------------------\n",
      "   11.7 ± 0.4 |   6.0 ± 0.4 | 5.7 ± 0.6 |    95 % |  10 σ\n",
      "\n",
      "         Wert          |          Abw.          \n",
      "   exp     |    the    |    abs    | rel  | sig \n",
      "------------------------------------------------\n",
      "11.7 ± 0.4 | 6.0 ± 0.4 | 5.7 ± 0.6 | 95 % | 10 σ\n",
      "\n"
     ]
    }
   ],
   "source": [
    "# Test: Einzelner Vergleich in Listenansicht\n",
    "## beide Beschreibungvarianten in Listenansicht\n",
    "\n",
    "werte = arr([11.7, 0.4, 6, 0.4])\n",
    "vergleichstabelle(werte, ausrichtung = 'liste')\n",
    "vergleichstabelle(werte, ausrichtung = 'liste', beschreibung = 'knapp')"
   ]
  },
  {
   "cell_type": "code",
   "execution_count": 35,
   "metadata": {},
   "outputs": [
    {
     "name": "stdout",
     "output_type": "stream",
     "text": [
      "------------------------   -----------\n",
      "Wert       experimentell   3.58 ± 0.10\n",
      "           theoretisch     3.08 ± 0.09\n",
      "Abweichung absolut         0.50 ± 0.13\n",
      "           relativ             16 %   \n",
      "           sigma              3.7 σ   \n",
      "\n"
     ]
    }
   ],
   "source": [
    "# Test: Faktorargument; experimenteller und Theoretischer wert sollen andere Namen haben\n",
    "werte = arr([3580.,  100., 3080.,   90.])\n",
    "vergleichstabelle(werte, faktor = 1e-3)\n",
    "\n",
    "\n",
    "'''\n",
    "Stand 2020-10-11: Umbenenung von theoretischem und experimentellem Wert noch nicht möglich\n",
    "Es soll die Möglichkeit bestehen, Wert experimentell und Wert theoretisch selbst zu benennen.\n",
    "'''\n",
    "\n",
    "# Zum Vergleich: Resultat mit der ursprünglischen Funktion\n",
    "'''\n",
    "Tabelle 2: Vergleich der Grenzfrequenzen aus der Hochpass- und Tiefpassbestimmung\n",
    "\n",
    "Grenzfrequenz      [kHz]\n",
    "---------------  -------\n",
    "Hochpass            3.58\n",
    "dessen Fehler       0.10\n",
    "Tiefpass            3.08\n",
    "dessen Fehler       0.09\n",
    "Abweichung          0.50\n",
    "Sigma               3.72\n",
    "''';"
   ]
  },
  {
   "cell_type": "markdown",
   "metadata": {},
   "source": [
    "### Tests mit fehlenden Werten"
   ]
  },
  {
   "cell_type": "code",
   "execution_count": 36,
   "metadata": {},
   "outputs": [
    {
     "name": "stdout",
     "output_type": "stream",
     "text": [
      "            Wert              |           Abweichung           \n",
      "experimentell |  theoretisch  |  absolut   | relativ  |  sigma \n",
      "---------------------------------------------------------------\n",
      "  820.5 ± 0.8 | 820.5  ± 0.8  |  0.0 ± 1.2 |  0.00  % | 0.00  σ\n",
      "  571.4 ± 1.2 | 570.7  ± 0.4  |  0.7 ± 1.3 |  0.12  % | 0.55  σ\n",
      "  501.0 ± 0.6 | 500.22 ± 0.32 |  0.8 ± 0.7 |  0.16  % | 1.2   σ\n",
      "  470.2 ± 1.3 | 468.77 ± 0.28 |  1.4 ± 1.3 |  0.30  % | 1.1   σ\n",
      "  454.3 ± 1.7 | 451.65 ± 0.26 |  2.6 ± 1.7 |  0.59  % | 1.5   σ\n",
      "              | 441.19 ± 0.25 |            |          |        \n",
      "  433.6 ± 2.1 | 434.30 ± 0.24 | -0.7 ± 2.1 | -0.16  % | 0.33  σ\n",
      "  430.7 ± 2.1 | 429.49 ± 0.23 |  1.2 ± 2.1 |  0.28  % | 0.56  σ\n",
      "              | 426.01 ± 0.23 |            |          |        \n",
      "  423.5 ± 1.3 | 423.40 ± 0.23 |  0.1 ± 1.3 |  0.024 % | 0.079 σ\n",
      "\n"
     ]
    }
   ],
   "source": [
    "# Test: Vergleiche, in denen Werte fehlen\n",
    "werte = arr([[820.5, 571.4, 501.0, 470.2, 454.3, None, 433.6, 430.7, None, 423.5],\n",
    "             [0.8493218002880191, 1.1890505204032267, 0.5945252602016133,\n",
    "              1.2739827004320285, 1.6986436005760381, None, 2.1233045007200477,\n",
    "              2.1233045007200477, None, 1.2739827004320285],\n",
    "             [820.5, 570.7094072095474, 500.2226094489081, 468.7724747247101,\n",
    "              451.650407609065, 441.1913744753898, 434.29622148706073, 429.4949134280389,\n",
    "              426.0102653247866, 423.39753086740905],\n",
    "             [0.8493218002880192, 0.4109085361760692, 0.3156761241481166,\n",
    "              0.2772294138792619, 0.2573474764388973, 0.24556650385495118,\n",
    "              0.23795081828704262, 0.23271862938516857, 0.2289576870796812,\n",
    "              0.22615788961099104]])\n",
    "vergleichstabelle(werte, ausrichtung = 'liste')\n",
    "\n",
    "\n",
    "# Zum Vergleich: Resultat mit der ursprünglischen Funktion\n",
    "'''\n",
    "Linien der 1. Nebenserie [nm]\n",
    "\n",
    "erwartet       gemessen         Abweichung    Sigma\n",
    "-------------  -------------  ------------  -------\n",
    "820.5 +/- 0.8  820.5 +/- 0.8           0.0      0.0\n",
    "570.7 +/- 0.4  571.4 +/- 1.2           0.7      0.5\n",
    "500.2 +/- 0.3  501.0 +/- 0.6           0.8      1.2\n",
    "468.8 +/- 0.3  470.2 +/- 1.3           1.4      1.1\n",
    "451.7 +/- 0.3  454.3 +/- 1.7           2.6      1.5\n",
    "441.2 +/- 0.2\n",
    "434.3 +/- 0.2  433.6 +/- 2.1          -0.7      0.3\n",
    "429.5 +/- 0.2  430.7 +/- 2.1           1.2      0.6\n",
    "426.0 +/- 0.2\n",
    "423.4 +/- 0.2  423.5 +/- 1.3           0.1      0.1\n",
    "''';"
   ]
  },
  {
   "cell_type": "code",
   "execution_count": 37,
   "metadata": {},
   "outputs": [
    {
     "name": "stdout",
     "output_type": "stream",
     "text": [
      "------------------------   -------------   -------------   -------------   -------------   -------------\n",
      "Wert       experimentell                   433.6  ± 2.1    430.7  ± 2.1                    423.5  ± 1.3 \n",
      "           theoretisch     441.19 ± 0.25   434.30 ± 0.24   429.49 ± 0.23   426.01 ± 0.23   423.40 ± 0.23\n",
      "Abweichung absolut                          -0.7  ± 2.1      1.2  ± 2.1                      0.1  ± 1.3 \n",
      "           relativ                            -0.16 %          0.28 %                         0.024 %   \n",
      "           sigma                               0.33 σ          0.56 σ                         0.079 σ   \n",
      "\n"
     ]
    }
   ],
   "source": [
    "vergleichstabelle((werte.T[-5:]).T)"
   ]
  },
  {
   "cell_type": "code",
   "execution_count": 38,
   "metadata": {},
   "outputs": [
    {
     "name": "stdout",
     "output_type": "stream",
     "text": [
      "------------------------   ------------------   -----------   ----------   ---------\n",
      "Wert       experimentell    0.0372  ± 0.0006    0.35 ± 0.37    1.6 ± 0.0   4.4 ± 0.0\n",
      "           theoretisch      0.04660 ± 0.00040   0.3  ± 0.0     1.6 ± 0.5   4.2 ± 0.0\n",
      "Abweichung absolut         -0.0094  ± 0.0007    0.05 ± 0.37   -0.0 ± 0.5   0.1 ± 0.0\n",
      "           relativ                -20 %             18 %        -1.2 %       3.5 %  \n",
      "           sigma                   14 σ            0.14 σ       0.042 σ        -    \n",
      "\n",
      "               Wert                 |              Abweichung              \n",
      " experimentell  |    theoretisch    |     absolut      | relativ |  sigma  \n",
      "---------------------------------------------------------------------------\n",
      "0.0372 ± 0.0006 | 0.04660 ± 0.00040 | -0.0094 ± 0.0007 | -20   % | 14     σ\n",
      "0.35   ± 0.37   | 0.3     ± 0.0     |  0.05   ± 0.37   |  18   % |  0.14  σ\n",
      "1.6    ± 0.0    | 1.6     ± 0.5     | -0.0    ± 0.5    |  -1.2 % |  0.042 σ\n",
      "4.4    ± 0.0    | 4.2     ± 0.0     |  0.1    ± 0.0    |   3.5 % |     -   \n",
      "\n"
     ]
    }
   ],
   "source": [
    "werte = arr([[0.0372, 0.348, 1.579, 4.382], [0.000571, 0.368, None, None], [0.0466, 0.295, 1.598, 4.234], [0.000395, None, 0.456, None]])\n",
    "vergleichstabelle(werte)\n",
    "vergleichstabelle(werte, ausrichtung = 'liste')"
   ]
  },
  {
   "cell_type": "code",
   "execution_count": 39,
   "metadata": {
    "scrolled": false
   },
   "outputs": [
    {
     "name": "stdout",
     "output_type": "stream",
     "text": [
      "      Wert       |      Abw.      \n",
      "exp |    the     | abs | rel | sig\n",
      "----------------------------------\n",
      "    | 58.0 ± 2.3 |     |     |    \n",
      "    | 39.0 ± 0.0 |     |     |    \n",
      "\n",
      "\n",
      "      Wert       |      Abw.      \n",
      "   exp     | the | abs | rel | sig\n",
      "----------------------------------\n",
      "58.0 ± 2.3 |     |     |     |    \n",
      "39   ± 5   |     |     |     |    \n",
      "\n",
      "--------   ----------   ------\n",
      "Wert exp   58.0 ± 2.3   39 ± 5\n",
      "     the                      \n",
      "Abw. abs                      \n",
      "     rel                      \n",
      "     sig                      \n",
      "\n",
      "\n",
      "  Wert    |      Abw.      \n",
      "exp | the | abs | rel | sig\n",
      "---------------------------\n",
      "    |     |     |     |    \n",
      "    |     |     |     |    \n",
      "\n",
      "           Test   \n",
      "--------   ----   \n",
      "Wert exp          \n",
      "     the          \n",
      "Abw. abs          \n",
      "     rel          \n",
      "     sig          \n",
      "\n"
     ]
    }
   ],
   "source": [
    "werte = arr([[None, None], [None, 4], [58, 39], [2.3, None]])\n",
    "vergleichstabelle(werte, ausrichtung = 'liste', beschreibung = 'knapp')\n",
    "print('')\n",
    "\n",
    "werte = arr([[58, 39], [2.3, 5.2], [None, None], [3, 4]])\n",
    "vergleichstabelle(werte, ausrichtung = 'liste', beschreibung = 'knapp')\n",
    "vergleichstabelle(werte, ausrichtung = 'blöcke', beschreibung = 'knapp')\n",
    "print('')\n",
    "\n",
    "werte = arr([[None, None], [2.3, 5.2], [None, None], [3, 4]])\n",
    "vergleichstabelle(werte, ausrichtung = 'liste', beschreibung = 'knapp')\n",
    "vergleichstabelle(werte, ausrichtung = 'blöcke', beschreibung = 'knapp', größen = 'Test')"
   ]
  },
  {
   "cell_type": "markdown",
   "metadata": {},
   "source": [
    "## Skizzen zu Darstellungsvarianten"
   ]
  },
  {
   "cell_type": "raw",
   "metadata": {},
   "source": [
    "'Angaben in [kg*m^2*s^-3]'\n",
    "\n",
    "\n",
    "'Einheit    kg*m^2*s^-3  '\n",
    "'------------------------'\n",
    "'Wert       theoretisch  '\n",
    "'           experimentell'\n",
    "'Abweichung absolut      '\n",
    "'           relativ      '\n",
    "'           sigma        '\n",
    "\n",
    "\n",
    "'Einheit    N            '\n",
    "'------------------------'\n",
    "'Wert       theoretisch  '\n",
    "'           experimentell'\n",
    "'Abweichung absolut      '\n",
    "'           relativ      '\n",
    "'           sigma        '\n",
    "\n",
    "\n",
    "'     [N]'\n",
    "'--------'\n",
    "'Wert the'\n",
    "'     exp'\n",
    "'Abw. abs'\n",
    "'     rel'\n",
    "'     sig'\n",
    "\n",
    "\n",
    "'   Einheit   |            Wert             |         Abweichung       '\n",
    "' kg*m^2*s^-3 | theoretisch | experimentell | absolut | relativ | sigma'\n",
    "'----------------------------------------------------------------------'\n",
    "\n",
    "'   Einheit   |            Wert             |         Abweichung       '\n",
    "'      N      | theoretisch | experimentell | absolut | relativ | sigma'\n",
    "'----------------------------------------------------------------------'\n",
    "\n",
    "\n",
    "'     |     Wert      |         Abw.        '\n",
    "' [N] | exp   |  the  |  abs  | rel  |  sig '\n",
    "'-------------------------------------------'"
   ]
  },
  {
   "cell_type": "raw",
   "metadata": {},
   "source": [
    "                      Wert                        |               Abweichung               \n",
    "     experimentell      |       theoretisch       |       absolut       | relativ |  sigma \n",
    "-------------------------------------------------------------------------------------------\n",
    "40000       ± 4000      | 40000       ± 4000      | -0        ± 6000    | -0.99 % | 0.071 σ\n",
    "   -4.0 e-5 ±    4  e-6 |    -4.0 e-5 ±    4  e-6 |  0.000000 ±    6e-6 | -0.99 % | 0.071 σ\n",
    "   -4.0 e-5 ±    4  e-6 |    -4.0 e-5 ±    4  e-6 |  0.000000 ±    6e-6 | -0.99 % | 0.071 σ\n",
    "   -3.94e-5 ±    3.9e-6 |    -3.98e-5 ±    3.9e-6 |  0.000000 ±    6e-6 | -0.99 % | 0.071 σ\n",
    "\n",
    "\n",
    "\n",
    "                      Wert                                        Abweichung               \n",
    "     experimentell              theoretisch               absolut         relativ    sigma \n",
    "-----------------------   -----------------------   -------------------   -------   -------\n",
    "40000       ± 4000        40000       ± 4000        -0        ± 6000      -0.99 %   0.071 σ\n",
    "   -4.0 e-5 ±    4  e-6      -4.0 e-5 ±    4  e-6    0.000000 ±    6e-6   -0.99 %   0.071 σ\n",
    "   -4.0 e-5 ±    4  e-6      -4.0 e-5 ±    4  e-6    0.000000 ±    6e-6   -0.99 %   0.071 σ\n",
    "   -3.94e-5 ±    3.9e-6      -3.98e-5 ±    3.9e-6    0.000000 ±    6e-6   -0.99 %   0.071 σ"
   ]
  },
  {
   "cell_type": "markdown",
   "metadata": {},
   "source": [
    " "
   ]
  },
  {
   "cell_type": "raw",
   "metadata": {},
   "source": [
    "[' 1.000               e 100',\n",
    " ' 3.85                e  44',\n",
    " '-1.398               e   5',\n",
    " '   48000                  ',\n",
    " '    1023                  ',\n",
    " '     483                  ',\n",
    " '-    395                  ',\n",
    " '      23.30               ',\n",
    " '       4.09               ',\n",
    " '       1.385              ',\n",
    " '-      0.839              ',\n",
    " '       0.0940             ',\n",
    " '       0.000385           ',\n",
    " '-            4.85    e  -5',\n",
    " '             5.48    e  -5',\n",
    " '-            3.95    e  -7',\n",
    " '             7.38    e -99',\n",
    " '-            3.73940 e-100']\n"
   ]
  },
  {
   "cell_type": "raw",
   "metadata": {},
   "source": [
    "['     1.00    e 100',\n",
    " '     3.85    e  44',\n",
    " '-    1.398   e   5',\n",
    " ' 48000            ',\n",
    " '  1023            ',\n",
    " '   483            ',\n",
    " '-  395            ',\n",
    " '    23.30         ',\n",
    " '     4.09         ',\n",
    " '     1.385        ',\n",
    " '-    0.839        ',\n",
    " '     0.0940       ',\n",
    " '     0.000385     ',\n",
    " '-    4.85    e-  5',\n",
    " '     5.48    e-  5',\n",
    " '-    3.95    e-  7',\n",
    " '     7.38    e- 99',\n",
    " '-    3.73940 e-100']\n",
    "\n"
   ]
  },
  {
   "cell_type": "raw",
   "metadata": {},
   "source": [
    "['    1.00    e 100',\n",
    " '    3.85    e  44',\n",
    " '   -1.398   e   5',\n",
    " '48000            ',\n",
    " ' 1023            ',\n",
    " '  483            ',\n",
    " ' -395            ',\n",
    " '   23.30         ',\n",
    " '    4.09         ',\n",
    " '    1.385        ',\n",
    " '   -0.839        ',\n",
    " '    0.0940       ',\n",
    " '    0.000385     ',\n",
    " '   -4.85    e  -5',\n",
    " '    5.48    e  -5',\n",
    " '   -3.95    e  -7',\n",
    " '    7.38    e -99',\n",
    " '   -3.73940 e-100']"
   ]
  },
  {
   "cell_type": "markdown",
   "metadata": {},
   "source": [
    " "
   ]
  },
  {
   "cell_type": "raw",
   "metadata": {},
   "source": [
    "' 3028.19'\n",
    "' -843   '\n",
    "'-2394   '\n",
    "\n",
    "' 3028.19'\n",
    "'- 843   '\n",
    "'-2394   '"
   ]
  },
  {
   "cell_type": "raw",
   "metadata": {},
   "source": [
    "[['0.123 +/- 0.012']\n",
    " ['1.10  +/- 0.10 ']\n",
    " ['0.98  +/- 0.10 ']\n",
    " ['     790 %     ']\n",
    " ['     9.8 σ     ']]"
   ]
  },
  {
   "cell_type": "raw",
   "metadata": {},
   "source": [
    "[['280 +/- 40'  ' 0.075  +/- 0.004 ']\n",
    " ['317 +/- 40'  ' 0.0754 +/- 0.0040']\n",
    " [' 30 +/- 60'  '-0.000  +/- 0.006 ']\n",
    " ['   12 %   '  '     -0.027 %     ']\n",
    " ['  0.58 σ  '  '     0.0035 σ     ']]"
   ]
  }
 ],
 "metadata": {
  "kernelspec": {
   "display_name": "Python 3",
   "language": "python",
   "name": "python3"
  },
  "language_info": {
   "codemirror_mode": {
    "name": "ipython",
    "version": 3
   },
   "file_extension": ".py",
   "mimetype": "text/x-python",
   "name": "python",
   "nbconvert_exporter": "python",
   "pygments_lexer": "ipython3",
   "version": "3.8.5"
  }
 },
 "nbformat": 4,
 "nbformat_minor": 4
}
