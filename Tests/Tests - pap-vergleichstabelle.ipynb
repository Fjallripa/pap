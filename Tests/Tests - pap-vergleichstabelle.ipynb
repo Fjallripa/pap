{
 "cells": [
  {
   "cell_type": "code",
   "execution_count": 1,
   "metadata": {},
   "outputs": [],
   "source": [
    "import numpy as np\n",
    "from numpy import array as arr\n",
    "from tabulate import tabulate"
   ]
  },
  {
   "cell_type": "code",
   "execution_count": 2,
   "metadata": {},
   "outputs": [],
   "source": [
    "import sys\n",
    "import socket\n",
    "if socket.gethostname() == 'Birks-iMac.fritz.box':\n",
    "    sys.path.append('/Users/Birk/Documents/Programmieren/Python/Eigener Code')\n",
    "else:\n",
    "    sys.path.append('/Home/ab227/linux/Eigener Code')\n",
    "from pap import summen_fehler\n",
    "from pap import _rundung, _rundung_einzel, _negativ_wird_null"
   ]
  },
  {
   "cell_type": "markdown",
   "metadata": {},
   "source": [
    "# pap.vergleichstabelle()-Entwicklung"
   ]
  },
  {
   "cell_type": "raw",
   "metadata": {},
   "source": [
    "Benötigt:\n",
    "    pap.summen_fehler()\n",
    "    \n",
    "    pap._rundung()\n",
    "    pap._rundung_einzel()\n",
    "    pap._negativ_wird_null()\n",
    "    pap._nachkommastelle()\n",
    "    pap._größenordnung()\n",
    "    pap._erste_ziffer()\n",
    "    pap._listen_transponieren()\n",
    "    pap._zahlenausrichtung()\n",
    "    pap._füllen()\n",
    "    pap._zentrieren_rechts()"
   ]
  },
  {
   "cell_type": "code",
   "execution_count": 3,
   "metadata": {},
   "outputs": [],
   "source": [
    "def _größenordnung(zahlen, art = int):\n",
    "    if art == int:\n",
    "        art = 'int64'\n",
    "    elif art == float:\n",
    "        art = 'float64'\n",
    "    \n",
    "    einsen = np.ones(np.shape(zahlen))   # 1 hat Größenordnung 0 (welches auch 0 hier haben soll).\n",
    "    zahlen_kompatibel = np.where(zahlen == 0, einsen, zahlen)\n",
    "    return arr(np.floor(np.log10(np.abs(zahlen_kompatibel))), dtype = art)"
   ]
  },
  {
   "cell_type": "code",
   "execution_count": 4,
   "metadata": {},
   "outputs": [],
   "source": [
    "def _erste_ziffer(zahlen, art = float):\n",
    "    größenordnungen = _größenordnung(zahlen, art = float)\n",
    "    ziffern = np.abs(zahlen / 10**größenordnungen)\n",
    "    if art == float:\n",
    "        return ziffern\n",
    "    if art == int:\n",
    "        return np.int_(ziffern)\n",
    "    "
   ]
  },
  {
   "cell_type": "code",
   "execution_count": 5,
   "metadata": {},
   "outputs": [
    {
     "name": "stdout",
     "output_type": "stream",
     "text": [
      "[1.293   3.7     9.304   1.6     9.99999 4.      6.      4.      6.     ]\n",
      "[1 3 9 1 9 4 5 4 5]\n"
     ]
    }
   ],
   "source": [
    "# Test: _erste_ziffer()\n",
    "\n",
    "print(_erste_ziffer(arr([1.293, 37, 0.9304, -1.60, -0.999999, 0.4, 0.6, -0.4, -0.6])))     \n",
    "print(_erste_ziffer(arr([1.293, 37, 0.9304, -1.60, -0.999999, 0.4, 0.6, -0.4, -0.6]), art = int))"
   ]
  },
  {
   "cell_type": "code",
   "execution_count": 6,
   "metadata": {},
   "outputs": [],
   "source": [
    "def _nachkommastelle(zahlen, sig_stellen = 1, sig_grenze = 1.0):\n",
    "    \n",
    "    über_der_grenze = _erste_ziffer(zahlen) >= sig_grenze\n",
    "    sig_stellen_normal = np.full(np.shape(zahlen), sig_stellen)\n",
    "    signifikante_stellen = np.where(über_der_grenze, sig_stellen_normal, sig_stellen_normal + 1)\n",
    "    größenordnungen = _größenordnung(zahlen, art = float)\n",
    "    \n",
    "    nachkommastellen = -größenordnungen + signifikante_stellen - 1\n",
    "    \n",
    "    \n",
    "    return nachkommastellen"
   ]
  },
  {
   "cell_type": "code",
   "execution_count": 7,
   "metadata": {},
   "outputs": [
    {
     "name": "stdout",
     "output_type": "stream",
     "text": [
      "[100  44   5   4   4   4   3   2   2   2   1   0   0   0  -1  -2  -4  -5\n",
      "  -5  -7 -99]\n",
      "[-99. -43.  -4.  -4.  -4.  -3.  -2.  -2.  -2.  -1.   0.   1.   0.   1.\n",
      "   1.   2.   5.   5.   5.   8.  99.]\n",
      "[ 1.0e+100  3.8e+044 -1.4e+005  5.0e+004 -4.0e+004 -4.0e+004  1.0e+003\n",
      "  1.0e+003  5.0e+002 -4.0e+002  2.3e+001  1.4e+000  4.0e+000  3.7e+000\n",
      " -8.0e-001  9.0e-002  3.8e-004 -5.0e-005  5.0e-005 -3.9e-007  7.0e-099]\n"
     ]
    }
   ],
   "source": [
    "# Test: _nachkommastelle(), _größenordnung()\n",
    "\n",
    "zahlliste = arr([1e100, 3849184e38, -1.3984820e5, 48024.304, -40000, -39999.0, 1023, 999.9999, 483, -395.00, \n",
    "                 23.30489, 1.3848, 4.09, 3.688, -0.839, 0.094, 0.0003848, -0.00004848, 5.4839e-5, -3.9485e-7, \n",
    "                 7.38e-99])\n",
    "\n",
    "nachkommastellen = _nachkommastelle(zahlliste, sig_grenze = 4.0)\n",
    "\n",
    "print(_größenordnung(zahlliste))\n",
    "print(nachkommastellen)\n",
    "zahlliste_gerundet = _rundung(zahlliste, np.int_(nachkommastellen))\n",
    "print(zahlliste_gerundet)"
   ]
  },
  {
   "cell_type": "code",
   "execution_count": 10,
   "metadata": {},
   "outputs": [],
   "source": [
    "def _füllen(string, menge = 1, index = 0, füllzeichen = ' '):\n",
    "    string_neu = string[:index] + füllzeichen * menge + string[index:]\n",
    "    return string_neu"
   ]
  },
  {
   "cell_type": "code",
   "execution_count": 12,
   "metadata": {},
   "outputs": [
    {
     "data": {
      "text/plain": [
       "'hi '"
      ]
     },
     "execution_count": 12,
     "metadata": {},
     "output_type": "execute_result"
    }
   ],
   "source": [
    "# Test: _füllen()\n",
    "\n",
    "_füllen('hi', index = len('hi'))"
   ]
  },
  {
   "cell_type": "code",
   "execution_count": 14,
   "metadata": {},
   "outputs": [],
   "source": [
    "def _zahlen_ausrichtung(zahlen_liste):\n",
    "    länge_abs = len(zahlen_liste)\n",
    "    anzahl = 7   #% (-,vk,.,nk,e,e-,ne, ende)\n",
    "\n",
    "    test_minus   = ['-' in string[0] for string in zahlen_liste]\n",
    "    test_komma   = ['.' in string for string in zahlen_liste]\n",
    "    test_e       = ['e' in string for string in zahlen_liste]\n",
    "    test_e_minus = ['e-' in string for string in zahlen_liste]\n",
    "    längen_strings = [len(string) for string in zahlen_liste]\n",
    "    indices = np.int_(np.zeros((länge_abs, anzahl + 1)))\n",
    "    \n",
    "\n",
    "    for i in range(länge_abs):\n",
    "        indices[i][7] = längen_strings[i]\n",
    "        if test_e[i]:\n",
    "            indices[i][4] = zahlen_liste[i].find('e')\n",
    "            if test_e_minus[i]:\n",
    "                indices[i][5] = zahlen_liste[i].find('e-') + 1\n",
    "                indices[i][6] = indices[i][5] + 1\n",
    "            else: \n",
    "                indices[i][5:7] = [indices[i][4] + 1] * 2\n",
    "        else:\n",
    "            indices[i][4:7] = [längen_strings[i]] * 3\n",
    "        if test_komma[i]:\n",
    "            indices[i][2] = zahlen_liste[i].find('.')\n",
    "            indices[i][3] = indices[i][2] + 1\n",
    "        else:\n",
    "            indices[i][2:4] = [indices[i][4]] * 2\n",
    "        if test_minus[i]:\n",
    "            indices[i][1] = 1\n",
    "        else:\n",
    "            indices[i][1] = 0\n",
    "\n",
    "    längen = (indices.T[1:] - indices.T[:-1]).T\n",
    "    längen_max = np.max(längen, axis = 0)\n",
    "    längen_diff = längen_max[np.newaxis:] - längen\n",
    "\n",
    "    längen_auswahl = [6, 5, 4, 3, 2, 1, 0]\n",
    "    indices_auswahl = [5, 5, 4, 4, 2, 0, 0]   #% auf jeden Fall kommentieren.\n",
    "    for i in range(länge_abs):\n",
    "        for j in range(len(längen_auswahl)):\n",
    "            zahlen_liste[i] = _füllen(zahlen_liste[i], menge = längen_diff[i][längen_auswahl[j]], \n",
    "                                    index = indices[i][indices_auswahl[j]])\n",
    "    \n",
    "    test_leerzeichen = [' ' in string[0] for string in zahlen_liste]\n",
    "    if np.all(test_leerzeichen):\n",
    "        for i in range(länge_abs):\n",
    "            zahlen_liste[i] = zahlen_liste[i][1:]\n",
    "    \n",
    "    return zahlen_liste"
   ]
  },
  {
   "cell_type": "code",
   "execution_count": 15,
   "metadata": {},
   "outputs": [],
   "source": [
    "def _listen_transponieren(listen_matrix):\n",
    "    transponierte_matrix = []\n",
    "    for i in range(len(listen_matrix[0])):\n",
    "        zeile = []\n",
    "        for j in range(len(listen_matrix)):\n",
    "            zeile.append(listen_matrix[j][i])\n",
    "        transponierte_matrix.append(zeile)\n",
    "    return transponierte_matrix"
   ]
  },
  {
   "cell_type": "code",
   "execution_count": 18,
   "metadata": {},
   "outputs": [],
   "source": [
    "# Test: _listen_transponieren()\n",
    "\n",
    "test_listen_matrix = [['1', '2'], ['3', '4'], ['5', '6']]\n",
    "test_listen_matrix = _listen_transponieren(test_listen_matrix)"
   ]
  },
  {
   "cell_type": "code",
   "execution_count": 19,
   "metadata": {},
   "outputs": [],
   "source": [
    "def _zentrieren_rechts(string, länge_gewünscht, füllzeichen = ' '):\n",
    "    länge_string = len(string)\n",
    "    if länge_gewünscht <= länge_string:\n",
    "        return string\n",
    "    else:\n",
    "        füll_länge        = länge_gewünscht - länge_string\n",
    "        füll_länge_links  = int(np.ceil(füll_länge / 2))\n",
    "        füll_länge_rechts = int(np.floor(füll_länge / 2))\n",
    "        string_zentriert  = füllzeichen * füll_länge_links + string + füllzeichen * füll_länge_rechts\n",
    "        return string_zentriert"
   ]
  },
  {
   "cell_type": "code",
   "execution_count": 20,
   "metadata": {},
   "outputs": [],
   "source": [
    "def vergleichstabelle(werte:np.ndarray, einheit = '', faktor = 1, ausrichtung = 'blöcke'):\n",
    "    # Vorbearbeitung der Werte\n",
    "    if np.shape(werte) == (4,):   \n",
    "        werte = np.array(werte, ndmin = 2).T\n",
    "    werte = werte * faktor   # Umrechnung auf gewünschte Größenordnung bzw. Einheit\n",
    "    werte[1::2] = np.abs(werte[1::2])      # Keine negativen Fehlerwerte\n",
    "    ex, ex_fehler, theo, theo_fehler = werte\n",
    "    anzahl_vergleiche = np.shape(werte)[1]\n",
    "    anzahl_zahlen = 8    # Anzahl Zahlen, die in einem Vergleich vorkommen\n",
    "    \n",
    "    \n",
    "    # Ausrechnen der Abweichungen\n",
    "    abweichung_abs = ex - theo\n",
    "    abweichung_abs_fehler = summen_fehler(arr([theo_fehler, ex_fehler]))\n",
    "    abweichung_rel = abweichung_abs / theo * 100   # [%]\n",
    "    abweichung_sig = np.abs(abweichung_abs / abweichung_abs_fehler)\n",
    "    \n",
    "    \n",
    "    # Bestimmung der Nachkommastellen\n",
    "    werte_absolut = arr([ex, theo, abweichung_abs])\n",
    "    werte_fehler  = arr([ex_fehler, theo_fehler, abweichung_abs_fehler])\n",
    "    werte_relativ = arr([abweichung_rel, abweichung_sig])\n",
    "    \n",
    "    nachkommastellen_fehler = _nachkommastelle(werte_fehler, sig_grenze = 3.95)\n",
    "    nachkommastellen_absolut = nachkommastellen_fehler\n",
    "    nachkommastellen_relativ = _nachkommastelle(werte_relativ, sig_stellen = 2, sig_grenze = 1.0)\n",
    "    \n",
    "    nachkommastellen = []\n",
    "    for i in range(3):\n",
    "        nachkommastellen.append(nachkommastellen_absolut[i])\n",
    "        nachkommastellen.append(nachkommastellen_fehler[i])\n",
    "    nachkommastellen.extend(nachkommastellen_relativ)\n",
    "    nachkommastellen = np.array(nachkommastellen, dtype = int)\n",
    "    \n",
    "    \n",
    "    # Rundung aller Werte\n",
    "    alle_werte = arr([ex, ex_fehler, theo, theo_fehler, abweichung_abs, abweichung_abs_fehler,\n",
    "                      abweichung_rel, abweichung_sig])\n",
    "    alle_werte_gerundet = _rundung(alle_werte, nachkommastellen)\n",
    "    größenordnungen = _größenordnung(alle_werte_gerundet)\n",
    "    \n",
    "    \n",
    "    # Darstellung der einzelnen Werte\n",
    "    alle_werte_strings = []\n",
    "    for i in range(anzahl_zahlen):\n",
    "        zahlen_strings = []\n",
    "        for j in range(anzahl_vergleiche):\n",
    "            if np.abs(größenordnungen[i][j]) < 5:\n",
    "                nachkommastelle = _negativ_wird_null(nachkommastellen[i][j])\n",
    "                wert_string = '{:.{prec}f}'.format(alle_werte_gerundet[i][j], prec = nachkommastelle)\n",
    "            else:\n",
    "                größenordnung = größenordnungen[i][j]\n",
    "                wert_gestutzt = alle_werte_gerundet[i][j] * 10**(-float(größenordnung))\n",
    "                präzision = nachkommastellen[i][j] + größenordnung\n",
    "\n",
    "                wert_string = '{:.{prec}f}e{}'.format(wert_gestutzt, größenordnung, prec = präzision)\n",
    "            zahlen_strings.append(wert_string)\n",
    "        alle_werte_strings.append(zahlen_strings)\n",
    "    \n",
    "    \n",
    "    # Formatierung der Werte zu einem schönen, gut lesbaren Vergleich\n",
    "    if ausrichtung == 'blöcke':\n",
    "        alle_werte_strings = arr(alle_werte_strings).T\n",
    "        alle_vergleiche = []\n",
    "        for i in range(anzahl_vergleiche):\n",
    "            strings_einzelwerte = alle_werte_strings[i]\n",
    "\n",
    "            # Anpassen der Absolutwerte aneinander\n",
    "            strings_absolut = list(strings_einzelwerte[[0, 2, 4]])\n",
    "            strings_absolut = _zahlen_ausrichtung(strings_absolut)\n",
    "\n",
    "            # Anpassen der Fehlerwerte aneinander\n",
    "            strings_fehler = list(strings_einzelwerte[[1, 3, 5]])\n",
    "            strings_fehler = _zahlen_ausrichtung(strings_fehler)\n",
    "\n",
    "            # Zusammenstellen des Vergleichs\n",
    "            strings_plusminus = [strings_absolut[i] + ' ± ' + strings_fehler[i] \n",
    "                                 for i in range(len(strings_absolut))]\n",
    "            string_rel, string_sig = [strings_einzelwerte[6] + ' %', strings_einzelwerte[7] + ' σ']\n",
    "            if string_rel[0] == '-':\n",
    "                string_sig = _füllen(string_sig)\n",
    "            strings_vergleich = [*strings_plusminus, string_rel, string_sig]\n",
    "            länge_gesamtstring = max([len(string) for string in strings_vergleich])\n",
    "            for i in range(len(strings_vergleich)):\n",
    "                strings_vergleich[i] = _zentrieren_rechts(strings_vergleich[i], länge_gesamtstring)\n",
    "            alle_vergleiche.append(strings_vergleich)\n",
    "            \n",
    "            \n",
    "    elif ausrichtung == 'liste':\n",
    "        alle_zahlen = []\n",
    "        for i in range(anzahl_zahlen):\n",
    "            strings_einzelwerte = alle_werte_strings[i]\n",
    "            strings_einzelwerte = _zahlen_ausrichtung(strings_einzelwerte)\n",
    "            alle_zahlen.append(strings_einzelwerte)            \n",
    "        strings_exp = [alle_zahlen[0][i] + ' ± ' + alle_zahlen[1][i] for i in range(anzahl_vergleiche)]\n",
    "        strings_the = [alle_zahlen[2][i] + ' ± ' + alle_zahlen[3][i] for i in range(anzahl_vergleiche)]\n",
    "        strings_abw = [alle_zahlen[4][i] + ' ± ' + alle_zahlen[5][i] for i in range(anzahl_vergleiche)]\n",
    "        strings_rel = [alle_zahlen[6][i] + ' %' for i in range(anzahl_vergleiche)]\n",
    "        strings_sig = [alle_zahlen[7][i] + ' σ' for i in range(anzahl_vergleiche)]\n",
    "        alle_vergleiche = [strings_exp, strings_the, strings_abw, strings_rel, strings_sig]\n",
    "    \n",
    "    else:\n",
    "        print(f'ausrichtung = \"{ausrichtung}\" ist kein gültiges Argument.')\n",
    "        return\n",
    "        \n",
    "    \n",
    "    # Erstellen der fertigen Tabellenstrings\n",
    "    alle_vergleiche = _listen_transponieren(alle_vergleiche)\n",
    "    for i in range(len(alle_vergleiche)):\n",
    "        alle_vergleiche[i] = ' | '.join(alle_vergleiche[i])\n",
    "            \n",
    "    \n",
    "    print('-' * len(alle_vergleiche[0]))\n",
    "    for zeile in alle_vergleiche:\n",
    "        print(zeile)  \n",
    "    print('')"
   ]
  },
  {
   "cell_type": "markdown",
   "metadata": {},
   "source": [
    " ## Tests"
   ]
  },
  {
   "cell_type": "code",
   "execution_count": 21,
   "metadata": {
    "scrolled": false
   },
   "outputs": [
    {
     "name": "stdout",
     "output_type": "stream",
     "text": [
      "------------------\n",
      "1.000e100 ± 1.3e98\n",
      "9.45 e 99 ± 1.3e98\n",
      "5.5  e 98 ± 1.8e98\n",
      "       5.8 %      \n",
      "       3.0 σ      \n",
      "\n",
      "---------------\n",
      " 3.85e44 ± 5e42\n",
      " 4.04e44 ± 5e42\n",
      "-1.9 e43 ± 7e42\n",
      "     -4.8 %    \n",
      "      2.7 σ    \n",
      "\n",
      "-----------------\n",
      "  -1.398e5 ± 1800\n",
      "  -1.468e5 ± 1800\n",
      "7000       ± 2600\n",
      "      -4.8 %     \n",
      "       2.7 σ     \n",
      "\n",
      "-----------\n",
      "48000 ± 600\n",
      "50400 ± 600\n",
      "-2400 ± 900\n",
      "   -4.8 %  \n",
      "    2.7 σ  \n",
      "\n",
      "------------\n",
      "-40000 ± 500\n",
      "-42000 ± 500\n",
      "  2000 ± 700\n",
      "   -4.8 %   \n",
      "    2.7 σ   \n",
      "\n",
      "------------\n",
      "-40000 ± 500\n",
      "-42000 ± 500\n",
      "  2000 ± 700\n",
      "   -4.8 %   \n",
      "    2.7 σ   \n",
      "\n",
      "---------\n",
      "1023 ± 13\n",
      "1074 ± 13\n",
      " -51 ± 19\n",
      "  -4.8 % \n",
      "   2.7 σ \n",
      "\n",
      "-------\n",
      "483 ± 6\n",
      "507 ± 6\n",
      "-24 ± 9\n",
      " -4.8 %\n",
      "  2.7 σ\n",
      "\n",
      "--------\n",
      "-395 ± 5\n",
      "-415 ± 5\n",
      "  20 ± 7\n",
      " -4.8 % \n",
      "  2.7 σ \n",
      "\n",
      "------------\n",
      "23.30 ± 0.30\n",
      "24.47 ± 0.30\n",
      "-1.2  ± 0.4 \n",
      "   -4.8 %   \n",
      "    2.7 σ   \n",
      "\n",
      "------------\n",
      " 4.09 ± 0.05\n",
      " 4.29 ± 0.05\n",
      "-0.20 ± 0.08\n",
      "   -4.8 %   \n",
      "    2.7 σ   \n",
      "\n",
      "------------\n",
      " 3.69 ± 0.05\n",
      " 3.87 ± 0.05\n",
      "-0.18 ± 0.07\n",
      "   -4.8 %   \n",
      "    2.7 σ   \n",
      "\n",
      "--------------\n",
      " 1.385 ± 0.018\n",
      " 1.454 ± 0.018\n",
      "-0.069 ± 0.025\n",
      "    -4.8 %    \n",
      "     2.7 σ    \n",
      "\n",
      "--------------\n",
      "-0.839 ± 0.011\n",
      "-0.881 ± 0.011\n",
      " 0.042 ± 0.015\n",
      "    -4.8 %    \n",
      "     2.7 σ    \n",
      "\n",
      "----------------\n",
      " 0.0940 ± 0.0012\n",
      " 0.0987 ± 0.0012\n",
      "-0.0047 ± 0.0017\n",
      "     -4.8 %     \n",
      "      2.7 σ     \n",
      "\n",
      "-------------------\n",
      " 0.000385    ± 5e-6\n",
      " 0.000404    ± 5e-6\n",
      "-1.9     e-5 ± 7e-6\n",
      "       -4.8 %      \n",
      "        2.7 σ      \n",
      "\n",
      "---------------\n",
      "-4.85e-5 ± 6e-7\n",
      "-4.58e-5 ± 6e-7\n",
      "-2.7 e-6 ± 9e-7\n",
      "     5.8 %     \n",
      "     3.0 σ     \n",
      "\n",
      "-----------------\n",
      " 5.48e-5 ± 7  e-7\n",
      " 5.76e-5 ± 7  e-7\n",
      "-2.7 e-6 ± 1.0e-6\n",
      "      -4.8 %     \n",
      "       2.7 σ     \n",
      "\n",
      "---------------\n",
      "-3.95e-7 ± 5e-9\n",
      "-4.15e-7 ± 5e-9\n",
      " 2.0 e-8 ± 7e-9\n",
      "     -4.8 %    \n",
      "      2.7 σ    \n",
      "\n",
      "---------------------\n",
      " 7.38e -99 ± 1.0e-100\n",
      " 7.75e -99 ± 1.0e-100\n",
      "-3.7 e-100 ± 1.4e-100\n",
      "        -4.8 %       \n",
      "         2.7 σ       \n",
      "\n"
     ]
    }
   ],
   "source": [
    "# Test: Darstellung von Werten verschiedenster Größenordnungen\n",
    "\n",
    "zahlliste = arr([1e100, 3849184e38, -1.3984820e5, 48024.304, -40000, -39999.0, 1023, 483, -395.00, 23.30489, \n",
    "                 4.09, 3.688, 1.3848, -0.839, 0.094, 0.0003848, -0.00004848, 5.4839e-5, -3.9485e-7, 7.38e-99])\n",
    "fehlerliste = zahlliste / 77\n",
    "theoliste = zahlliste * 1.05\n",
    "\n",
    "# Modifikation um Darstellung von negativen Zahlen weiter zu testen\n",
    "theoliste[0] = theoliste[0] * 0.9    # Test \"kein -\"\n",
    "theoliste[-4] = theoliste[-4] * 0.9  # Test \"alle -\"\n",
    "\n",
    "alle_werte = arr([zahlliste, fehlerliste, theoliste, fehlerliste]).T\n",
    "\n",
    "\n",
    "for i in range(len(zahlliste)):\n",
    "    vergleichstabelle(alle_werte[i])"
   ]
  },
  {
   "cell_type": "code",
   "execution_count": 22,
   "metadata": {},
   "outputs": [
    {
     "data": {
      "text/html": [
       "<style>.container { width:100% !important; }</style>"
      ],
      "text/plain": [
       "<IPython.core.display.HTML object>"
      ]
     },
     "metadata": {},
     "output_type": "display_data"
    }
   ],
   "source": [
    "# Test: Listendarstellung der Vergleiche mit vielen Größenordnungen\n",
    "\n",
    "# Um den Output breit genug für die Tabelle zu machen.\n",
    "from IPython.core.display import display, HTML\n",
    "display(HTML(\"<style>.container { width:100% !important; }</style>\"))"
   ]
  },
  {
   "cell_type": "code",
   "execution_count": 23,
   "metadata": {
    "scrolled": false
   },
   "outputs": [
    {
     "name": "stdout",
     "output_type": "stream",
     "text": [
      "----------------------------------------------------------------------------------------------------------------------------\n",
      "     1.000   e 100 ±    1.3   e  98 |      9.45    e 99 ±    1.3   e  98 |     5.5   e  98 ±    1.8   e  98 |  5.8 % | 3.0 σ\n",
      "     3.85    e  44 ±    5     e  42 |      4.04    e 44 ±    5     e  42 |    -1.9   e  43 ±    7     e  42 | -4.8 % | 2.7 σ\n",
      "    -1.398   e   5 ± 1800           |     -1.468   e  5 ± 1800           |  7000           ± 2600           | -4.8 % | 2.7 σ\n",
      " 48000             ±  600           |  50400            ±  600           | -2400           ±  900           | -4.8 % | 2.7 σ\n",
      "-40000             ±  500           | -42000            ±  500           |  2000           ±  700           | -4.8 % | 2.7 σ\n",
      "-40000             ±  500           | -42000            ±  500           |  2000           ±  700           | -4.8 % | 2.7 σ\n",
      "  1023             ±   13           |   1074            ±   13           |   -51           ±   19           | -4.8 % | 2.7 σ\n",
      "   483             ±    6           |    507            ±    6           |   -24           ±    9           | -4.8 % | 2.7 σ\n",
      "  -395             ±    5           |   -415            ±    5           |    20           ±    7           | -4.8 % | 2.7 σ\n",
      "    23.30          ±    0.30        |     24.47         ±    0.30        |    -1.2         ±    0.4         | -4.8 % | 2.7 σ\n",
      "     4.09          ±    0.05        |      4.29         ±    0.05        |    -0.20        ±    0.08        | -4.8 % | 2.7 σ\n",
      "     3.69          ±    0.05        |      3.87         ±    0.05        |    -0.18        ±    0.07        | -4.8 % | 2.7 σ\n",
      "     1.385         ±    0.018       |      1.454        ±    0.018       |    -0.069       ±    0.025       | -4.8 % | 2.7 σ\n",
      "    -0.839         ±    0.011       |     -0.881        ±    0.011       |     0.042       ±    0.015       | -4.8 % | 2.7 σ\n",
      "     0.0940        ±    0.0012      |      0.0987       ±    0.0012      |    -0.0047      ±    0.0017      | -4.8 % | 2.7 σ\n",
      "     0.000385      ±    5     e  -6 |      0.000404     ±    5     e  -6 |    -1.9   e  -5 ±    7     e  -6 | -4.8 % | 2.7 σ\n",
      "    -4.85    e  -5 ±    6     e  -7 |     -4.58    e -5 ±    6     e  -7 |    -2.7   e  -6 ±    9     e  -7 |  5.8 % | 3.0 σ\n",
      "     5.48    e  -5 ±    7     e  -7 |      5.76    e -5 ±    7     e  -7 |    -2.7   e  -6 ±    1.0   e  -6 | -4.8 % | 2.7 σ\n",
      "    -3.95    e  -7 ±    5     e  -9 |     -4.15    e -7 ±    5     e  -9 |     2.0   e  -8 ±    7     e  -9 | -4.8 % | 2.7 σ\n",
      "     7.38    e -99 ±    1.0   e-100 |      7.75    e-99 ±    1.0   e-100 |    -3.7   e-100 ±    1.4   e-100 | -4.8 % | 2.7 σ\n",
      "\n"
     ]
    }
   ],
   "source": [
    "vergleichstabelle(alle_werte.T, ausrichtung = 'liste')"
   ]
  },
  {
   "cell_type": "code",
   "execution_count": 24,
   "metadata": {},
   "outputs": [
    {
     "name": "stdout",
     "output_type": "stream",
     "text": [
      "--------------------------------------------------------------\n",
      " 483    ± 6    |  507    ± 6    | -24   ± 9   | -4.8 % | 2.7 σ\n",
      "-395    ± 5    | -415    ± 5    |  20   ± 7   | -4.8 % | 2.7 σ\n",
      "  23.30 ± 0.30 |   24.47 ± 0.30 |  -1.2 ± 0.4 | -4.8 % | 2.7 σ\n",
      "\n",
      "-------------------------------------------------------------------------\n",
      "1.000e100 ± 1.3e98 | 9.45e99 ± 1.3e98 |  5.5e98 ± 1.8e98 |  5.8 % | 3.0 σ\n",
      "3.85 e 44 ± 5  e42 | 4.04e44 ± 5  e42 | -1.9e43 ± 7  e42 | -4.8 % | 2.7 σ\n",
      "\n",
      "-------------------------------------------------------------------------\n",
      "    -1.398e5 ± 1800 |     -1.468e5 ± 1800 |  7000 ± 2600 | -4.8 % | 2.7 σ\n",
      " 48000       ±  600 |  50400       ±  600 | -2400 ±  900 | -4.8 % | 2.7 σ\n",
      "-40000       ±  500 | -42000       ±  500 |  2000 ±  700 | -4.8 % | 2.7 σ\n",
      "\n"
     ]
    }
   ],
   "source": [
    "# Test: Listendarstellungen bei kleineren Listen und ähnlicheren Werten.\n",
    "\n",
    "vergleichstabelle(alle_werte[7:10].T, ausrichtung = 'liste')\n",
    "vergleichstabelle(alle_werte[0:2].T, ausrichtung = 'liste')\n",
    "vergleichstabelle(alle_werte[2:5].T, ausrichtung = 'liste')"
   ]
  },
  {
   "cell_type": "code",
   "execution_count": 25,
   "metadata": {},
   "outputs": [
    {
     "name": "stdout",
     "output_type": "stream",
     "text": [
      "--------------------------------------------------------------------------------\n",
      "40000 ± 4000 | -4.0     e-5 ± 4e-6 | -4.0     e-5 ± 4e-6 | -3.94    e-5 ± 3.9e-6\n",
      "40000 ± 4000 | -4.0     e-5 ± 4e-6 | -4.0     e-5 ± 4e-6 | -3.98    e-5 ± 3.9e-6\n",
      "   -0 ± 6000 |  0.000000    ± 6e-6 |  0.000000    ± 6e-6 |  0.000000    ± 6  e-6\n",
      "   -0.99 %   |       -0.99 %       |       -0.99 %       |        -0.99 %       \n",
      "   0.071 σ   |        0.071 σ      |        0.071 σ      |         0.071 σ      \n",
      "\n",
      "-------------------------------------------------------------------------------------------\n",
      "40000       ± 4000      | 40000       ± 4000      | -0        ± 6000    | -0.99 % | 0.071 σ\n",
      "   -4.0 e-5 ±    4  e-6 |    -4.0 e-5 ±    4  e-6 |  0.000000 ±    6e-6 | -0.99 % | 0.071 σ\n",
      "   -4.0 e-5 ±    4  e-6 |    -4.0 e-5 ±    4  e-6 |  0.000000 ±    6e-6 | -0.99 % | 0.071 σ\n",
      "   -3.94e-5 ±    3.9e-6 |    -3.98e-5 ±    3.9e-6 |  0.000000 ±    6e-6 | -0.99 % | 0.071 σ\n",
      "\n"
     ]
    }
   ],
   "source": [
    "# Test: Vergleich der Block-Darstellung mit der Listendarstellung\n",
    "\n",
    "zahlliste = arr([39950, -0.000039999, -0.0000398384, -0.0000393884])\n",
    "fehlerliste = zahlliste / 10\n",
    "theoliste = zahlliste * 1.01\n",
    "alle_werte = arr([zahlliste, fehlerliste, theoliste, fehlerliste])\n",
    "\n",
    "vergleichstabelle(alle_werte, ausrichtung = 'blöcke')\n",
    "vergleichstabelle(alle_werte, ausrichtung = 'liste')"
   ]
  },
  {
   "cell_type": "code",
   "execution_count": 26,
   "metadata": {},
   "outputs": [
    {
     "name": "stdout",
     "output_type": "stream",
     "text": [
      "ausrichtung = \"listen\" ist kein gültiges Argument.\n"
     ]
    }
   ],
   "source": [
    "# Test: Falsches ausrichtung-Argument\n",
    "vergleichstabelle(alle_werte[7:10].T, ausrichtung = 'listen')"
   ]
  },
  {
   "cell_type": "code",
   "execution_count": 27,
   "metadata": {
    "scrolled": false
   },
   "outputs": [
    {
     "name": "stdout",
     "output_type": "stream",
     "text": [
      "--------------\n",
      " 0.123 ± 0.012\n",
      " 1.10  ± 0.10 \n",
      "-0.98  ± 0.10 \n",
      "     -89 %    \n",
      "     9.8 σ    \n",
      "\n",
      "--------------\n",
      " 0.123 ± 0.012\n",
      " 1.10  ± 0.10 \n",
      "-0.98  ± 0.10 \n",
      "     -89 %    \n",
      "     9.8 σ    \n",
      "\n",
      "--------------\n",
      "-0.123 ± 0.012\n",
      "-1.10  ± 0.10 \n",
      " 0.98  ± 0.10 \n",
      "     -89 %    \n",
      "     9.8 σ    \n",
      "\n",
      "--------------\n",
      " 0.123 ± 0.012\n",
      "-1.10  ± 0.10 \n",
      " 1.22  ± 0.10 \n",
      "    -110 %    \n",
      "      12 σ    \n",
      "\n",
      "---------------------------\n",
      " 0.123 ± 0.012 | 57.1 ± 3.3\n",
      " 1.1   ± 1.0   | 48   ± 4  \n",
      "-1.0   ± 1.0   |  9   ± 5  \n",
      "     -89 %     |    19 %   \n",
      "     0.99 σ    |    1.7 σ  \n",
      "\n",
      "---------------------------------------------------------------------\n",
      "280 ± 40 | 0.075 ± 0.004 |  0.008293 ± 4.0e-5 | -0.1230   ± 0.0012   \n",
      "320 ± 40 | 0.075 ± 0.004 |  0.010000 ± 3.9e-5 | -1.098000 ± 1.0   e-5\n",
      "-30 ± 60 | 0.000 ± 0.006 | -0.00171  ± 6  e-5 |  0.9750   ± 0.0012   \n",
      "  -10 %  |    0.027 %    |        -17 %       |         -89 %        \n",
      "  0.58 σ |    0.0035 σ   |         31 σ       |          810 σ       \n",
      "\n",
      "---------\n",
      "   0 ± 4 \n",
      "   0 ± 4 \n",
      "  -0 ± 6 \n",
      "  -99 %  \n",
      " 1.8e-6 σ\n",
      "\n"
     ]
    }
   ],
   "source": [
    "# Test der Funktion:\n",
    "\n",
    "# Test mit normalen Werten\n",
    "vergleichstabelle(arr([0.123, 0.012, 1.098, 0.0987]))\n",
    "\n",
    "# Tests mit negativen Werten und negativen Fehlern\n",
    "vergleichstabelle(arr([ 0.123, -0.012,  1.098, 0.0987]))\n",
    "vergleichstabelle(arr([-0.123,  0.012, -1.098, 0.0987]))\n",
    "vergleichstabelle(arr([ 0.123,  0.012, -1.098, 0.0987]))\n",
    "\n",
    "\n",
    "# Test mit zwei Vergleichen\n",
    "vergleichstabelle(arr([[0.123, 400 / 7], \n",
    "                       [0.012, 23 / 7], \n",
    "                       [1.098, 337 / 7], \n",
    "                       [0.987, 29 / 7]]))\n",
    "\n",
    "# Test der Rundung (auch bei rel. und sig. Abweichung)\n",
    "vergleichstabelle(arr([[284.3858, 0.07538, 0.00829339400, -0.123], \n",
    "                       [40.0000 , 0.00400, 0.00003950000,  0.0012], \n",
    "                       [317.3048, 0.07536, 0.00999999900, -1.098], \n",
    "                       [39.9999 , 0.00399, 0.00003949990,  0.0000098]]))\n",
    "\n",
    "# Test mit längeren relativen als ±-Strings\n",
    "vergleichstabelle(arr([1e-7, 4,  1e-5, 4]))"
   ]
  },
  {
   "cell_type": "markdown",
   "metadata": {},
   "source": [
    "### Tests mit richtigen Werten aus PAP-Experimenten"
   ]
  },
  {
   "cell_type": "code",
   "execution_count": 28,
   "metadata": {},
   "outputs": [
    {
     "name": "stdout",
     "output_type": "stream",
     "text": [
      "----------\n",
      "75.3 ± 0.8\n",
      "66.0 ± 0.5\n",
      " 9.3 ± 0.9\n",
      "   14 %   \n",
      "   10 σ   \n",
      "\n"
     ]
    }
   ],
   "source": [
    "# Test: standard Wertdarstellung\n",
    "werte = arr([75.31709457,  0.76723428, 66.,          0.5       ])\n",
    "vergleichstabelle(werte)\n",
    "\n",
    "\n",
    "# Zum Vergleich: Resultat mit der ursprünglischen Funktion\n",
    "'''\n",
    "Tabelle 5: Literaturvergleich Inklinationswinkel\n",
    "\n",
    "Angaben in °\n",
    "-------------------  ----\n",
    "Messwert             75.3\n",
    "dessen Fehler         0.8\n",
    "Literaturwert        66.0\n",
    "dessen Fehler         0.5\n",
    "rel. Abweichung [%]  14.1\n",
    "Sigma                10.2\n",
    "''';"
   ]
  },
  {
   "cell_type": "code",
   "execution_count": 29,
   "metadata": {},
   "outputs": [
    {
     "name": "stdout",
     "output_type": "stream",
     "text": [
      "------------------------------------------------------\n",
      " 1.252  ± 0.024  |  1.386  ± 0.016  |  1.409  ± 0.023 \n",
      " 1.4000 ± 0.0010 |  1.4000 ± 0.0010 |  1.6480 ± 0.0005\n",
      "-0.148  ± 0.024  | -0.014  ± 0.016  | -0.239  ± 0.023 \n",
      "      -11 %      |      -1.0 %      |       -15 %     \n",
      "      6.2 σ      |       0.92 σ     |        11 σ     \n",
      "\n"
     ]
    }
   ],
   "source": [
    "# Test: standard Wertdarstellung (bes. mit unterschiedlich vielen Nachkommastellen)\n",
    "werte = arr([[1.25153244e+00, 1.38557443e+00, 1.40897994e+00],\n",
    "             [2.39146223e-02, 1.56325105e-02, 2.27141900e-02],\n",
    "             [1.40000000e+00, 1.40000000e+00, 1.64800000e+00],\n",
    "             [1.00000000e-03, 1.00000000e-03, 5.00000000e-04]])\n",
    "vergleichstabelle(werte)\n",
    "\n",
    "\n",
    "# Zum Vergleich: Resultat mit der ursprünglischen Funktion\n",
    "'''\n",
    "Tabelle 1: Vergleich der Viskositäten nach Stokes bzw. Hagen-Poiseuille\n",
    "\n",
    "Adiabatenkoeffizient      Clément-Desormes Luft    Rüchhardt Luft    Rüchhardt Argon\n",
    "----------------------  -----------------------  ----------------  -----------------\n",
    "exp. Wert                                  1.25              1.39               1.41\n",
    "dessen Fehler                              0.02              0.02               0.02\n",
    "the. Wert                                  1.40              1.40               1.65\n",
    "dessen Fehler                              0.00              0.00               0.00\n",
    "rel. Abweichung [%]                      -10.60             -1.03             -14.50\n",
    "Sigma                                      6.20              0.92              10.52\n",
    "''';"
   ]
  },
  {
   "cell_type": "code",
   "execution_count": 30,
   "metadata": {},
   "outputs": [
    {
     "name": "stdout",
     "output_type": "stream",
     "text": [
      "-------------\n",
      "1.395 ± 0.029\n",
      "1.4   ± 0.0  \n",
      "0.015 ± 0.029\n",
      "    1.1 %    \n",
      "    0.50 σ   \n",
      "\n"
     ]
    }
   ],
   "source": [
    "# Test: theoretischer Wert ist exakt & faktor-Argument\n",
    "werte = arr([1.39515138e-23, 2.90095704e-25, 1.38064900e-23, 0.00000000e+00])\n",
    "vergleichstabelle(werte, faktor = 1e23)\n",
    "\n",
    "\n",
    "# Zum Vergleich: Resultat mit der ursprünglischen Funktion\n",
    "'''\n",
    "Tabelle 1: Literaturvergleich Boltzmannkonstante\n",
    "\n",
    "Angaben in 10^(-23) J/K\n",
    "-------------------------  ----\n",
    "Messwert                   1.40\n",
    "dessen Fehler              0.03\n",
    "Literaturwert              1.38\n",
    "dessen Fehler              0.00\n",
    "rel. Abweichung [%]        1.05\n",
    "Sigma                      0.50\n",
    "''';"
   ]
  },
  {
   "cell_type": "code",
   "execution_count": 31,
   "metadata": {},
   "outputs": [
    {
     "name": "stderr",
     "output_type": "stream",
     "text": [
      "<ipython-input-20-1f65b9a2a0e9>:15: RuntimeWarning: divide by zero encountered in true_divide\n",
      "  abweichung_rel = abweichung_abs / theo * 100   # [%]\n",
      "<ipython-input-4-1478c7706986>:3: RuntimeWarning: invalid value encountered in true_divide\n",
      "  ziffern = np.abs(zahlen / 10**größenordnungen)\n"
     ]
    },
    {
     "ename": "OverflowError",
     "evalue": "signed integer is less than minimum",
     "output_type": "error",
     "traceback": [
      "\u001b[0;31m---------------------------------------------------------------------------\u001b[0m",
      "\u001b[0;31mOverflowError\u001b[0m                             Traceback (most recent call last)",
      "\u001b[0;32m<ipython-input-31-102bc4e0b743>\u001b[0m in \u001b[0;36m<module>\u001b[0;34m\u001b[0m\n\u001b[1;32m      4\u001b[0m              \u001b[0;34m[\u001b[0m\u001b[0;36m0\u001b[0m\u001b[0;34m,\u001b[0m          \u001b[0;36m1.43030\u001b[0m\u001b[0;34m,\u001b[0m    \u001b[0;36m2.45902\u001b[0m\u001b[0;34m,\u001b[0m    \u001b[0;36m3.47089\u001b[0m\u001b[0;34m,\u001b[0m   \u001b[0;36m4.47741\u001b[0m   \u001b[0;34m]\u001b[0m\u001b[0;34m,\u001b[0m\u001b[0;34m\u001b[0m\u001b[0;34m\u001b[0m\u001b[0m\n\u001b[1;32m      5\u001b[0m              [0,          0,          0,          0,         0         ]])\n\u001b[0;32m----> 6\u001b[0;31m \u001b[0mvergleichstabelle\u001b[0m\u001b[0;34m(\u001b[0m\u001b[0mwerte\u001b[0m\u001b[0;34m)\u001b[0m\u001b[0;34m\u001b[0m\u001b[0;34m\u001b[0m\u001b[0m\n\u001b[0m\u001b[1;32m      7\u001b[0m \u001b[0;34m\u001b[0m\u001b[0m\n\u001b[1;32m      8\u001b[0m \u001b[0;34m\u001b[0m\u001b[0m\n",
      "\u001b[0;32m<ipython-input-20-1f65b9a2a0e9>\u001b[0m in \u001b[0;36mvergleichstabelle\u001b[0;34m(werte, einheit, faktor, ausrichtung)\u001b[0m\n\u001b[1;32m     37\u001b[0m     alle_werte = arr([ex, ex_fehler, theo, theo_fehler, abweichung_abs, abweichung_abs_fehler,\n\u001b[1;32m     38\u001b[0m                       abweichung_rel, abweichung_sig])\n\u001b[0;32m---> 39\u001b[0;31m     \u001b[0malle_werte_gerundet\u001b[0m \u001b[0;34m=\u001b[0m \u001b[0m_rundung\u001b[0m\u001b[0;34m(\u001b[0m\u001b[0malle_werte\u001b[0m\u001b[0;34m,\u001b[0m \u001b[0mnachkommastellen\u001b[0m\u001b[0;34m)\u001b[0m\u001b[0;34m\u001b[0m\u001b[0;34m\u001b[0m\u001b[0m\n\u001b[0m\u001b[1;32m     40\u001b[0m     \u001b[0mgrößenordnungen\u001b[0m \u001b[0;34m=\u001b[0m \u001b[0m_größenordnung\u001b[0m\u001b[0;34m(\u001b[0m\u001b[0malle_werte_gerundet\u001b[0m\u001b[0;34m)\u001b[0m\u001b[0;34m\u001b[0m\u001b[0;34m\u001b[0m\u001b[0m\n\u001b[1;32m     41\u001b[0m \u001b[0;34m\u001b[0m\u001b[0m\n",
      "\u001b[0;32m~/Documents/Programmieren/Python/Eigener Code/pap.py\u001b[0m in \u001b[0;36m_rundung\u001b[0;34m(werte, präzisionen)\u001b[0m\n\u001b[1;32m    170\u001b[0m \u001b[0;34m\u001b[0m\u001b[0m\n\u001b[1;32m    171\u001b[0m     \u001b[0;31m# Eigentlicher Rundungsprozess\u001b[0m\u001b[0;34m\u001b[0m\u001b[0;34m\u001b[0m\u001b[0;34m\u001b[0m\u001b[0m\n\u001b[0;32m--> 172\u001b[0;31m     \u001b[0;32mreturn\u001b[0m \u001b[0m_rundung_einzel\u001b[0m\u001b[0;34m(\u001b[0m\u001b[0mwerte\u001b[0m\u001b[0;34m,\u001b[0m \u001b[0mpräzisionen\u001b[0m\u001b[0;34m)\u001b[0m\u001b[0;34m\u001b[0m\u001b[0;34m\u001b[0m\u001b[0m\n\u001b[0m\u001b[1;32m    173\u001b[0m \u001b[0;34m\u001b[0m\u001b[0m\n\u001b[1;32m    174\u001b[0m \u001b[0;34m\u001b[0m\u001b[0m\n",
      "\u001b[0;32m~/Documents/Programmieren/Python/Eigener Code/pap.py\u001b[0m in \u001b[0;36m_rundung_einzel\u001b[0;34m(wert, präzision)\u001b[0m\n\u001b[1;32m    120\u001b[0m         \u001b[0mwert_gerundet\u001b[0m \u001b[0;34m=\u001b[0m \u001b[0mnp\u001b[0m\u001b[0;34m.\u001b[0m\u001b[0mzeros\u001b[0m\u001b[0;34m(\u001b[0m\u001b[0mwert_form\u001b[0m\u001b[0;34m)\u001b[0m\u001b[0;34m\u001b[0m\u001b[0;34m\u001b[0m\u001b[0m\n\u001b[1;32m    121\u001b[0m         \u001b[0;32mfor\u001b[0m \u001b[0mi\u001b[0m \u001b[0;32min\u001b[0m \u001b[0mrange\u001b[0m\u001b[0;34m(\u001b[0m\u001b[0mwert_form\u001b[0m\u001b[0;34m[\u001b[0m\u001b[0;36m0\u001b[0m\u001b[0;34m]\u001b[0m\u001b[0;34m)\u001b[0m\u001b[0;34m:\u001b[0m\u001b[0;34m\u001b[0m\u001b[0;34m\u001b[0m\u001b[0m\n\u001b[0;32m--> 122\u001b[0;31m             \u001b[0mwert_gerundet\u001b[0m\u001b[0;34m[\u001b[0m\u001b[0mi\u001b[0m\u001b[0;34m]\u001b[0m \u001b[0;34m=\u001b[0m \u001b[0m_rundung_einzel\u001b[0m\u001b[0;34m(\u001b[0m\u001b[0mwert\u001b[0m\u001b[0;34m[\u001b[0m\u001b[0mi\u001b[0m\u001b[0;34m]\u001b[0m\u001b[0;34m,\u001b[0m \u001b[0mpräzision\u001b[0m\u001b[0;34m[\u001b[0m\u001b[0mi\u001b[0m\u001b[0;34m]\u001b[0m\u001b[0;34m)\u001b[0m\u001b[0;34m\u001b[0m\u001b[0;34m\u001b[0m\u001b[0m\n\u001b[0m\u001b[1;32m    123\u001b[0m \u001b[0;34m\u001b[0m\u001b[0m\n\u001b[1;32m    124\u001b[0m     \u001b[0;32mreturn\u001b[0m \u001b[0mwert_gerundet\u001b[0m   \u001b[0;31m# Die gesammelten gerundeten Werte werden als Ergebnis zur vorigen Funktion\u001b[0m\u001b[0;34m\u001b[0m\u001b[0;34m\u001b[0m\u001b[0m\n",
      "\u001b[0;32m~/Documents/Programmieren/Python/Eigener Code/pap.py\u001b[0m in \u001b[0;36m_rundung_einzel\u001b[0;34m(wert, präzision)\u001b[0m\n\u001b[1;32m    120\u001b[0m         \u001b[0mwert_gerundet\u001b[0m \u001b[0;34m=\u001b[0m \u001b[0mnp\u001b[0m\u001b[0;34m.\u001b[0m\u001b[0mzeros\u001b[0m\u001b[0;34m(\u001b[0m\u001b[0mwert_form\u001b[0m\u001b[0;34m)\u001b[0m\u001b[0;34m\u001b[0m\u001b[0;34m\u001b[0m\u001b[0m\n\u001b[1;32m    121\u001b[0m         \u001b[0;32mfor\u001b[0m \u001b[0mi\u001b[0m \u001b[0;32min\u001b[0m \u001b[0mrange\u001b[0m\u001b[0;34m(\u001b[0m\u001b[0mwert_form\u001b[0m\u001b[0;34m[\u001b[0m\u001b[0;36m0\u001b[0m\u001b[0;34m]\u001b[0m\u001b[0;34m)\u001b[0m\u001b[0;34m:\u001b[0m\u001b[0;34m\u001b[0m\u001b[0;34m\u001b[0m\u001b[0m\n\u001b[0;32m--> 122\u001b[0;31m             \u001b[0mwert_gerundet\u001b[0m\u001b[0;34m[\u001b[0m\u001b[0mi\u001b[0m\u001b[0;34m]\u001b[0m \u001b[0;34m=\u001b[0m \u001b[0m_rundung_einzel\u001b[0m\u001b[0;34m(\u001b[0m\u001b[0mwert\u001b[0m\u001b[0;34m[\u001b[0m\u001b[0mi\u001b[0m\u001b[0;34m]\u001b[0m\u001b[0;34m,\u001b[0m \u001b[0mpräzision\u001b[0m\u001b[0;34m[\u001b[0m\u001b[0mi\u001b[0m\u001b[0;34m]\u001b[0m\u001b[0;34m)\u001b[0m\u001b[0;34m\u001b[0m\u001b[0;34m\u001b[0m\u001b[0m\n\u001b[0m\u001b[1;32m    123\u001b[0m \u001b[0;34m\u001b[0m\u001b[0m\n\u001b[1;32m    124\u001b[0m     \u001b[0;32mreturn\u001b[0m \u001b[0mwert_gerundet\u001b[0m   \u001b[0;31m# Die gesammelten gerundeten Werte werden als Ergebnis zur vorigen Funktion\u001b[0m\u001b[0;34m\u001b[0m\u001b[0;34m\u001b[0m\u001b[0m\n",
      "\u001b[0;32m~/Documents/Programmieren/Python/Eigener Code/pap.py\u001b[0m in \u001b[0;36m_rundung_einzel\u001b[0;34m(wert, präzision)\u001b[0m\n\u001b[1;32m    113\u001b[0m     \u001b[0;31m# Eigentliche Rundung\u001b[0m\u001b[0;34m\u001b[0m\u001b[0;34m\u001b[0m\u001b[0;34m\u001b[0m\u001b[0m\n\u001b[1;32m    114\u001b[0m     \u001b[0;32mif\u001b[0m \u001b[0manzahl_dimensionen\u001b[0m \u001b[0;34m==\u001b[0m \u001b[0;36m0\u001b[0m\u001b[0;34m:\u001b[0m\u001b[0;34m\u001b[0m\u001b[0;34m\u001b[0m\u001b[0m\n\u001b[0;32m--> 115\u001b[0;31m         \u001b[0mwert_gerundet\u001b[0m \u001b[0;34m=\u001b[0m \u001b[0mround\u001b[0m\u001b[0;34m(\u001b[0m\u001b[0mwert\u001b[0m\u001b[0;34m,\u001b[0m \u001b[0mpräzision\u001b[0m\u001b[0;34m)\u001b[0m\u001b[0;34m\u001b[0m\u001b[0;34m\u001b[0m\u001b[0m\n\u001b[0m\u001b[1;32m    116\u001b[0m \u001b[0;34m\u001b[0m\u001b[0m\n\u001b[1;32m    117\u001b[0m     \u001b[0;31m# Aufrufen von  _rundung_einzel()  um in einem for-Loop die Elemente von werte abzuarbeiten.\u001b[0m\u001b[0;34m\u001b[0m\u001b[0;34m\u001b[0m\u001b[0;34m\u001b[0m\u001b[0m\n",
      "\u001b[0;31mOverflowError\u001b[0m: signed integer is less than minimum"
     ]
    }
   ],
   "source": [
    "# Test: Listenansicht und theoretischer Wert ist 0\n",
    "werte = arr([[-0.0631769, 1.41696751, 2.48194946, 3.4566787, 4.55776173],\n",
    "             [0.05460126, 0.05472070, 0.05496739, 0.0553094, 0.05582687],\n",
    "             [0,          1.43030,    2.45902,    3.47089,   4.47741   ],\n",
    "             [0,          0,          0,          0,         0         ]])\n",
    "vergleichstabelle(werte)\n",
    "\n",
    "\n",
    "# Zum Vergleich: Resultat mit der ursprünglischen Funktion\n",
    "'''\n",
    "Vergleich der Ordnungszahlen der Maxima\n",
    "\n",
    "  theoretisch    experimentell    Abweichung [%]    Sigma\n",
    "-------------  ---------------  ----------------  -------\n",
    "         0.00   -0.06 +/- 0.05            -inf        1.2\n",
    "         1.43    1.42 +/- 0.05              -0.9      0.2\n",
    "         2.46    2.48 +/- 0.05               0.9      0.4\n",
    "         3.47    3.46 +/- 0.06              -0.4      0.3\n",
    "         4.48    4.56 +/- 0.06               1.8      1.4\n",
    "         \n",
    "<ipython-input-7-ebcfbd735655>:12: RuntimeWarning: divide by zero encountered in true_divide\n",
    "  abweichung_rel = abweichung / liste1 * 100   # [%], relative Abweichung\n",
    "''';"
   ]
  },
  {
   "cell_type": "code",
   "execution_count": 32,
   "metadata": {},
   "outputs": [
    {
     "name": "stdout",
     "output_type": "stream",
     "text": [
      "--------------------------\n",
      "12400 ± 1100 | 7400 ±  800\n",
      "12400 ±  600 | 7400 ±  600\n",
      "    0 ± 1300 |    0 ± 1000\n",
      "   0.00 %    |    0.00 %  \n",
      "   0.00 σ    |    0.00 σ  \n",
      "\n"
     ]
    }
   ],
   "source": [
    "# Test: fehler_rel == fehler_sig == 0\n",
    "werte = arr([[12368.47501413,  7421.08500848],\n",
    "             [ 1124.64056495,   836.7201341 ],\n",
    "             [12368.47501413,  7421.08500848],\n",
    "             [  623.31254737,   620.18815701]])\n",
    "vergleichstabelle(werte)\n",
    "\n",
    "\n",
    "# Zum Vergleich: Resultat mit der ursprünglischen Funktion\n",
    "'''\n",
    "Vergleich der Wellenzahl 2\n",
    "\n",
    "  [mm^-1]       theoretisch     experimentell    Abweichung [%]    Sigma\n",
    "---------  ----------------  ----------------  ----------------  -------\n",
    "       a)  12.368 +/- 1.125  12.368 +/- 0.623              -0.0      0.0\n",
    "       b)   7.421 +/- 0.837   7.421 +/- 0.620               0.0      0.0\n",
    "''';"
   ]
  },
  {
   "cell_type": "code",
   "execution_count": 33,
   "metadata": {},
   "outputs": [
    {
     "name": "stdout",
     "output_type": "stream",
     "text": [
      "-----------\n",
      "3.58 ± 0.10\n",
      "3.08 ± 0.09\n",
      "0.50 ± 0.13\n",
      "    16 %   \n",
      "   3.7 σ   \n",
      "\n"
     ]
    }
   ],
   "source": [
    "# Test: Faktorargument; experimenteller und Theoretischer wert sollen andere Namen haben\n",
    "werte = arr([3580.,  100., 3080.,   90.])\n",
    "vergleichstabelle(werte, faktor = 1e-3)\n",
    "\n",
    "\n",
    "# Zum Vergleich: Resultat mit der ursprünglischen Funktion\n",
    "'''\n",
    "Tabelle 2: Vergleich der Grenzfrequenzen aus der Hochpass- und Tiefpassbestimmung\n",
    "\n",
    "Grenzfrequenz      [kHz]\n",
    "---------------  -------\n",
    "Hochpass            3.58\n",
    "dessen Fehler       0.10\n",
    "Tiefpass            3.08\n",
    "dessen Fehler       0.09\n",
    "Abweichung          0.50\n",
    "Sigma               3.72\n",
    "''';"
   ]
  },
  {
   "cell_type": "code",
   "execution_count": 34,
   "metadata": {},
   "outputs": [
    {
     "ename": "TypeError",
     "evalue": "unsupported operand type(s) for *: 'NoneType' and 'int'",
     "output_type": "error",
     "traceback": [
      "\u001b[0;31m---------------------------------------------------------------------------\u001b[0m",
      "\u001b[0;31mTypeError\u001b[0m                                 Traceback (most recent call last)",
      "\u001b[0;32m<ipython-input-34-1a6457db15ac>\u001b[0m in \u001b[0;36m<module>\u001b[0;34m\u001b[0m\n\u001b[1;32m     11\u001b[0m               \u001b[0;36m0.23795081828704262\u001b[0m\u001b[0;34m,\u001b[0m \u001b[0;36m0.23271862938516857\u001b[0m\u001b[0;34m,\u001b[0m \u001b[0;36m0.2289576870796812\u001b[0m\u001b[0;34m,\u001b[0m\u001b[0;34m\u001b[0m\u001b[0;34m\u001b[0m\u001b[0m\n\u001b[1;32m     12\u001b[0m               0.22615788961099104]])\n\u001b[0;32m---> 13\u001b[0;31m \u001b[0mvergleichstabelle\u001b[0m\u001b[0;34m(\u001b[0m\u001b[0mwerte\u001b[0m\u001b[0;34m)\u001b[0m\u001b[0;34m\u001b[0m\u001b[0;34m\u001b[0m\u001b[0m\n\u001b[0m\u001b[1;32m     14\u001b[0m \u001b[0;34m\u001b[0m\u001b[0m\n\u001b[1;32m     15\u001b[0m \u001b[0;34m\u001b[0m\u001b[0m\n",
      "\u001b[0;32m<ipython-input-20-1f65b9a2a0e9>\u001b[0m in \u001b[0;36mvergleichstabelle\u001b[0;34m(werte, einheit, faktor, ausrichtung)\u001b[0m\n\u001b[1;32m      3\u001b[0m     \u001b[0;32mif\u001b[0m \u001b[0mnp\u001b[0m\u001b[0;34m.\u001b[0m\u001b[0mshape\u001b[0m\u001b[0;34m(\u001b[0m\u001b[0mwerte\u001b[0m\u001b[0;34m)\u001b[0m \u001b[0;34m==\u001b[0m \u001b[0;34m(\u001b[0m\u001b[0;36m4\u001b[0m\u001b[0;34m,\u001b[0m\u001b[0;34m)\u001b[0m\u001b[0;34m:\u001b[0m\u001b[0;34m\u001b[0m\u001b[0;34m\u001b[0m\u001b[0m\n\u001b[1;32m      4\u001b[0m         \u001b[0mwerte\u001b[0m \u001b[0;34m=\u001b[0m \u001b[0mnp\u001b[0m\u001b[0;34m.\u001b[0m\u001b[0marray\u001b[0m\u001b[0;34m(\u001b[0m\u001b[0mwerte\u001b[0m\u001b[0;34m,\u001b[0m \u001b[0mndmin\u001b[0m \u001b[0;34m=\u001b[0m \u001b[0;36m2\u001b[0m\u001b[0;34m)\u001b[0m\u001b[0;34m.\u001b[0m\u001b[0mT\u001b[0m\u001b[0;34m\u001b[0m\u001b[0;34m\u001b[0m\u001b[0m\n\u001b[0;32m----> 5\u001b[0;31m     \u001b[0mwerte\u001b[0m \u001b[0;34m=\u001b[0m \u001b[0mwerte\u001b[0m \u001b[0;34m*\u001b[0m \u001b[0mfaktor\u001b[0m   \u001b[0;31m# Umrechnung auf gewünschte Größenordnung bzw. Einheit\u001b[0m\u001b[0;34m\u001b[0m\u001b[0;34m\u001b[0m\u001b[0m\n\u001b[0m\u001b[1;32m      6\u001b[0m     \u001b[0mwerte\u001b[0m\u001b[0;34m[\u001b[0m\u001b[0;36m1\u001b[0m\u001b[0;34m:\u001b[0m\u001b[0;34m:\u001b[0m\u001b[0;36m2\u001b[0m\u001b[0;34m]\u001b[0m \u001b[0;34m=\u001b[0m \u001b[0mnp\u001b[0m\u001b[0;34m.\u001b[0m\u001b[0mabs\u001b[0m\u001b[0;34m(\u001b[0m\u001b[0mwerte\u001b[0m\u001b[0;34m[\u001b[0m\u001b[0;36m1\u001b[0m\u001b[0;34m:\u001b[0m\u001b[0;34m:\u001b[0m\u001b[0;36m2\u001b[0m\u001b[0;34m]\u001b[0m\u001b[0;34m)\u001b[0m      \u001b[0;31m# Keine negativen Fehlerwerte\u001b[0m\u001b[0;34m\u001b[0m\u001b[0;34m\u001b[0m\u001b[0m\n\u001b[1;32m      7\u001b[0m     \u001b[0mex\u001b[0m\u001b[0;34m,\u001b[0m \u001b[0mex_fehler\u001b[0m\u001b[0;34m,\u001b[0m \u001b[0mtheo\u001b[0m\u001b[0;34m,\u001b[0m \u001b[0mtheo_fehler\u001b[0m \u001b[0;34m=\u001b[0m \u001b[0mwerte\u001b[0m\u001b[0;34m\u001b[0m\u001b[0;34m\u001b[0m\u001b[0m\n",
      "\u001b[0;31mTypeError\u001b[0m: unsupported operand type(s) for *: 'NoneType' and 'int'"
     ]
    }
   ],
   "source": [
    "# Test: Vergleiche, in denen Werte fehlen\n",
    "werte = arr([[820.5, 571.4, 501.0, 470.2, 454.3, None, 433.6, 430.7, None, 423.5],\n",
    "             [0.8493218002880191, 1.1890505204032267, 0.5945252602016133,\n",
    "              1.2739827004320285, 1.6986436005760381, None, 2.1233045007200477,\n",
    "              2.1233045007200477, None, 1.2739827004320285],\n",
    "             [820.5, 570.7094072095474, 500.2226094489081, 468.7724747247101,\n",
    "              451.650407609065, 441.1913744753898, 434.29622148706073, 429.4949134280389,\n",
    "              426.0102653247866, 423.39753086740905],\n",
    "             [0.8493218002880192, 0.4109085361760692, 0.3156761241481166,\n",
    "              0.2772294138792619, 0.2573474764388973, 0.24556650385495118,\n",
    "              0.23795081828704262, 0.23271862938516857, 0.2289576870796812,\n",
    "              0.22615788961099104]])\n",
    "vergleichstabelle(werte)\n",
    "\n",
    "\n",
    "# Zum Vergleich: Resultat mit der ursprünglischen Funktion\n",
    "'''\n",
    "Linien der 1. Nebenserie [nm]\n",
    "\n",
    "erwartet       gemessen         Abweichung    Sigma\n",
    "-------------  -------------  ------------  -------\n",
    "820.5 +/- 0.8  820.5 +/- 0.8           0.0      0.0\n",
    "570.7 +/- 0.4  571.4 +/- 1.2           0.7      0.5\n",
    "500.2 +/- 0.3  501.0 +/- 0.6           0.8      1.2\n",
    "468.8 +/- 0.3  470.2 +/- 1.3           1.4      1.1\n",
    "451.7 +/- 0.3  454.3 +/- 1.7           2.6      1.5\n",
    "441.2 +/- 0.2\n",
    "434.3 +/- 0.2  433.6 +/- 2.1          -0.7      0.3\n",
    "429.5 +/- 0.2  430.7 +/- 2.1           1.2      0.6\n",
    "426.0 +/- 0.2\n",
    "423.4 +/- 0.2  423.5 +/- 1.3           0.1      0.1\n",
    "''';"
   ]
  },
  {
   "cell_type": "markdown",
   "metadata": {},
   "source": [
    "## Skizzen zu Darstellungsvarianten"
   ]
  },
  {
   "cell_type": "raw",
   "metadata": {},
   "source": [
    "'Angaben in [E]          '\n",
    "'------------------------'\n",
    "'Wert       theoretisch  '\n",
    "'           experimentell'\n",
    "'Abweichung absolut      '\n",
    "'           relativ      '\n",
    "'           sigma        '\n",
    "\n",
    "\n",
    "'     [E]'\n",
    "'--------'\n",
    "'Wert the'\n",
    "'     exp'\n",
    "'Abw. abs'\n",
    "'     rel'\n",
    "'     sig'\n",
    "\n",
    "\n",
    "'    |            Wert             |         Abweichung       '\n",
    "'[E] | theoretisch | experimentell | absolut | relativ | sigma'\n",
    "'-------------------------------------------------------------'"
   ]
  },
  {
   "cell_type": "markdown",
   "metadata": {},
   "source": [
    " "
   ]
  },
  {
   "cell_type": "raw",
   "metadata": {},
   "source": [
    "[' 1.000               e 100',\n",
    " ' 3.85                e  44',\n",
    " '-1.398               e   5',\n",
    " '   48000                  ',\n",
    " '    1023                  ',\n",
    " '     483                  ',\n",
    " '-    395                  ',\n",
    " '      23.30               ',\n",
    " '       4.09               ',\n",
    " '       1.385              ',\n",
    " '-      0.839              ',\n",
    " '       0.0940             ',\n",
    " '       0.000385           ',\n",
    " '-            4.85    e  -5',\n",
    " '             5.48    e  -5',\n",
    " '-            3.95    e  -7',\n",
    " '             7.38    e -99',\n",
    " '-            3.73940 e-100']\n"
   ]
  },
  {
   "cell_type": "raw",
   "metadata": {},
   "source": [
    "['     1.00    e 100',\n",
    " '     3.85    e  44',\n",
    " '-    1.398   e   5',\n",
    " ' 48000            ',\n",
    " '  1023            ',\n",
    " '   483            ',\n",
    " '-  395            ',\n",
    " '    23.30         ',\n",
    " '     4.09         ',\n",
    " '     1.385        ',\n",
    " '-    0.839        ',\n",
    " '     0.0940       ',\n",
    " '     0.000385     ',\n",
    " '-    4.85    e-  5',\n",
    " '     5.48    e-  5',\n",
    " '-    3.95    e-  7',\n",
    " '     7.38    e- 99',\n",
    " '-    3.73940 e-100']\n",
    "\n"
   ]
  },
  {
   "cell_type": "raw",
   "metadata": {},
   "source": [
    "['    1.00    e 100',\n",
    " '    3.85    e  44',\n",
    " '   -1.398   e   5',\n",
    " '48000            ',\n",
    " ' 1023            ',\n",
    " '  483            ',\n",
    " ' -395            ',\n",
    " '   23.30         ',\n",
    " '    4.09         ',\n",
    " '    1.385        ',\n",
    " '   -0.839        ',\n",
    " '    0.0940       ',\n",
    " '    0.000385     ',\n",
    " '   -4.85    e  -5',\n",
    " '    5.48    e  -5',\n",
    " '   -3.95    e  -7',\n",
    " '    7.38    e -99',\n",
    " '   -3.73940 e-100']"
   ]
  },
  {
   "cell_type": "markdown",
   "metadata": {},
   "source": [
    " "
   ]
  },
  {
   "cell_type": "raw",
   "metadata": {},
   "source": [
    "' 3028.19'\n",
    "' -843   '\n",
    "'-2394   '\n",
    "\n",
    "' 3028.19'\n",
    "'- 843   '\n",
    "'-2394   '"
   ]
  },
  {
   "cell_type": "raw",
   "metadata": {},
   "source": [
    "[['0.123 +/- 0.012']\n",
    " ['1.10  +/- 0.10 ']\n",
    " ['0.98  +/- 0.10 ']\n",
    " ['     790 %     ']\n",
    " ['     9.8 σ     ']]"
   ]
  },
  {
   "cell_type": "raw",
   "metadata": {},
   "source": [
    "[['280 +/- 40'  ' 0.075  +/- 0.004 ']\n",
    " ['317 +/- 40'  ' 0.0754 +/- 0.0040']\n",
    " [' 30 +/- 60'  '-0.000  +/- 0.006 ']\n",
    " ['   12 %   '  '     -0.027 %     ']\n",
    " ['  0.58 σ  '  '     0.0035 σ     ']]"
   ]
  }
 ],
 "metadata": {
  "kernelspec": {
   "display_name": "Python 3",
   "language": "python",
   "name": "python3"
  },
  "language_info": {
   "codemirror_mode": {
    "name": "ipython",
    "version": 3
   },
   "file_extension": ".py",
   "mimetype": "text/x-python",
   "name": "python",
   "nbconvert_exporter": "python",
   "pygments_lexer": "ipython3",
   "version": "3.8.5"
  }
 },
 "nbformat": 4,
 "nbformat_minor": 4
}
