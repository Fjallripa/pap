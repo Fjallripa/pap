{
 "cells": [
  {
   "cell_type": "code",
   "execution_count": 1,
   "metadata": {},
   "outputs": [],
   "source": [
    "import numpy as np\n",
    "from numpy import array as arr\n",
    "from scipy.stats import chi2\n",
    "from tabulate import tabulate"
   ]
  },
  {
   "cell_type": "code",
   "execution_count": 2,
   "metadata": {},
   "outputs": [],
   "source": [
    "import sys\n",
    "import socket\n",
    "if socket.gethostname() == 'Birks-iMac.fritz.box':\n",
    "    sys.path.append('/Users/Birk/Documents/Programmieren/Python/Eigener Code')\n",
    "else:\n",
    "    sys.path.append('/Home/ab227/linux/Eigener Code')\n",
    "from pap import *\n",
    "from pap import _rundung, _istbool"
   ]
  },
  {
   "cell_type": "markdown",
   "metadata": {},
   "source": [
    " "
   ]
  },
  {
   "cell_type": "markdown",
   "metadata": {},
   "source": [
    "# pap.chi_quadrat_odr Entwicklung"
   ]
  },
  {
   "cell_type": "code",
   "execution_count": null,
   "metadata": {},
   "outputs": [],
   "source": [
    "def chi_quadrat_odr(fitfunktion, messpunkte, messfehler, parameter = arr([])):\n",
    "    '''\n",
    "    Printet den χ^2_reduziert-Wert und die Fitwahrscheinlichkeit für Messwerte mit sowohl \n",
    "    y- als auch x-Fehler.\n",
    "    \n",
    "    \n",
    "    Parameter\n",
    "    ---------\n",
    "    fitfunktion : function  (nur |R -> |R)\n",
    "    \n",
    "    messpunkte : np.ndarray (2D, mit number-like Elementen)\n",
    "        Muss die Form haben np.array([[Liste von x-Werten], [Liste von y-Werten]])\n",
    "    \n",
    "    messfehler : np.ndarray ((2D, mit number-like Elementen > 0)\n",
    "        Muss die Form haben np.array([[Liste von x-Fehlern], [Liste von y-Fehlern]])\n",
    "        Wenn ein Fehlerwert nicht > 0 ist, stoppt die Funktion und printet eine Fehlermeldung\n",
    "    \n",
    "    parameter : np.ndarray  (1D, mit number-like Elementen)), optional\n",
    "        Liste der parameter der Fitfunktion.\n",
    "        \n",
    "    \n",
    "    Beispiel\n",
    "    --------\n",
    "    >>> messpunkte = np.array([[0.9, 2.3, 4.5], [-2.0, -4.3, -8.6]])\n",
    "    >>> messfehler = np.array([[0.1, 0.05, 0.08], [0.1, 0.4, 0.3]])\n",
    "    >>> pap.chi_quadrat_odr(pap.prop_func, messpunkte, messfehler, np.array([-2]))\n",
    "    χ^2_reduziert         = 1.36\n",
    "    Fitwahrscheinlichkeit = 25.7%\n",
    "    \n",
    "    \n",
    "    Funktionsprinzip\n",
    "    ----------------\n",
    "    Im normalen χ^2-Test (pap.chi_quadrat_test()) wird nur der (fehlernormierte) y-Abstand von Messwert \n",
    "    und Fitfunktion für den χ^2-Wert berechnet. Hier wird stattdessen der Abstand zu dem dem Messpunkt \n",
    "    nächstgelegen Punkt der Funktion berechnet, normiert auf sowohl x- als auch y-Fehler des \n",
    "    Messpunktes. Um dies mit hinreichender Genauigkeit zu ermöglichen, werden so viele Funktionspunkte \n",
    "    berechnet, dass 10 von ihnen auf die Länge des kleinsten x-Fehlers passen. \n",
    "    '''\n",
    "    \n",
    "    \n",
    "    \n",
    "    # Anzahl x-Werte bestimmen\n",
    "    if messfehler[messfehler <= 0].size != 0:\n",
    "        print('messfehler darf keine Fehler enthalten, die 0 oder negativ sind!')\n",
    "        return\n",
    "    \n",
    "    x_wert_min = messpunkte[0][0] - 10 * messfehler[0][0]   # x-Wert Unter- und\n",
    "    x_wert_max = messpunkte[0][-1] + 10 * messfehler[0][-1]   # Obergrenze\n",
    "    x_fehler_min = np.min(messfehler[0])   # Kleinster x_Fehler\n",
    "    anzahl_x_werte = np.int((x_wert_max - x_wert_min) / x_fehler_min * 10)\n",
    "    \n",
    "    anzahl_max = np.int(1e7)   # Obergrenze von 10 Mio. Punkten um max. Rechenzeit zu begrenzen\n",
    "    if anzahl_x_werte > anzahl_max:\n",
    "        anzahl_x_werte = anzahl_max\n",
    "        \n",
    "    x_werte = np.linspace(x_wert_min, x_wert_max, anzahl_x_werte)\n",
    "    fitwerte = fitfunktion(x_werte, *parameter)\n",
    "    \n",
    "    \n",
    "    # Abstandsberechnung normiert auf die Messfehler\n",
    "    abstände_alle = np.linalg.norm(arr([(messpunkte[0][:, np.newaxis] - x_werte) \n",
    "                                        / messfehler[0][:, np.newaxis], \n",
    "                                        (messpunkte[1][:, np.newaxis] - fitwerte) \n",
    "                                        / messfehler[1][:, np.newaxis]]), axis = 0)\n",
    "    abstände_min = np.min(abstände_alle, axis = 1)\n",
    "    \n",
    "    \n",
    "    # χ^2- und Fitwahrscheinlichkeits-Berechnung\n",
    "    anzahl_parameter = len(parameter)\n",
    "    anzahl_messwerte = np.shape(messpunkte)[1]\n",
    "    \n",
    "    chi_quadrat = np.sum(abstände_min**2)\n",
    "    freiheitsgrade = anzahl_messwerte - anzahl_parameter\n",
    "    chi_quadrat_reduziert = chi_quadrat / freiheitsgrade \n",
    "    fit_wahrscheinlichkeit = (1 - chi2.cdf(chi_quadrat, freiheitsgrade)) * 100\n",
    "\n",
    "    print(f\"χ^2_reduziert         = {chi_quadrat_reduziert:.2f}\") \n",
    "    print(f\"Fitwahrscheinlichkeit = {fit_wahrscheinlichkeit:.1f}%\")\n",
    "    \n",
    "    \n",
    "    \n",
    "    #% Nur zu Entwicklungszwecken, nicht ins pap.py mitnehmen!\n",
    "    return x_werte"
   ]
  },
  {
   "cell_type": "markdown",
   "metadata": {},
   "source": [
    "**Probleme & Verbesserungsvorschläge:**  \n",
    "Die Suche nach dem nächsten Punkt der Funktion zu jedem Messwert versucht effizient zu sein, indem nur so viele Funktions-Punkte berechnet werden, dass auf der Länge des kleinsten x-Fehlers 20 Funktionspunkte liegen. So soll auch bei kleinen Fehlern eine gute Auflösung der Funktion garantiert sein, ohne dass mit unnötig vielen Punkten gerechnet wird. \n",
    "* Problematisch vom Rechenaufwand her ist, dass für jeden Messpunkt zur Mindestabstandsbestimmung alle Funktions-Punkte abgeklappert werden anstatt nur die in der Nähe.\n",
    "* Problematisch für die Genauigkeit/Zuverlässigkeit dieser Berechnung ist, dass nur der kleinste x-Fehler für die Anzahl der Funktionspunkte entscheidend ist. So kann eine Situation entstehen mit einer Funktion mit steilen Abschnitten und mit Messpunkten, die große x- aber kleine y-Fehler haben, in welcher die berechneten Mindestabstände viel zu groß sind, da die y-Auflösung zu schlecht ist."
   ]
  },
  {
   "cell_type": "markdown",
   "metadata": {},
   "source": [
    "## Tests"
   ]
  },
  {
   "cell_type": "code",
   "execution_count": 4,
   "metadata": {},
   "outputs": [],
   "source": [
    "import matplotlib.pyplot as plt"
   ]
  },
  {
   "cell_type": "code",
   "execution_count": 5,
   "metadata": {},
   "outputs": [],
   "source": [
    "def one_over_x(x):\n",
    "    return 1 / x"
   ]
  },
  {
   "cell_type": "markdown",
   "metadata": {},
   "source": [
    "### Test 0 - Docstring-Beispiel"
   ]
  },
  {
   "cell_type": "code",
   "execution_count": 6,
   "metadata": {},
   "outputs": [
    {
     "name": "stdout",
     "output_type": "stream",
     "text": [
      "χ^2_reduziert         = 1.36\n",
      "Fitwahrscheinlichkeit = 25.7%\n"
     ]
    }
   ],
   "source": [
    "messpunkte = np.array([[0.9, 2.3, 4.5], [-2.0, -4.3, -8.6]])\n",
    "messfehler = np.array([[0.1, 0.05, 0.08], [0.1, 0.4, 0.3]])\n",
    "\n",
    "\n",
    "x_werte = chi_quadrat_odr(prop_func, messpunkte, messfehler, np.array([-2]))\n",
    "fitwerte = prop_func(x_werte, np.array([-2]))"
   ]
  },
  {
   "cell_type": "code",
   "execution_count": 7,
   "metadata": {
    "scrolled": false
   },
   "outputs": [
    {
     "data": {
      "image/png": "[encoded data removed]",
      "text/plain": [
       "<Figure size 864x648 with 1 Axes>"
      ]
     },
     "metadata": {
      "needs_background": "light"
     },
     "output_type": "display_data"
    }
   ],
   "source": [
    "plt.figure(figsize = (12, 9))\n",
    "plt.plot(x_werte, fitwerte, ',')\n",
    "plt.errorbar(messpunkte[0], messpunkte[1], messfehler[1], messfehler[0], fmt = '.');"
   ]
  },
  {
   "cell_type": "markdown",
   "metadata": {},
   "source": [
    "### Test 1 - Eine normale Funktion mit recht nahen Messwerten"
   ]
  },
  {
   "cell_type": "code",
   "execution_count": 8,
   "metadata": {},
   "outputs": [
    {
     "name": "stdout",
     "output_type": "stream",
     "text": [
      "χ^2_reduziert         = 1.19\n",
      "Fitwahrscheinlichkeit = 31.3%\n"
     ]
    }
   ],
   "source": [
    "messpunkte = arr([[-8, -5.5, -2.1, 1, 1.4, 3.2, 4.5], [40, 20.8, 3.1, 0.5, 1.5, 3, 6]])\n",
    "messfehler = arr([[0.9, 0.5, 0.2, 0.5, 0.3, 0.09, 0.03], [5, 7.3, 4.2, 2.3, 2.3, 4.1, 4.4]])\n",
    "parameter = arr([0.5, 0, -2])\n",
    "\n",
    "x_werte = chi_quadrat_odr(quad_func, messpunkte, messfehler, parameter)\n",
    "fitwerte = quad_func(x_werte, *parameter)"
   ]
  },
  {
   "cell_type": "code",
   "execution_count": 9,
   "metadata": {
    "scrolled": false
   },
   "outputs": [
    {
     "data": {
      "image/png": "[encoded data removed]",
      "text/plain": [
       "<Figure size 864x648 with 1 Axes>"
      ]
     },
     "metadata": {
      "needs_background": "light"
     },
     "output_type": "display_data"
    }
   ],
   "source": [
    "plt.figure(figsize = (12, 9))\n",
    "plt.plot(x_werte, fitwerte, ',')\n",
    "plt.errorbar(messpunkte[0], messpunkte[1], messfehler[1], messfehler[0], fmt = '.');"
   ]
  },
  {
   "cell_type": "code",
   "execution_count": 10,
   "metadata": {
    "scrolled": true
   },
   "outputs": [
    {
     "name": "stdout",
     "output_type": "stream",
     "text": [
      "χ^2_reduziert         = 10.81\n",
      "Fitwahrscheinlichkeit = 0.0%\n"
     ]
    }
   ],
   "source": [
    "# Demonstration, dass der normale χ^2-Test hier ungeeignet ist.\n",
    "chi_quadrat_test(one_over_x(messpunkte[0]), messpunkte[1], messfehler[1], 0)"
   ]
  },
  {
   "cell_type": "markdown",
   "metadata": {},
   "source": [
    "### Test 2 - Eine Funktion mit Polstellen"
   ]
  },
  {
   "cell_type": "code",
   "execution_count": 11,
   "metadata": {},
   "outputs": [
    {
     "name": "stdout",
     "output_type": "stream",
     "text": [
      "χ^2_reduziert         = 2.51\n",
      "Fitwahrscheinlichkeit = 1.4%\n"
     ]
    }
   ],
   "source": [
    "messpunkte = arr([[-8.48, -3.5, -2.58, -0, 0.01, 0.2, 9.9], \n",
    "                  [-0.01, -0.2, -0.5, -0, 10, 5, 0.05]])\n",
    "messfehler = arr([[0.3, 0.2, 0.038, 0.3, 0.05, 0.084, 0.34], \n",
    "                  [0.05, 0.09, 0.2, 1.2, 1, 0.04, 0.03]])\n",
    "\n",
    "x_werte = chi_quadrat_odr(one_over_x, messpunkte, messfehler)\n",
    "fitwerte = one_over_x(x_werte)"
   ]
  },
  {
   "cell_type": "code",
   "execution_count": 12,
   "metadata": {},
   "outputs": [
    {
     "name": "stdout",
     "output_type": "stream",
     "text": [
      "χ^2_reduziert         = inf\n",
      "Fitwahrscheinlichkeit = 0.0%\n"
     ]
    },
    {
     "name": "stderr",
     "output_type": "stream",
     "text": [
      "<ipython-input-5-d84e5ffd2af7>:2: RuntimeWarning: divide by zero encountered in true_divide\n",
      "  return 1 / x\n"
     ]
    }
   ],
   "source": [
    "# Demonstration, dass der normale χ^2-Test hier ungeeignet ist.\n",
    "chi_quadrat_test(one_over_x(messpunkte[0]), messpunkte[1], messfehler[1], 0)"
   ]
  },
  {
   "cell_type": "code",
   "execution_count": 13,
   "metadata": {},
   "outputs": [
    {
     "data": {
      "image/png": "[encoded data removed]",
      "text/plain": [
       "<Figure size 864x648 with 1 Axes>"
      ]
     },
     "metadata": {
      "needs_background": "light"
     },
     "output_type": "display_data"
    }
   ],
   "source": [
    "plt.figure(figsize = (12, 9))\n",
    "plt.plot(x_werte, fitwerte, ',')\n",
    "plt.errorbar(messpunkte[0], messpunkte[1], messfehler[1], messfehler[0], fmt = '.', capsize = 3)\n",
    "plt.ylim(-12, 12);"
   ]
  },
  {
   "cell_type": "markdown",
   "metadata": {},
   "source": [
    "### Test 3 - negative- und 0-Fehler"
   ]
  },
  {
   "cell_type": "code",
   "execution_count": 14,
   "metadata": {},
   "outputs": [
    {
     "name": "stdout",
     "output_type": "stream",
     "text": [
      "messfehler darf keine Fehler enthalten, die 0 oder negativ sind!\n"
     ]
    }
   ],
   "source": [
    "# Ein 0-Fehler\n",
    "messpunkte = arr([[-8.48, -3.5, -2.58, -0, 0.01, 0.2, 9.9], \n",
    "                  [-0.01, -0.2, -0.5, -0, 10, 5, 0.05]])\n",
    "messfehler = arr([[0.3, 0.2, 0.038, 0.3, 0.05, 0.084, 0.34], \n",
    "                  [0.05, 0.09, 0.2, 0, 1, 0.04, 0.03]])\n",
    "\n",
    "x_werte = chi_quadrat_odr(one_over_x, messpunkte, messfehler)\n",
    "# fitwerte = one_over_x(x_werte)"
   ]
  },
  {
   "cell_type": "code",
   "execution_count": 15,
   "metadata": {},
   "outputs": [
    {
     "name": "stdout",
     "output_type": "stream",
     "text": [
      "messfehler darf keine Fehler enthalten, die 0 oder negativ sind!\n"
     ]
    }
   ],
   "source": [
    "# Ein negativer Fehler\n",
    "messpunkte = arr([[-8.48, -3.5, -2.58, -0, 0.01, 0.2, 9.9], \n",
    "                  [-0.01, -0.2, -0.5, -0, 10, 5, 0.05]])\n",
    "messfehler = arr([[0.3, -0.2, 0.038, 0.3, 0.05, 0.084, 0.34], \n",
    "                  [0.05, 0.09, 0.2, 0, 1, 0.04, 0.03]])\n",
    "\n",
    "x_werte = chi_quadrat_odr(one_over_x, messpunkte, messfehler)\n",
    "# fitwerte = one_over_x(x_werte)"
   ]
  }
 ],
 "metadata": {
  "kernelspec": {
   "display_name": "Python 3",
   "language": "python",
   "name": "python3"
  },
  "language_info": {
   "codemirror_mode": {
    "name": "ipython",
    "version": 3
   },
   "file_extension": ".py",
   "mimetype": "text/x-python",
   "name": "python",
   "nbconvert_exporter": "python",
   "pygments_lexer": "ipython3",
   "version": "3.8.5"
  }
 },
 "nbformat": 4,
 "nbformat_minor": 4
}
