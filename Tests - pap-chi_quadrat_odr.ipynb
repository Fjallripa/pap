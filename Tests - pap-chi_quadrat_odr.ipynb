{
 "cells": [
  {
   "cell_type": "code",
   "execution_count": 32,
   "metadata": {},
   "outputs": [],
   "source": [
    "import numpy as np\n",
    "from numpy import array as arr\n",
    "from scipy.stats import chi2\n",
    "from tabulate import tabulate"
   ]
  },
  {
   "cell_type": "code",
   "execution_count": 4,
   "metadata": {},
   "outputs": [],
   "source": [
    "import sys\n",
    "import socket\n",
    "if socket.gethostname() == 'Birks-iMac.fritz.box':\n",
    "    sys.path.append('/Users/Birk/Documents/Programmieren/Python/Eigener Code')\n",
    "else:\n",
    "    sys.path.append('/Home/ab227/linux/Eigener Code')\n",
    "from pap import *\n",
    "from pap import _rundung, _istbool"
   ]
  },
  {
   "cell_type": "markdown",
   "metadata": {},
   "source": [
    "# pap.chi_quadrat_odr Entwicklung"
   ]
  },
  {
   "cell_type": "code",
   "execution_count": 82,
   "metadata": {},
   "outputs": [],
   "source": [
    "def chi_quadrat_odr(fitfunktion, parameter, messpunkte, messfehler):\n",
    "    x_werte = np.linspace(messpunkte[0][0] - 10 * messfehler[0][0], \n",
    "                          messpunkte[0][-1] + 10 * messfehler[0][-1], 10000000)\n",
    "    fitwerte = fitfunktion(x_werte, *parameter)\n",
    "    \n",
    "    abstände_alle = np.linalg.norm(arr([(messpunkte[0][:, np.newaxis] - x_werte) \n",
    "                                        / messfehler[0][:, np.newaxis], \n",
    "                                        (messpunkte[1][:, np.newaxis] - fitwerte) \n",
    "                                        / messfehler[1][:, np.newaxis]]), axis = 0)\n",
    "    abstände_min = np.min(abstände_alle, axis = 1)\n",
    "    \n",
    "    anzahl_parameter = len(parameter)\n",
    "    anzahl_messwerte = np.shape(messpunkte)[1]\n",
    "    \n",
    "    chi_quadrat = np.sum(abstände_min**2)\n",
    "    freiheitsgrade = anzahl_messwerte - anzahl_parameter\n",
    "    chi_quadrat_reduziert = chi_quadrat / freiheitsgrade \n",
    "    fit_wahrscheinlichkeit = (1 - chi2.cdf(chi_quadrat, freiheitsgrade)) * 100\n",
    "\n",
    "    print(f\"χ^2_reduziert         = {chi_quadrat_reduziert:.2f}\") \n",
    "    print(f\"Fitwahrscheinlichkeit = {fit_wahrscheinlichkeit:.1f}%\")"
   ]
  },
  {
   "cell_type": "markdown",
   "metadata": {},
   "source": [
    "## Tests"
   ]
  },
  {
   "cell_type": "code",
   "execution_count": 83,
   "metadata": {},
   "outputs": [
    {
     "name": "stdout",
     "output_type": "stream",
     "text": [
      "χ^2_reduziert         = 1.19\n",
      "Fitwahrscheinlichkeit = 31.3%\n"
     ]
    }
   ],
   "source": [
    "messpunkte = arr([[-8, -5.5, -2.1, 1, 1.4, 3.2, 4.5], [40, 20.8, 3.1, 0.5, 1.5, 3, 6]])\n",
    "messfehler = arr([[0.9, 0.5, 0.2, 0.5, 0.3, 0.09, 0.03], [5, 7.3, 4.2, 2.3, 2.3, 4.1, 4.4]])\n",
    "parameter = arr([0.5, 0, -2])\n",
    "\n",
    "chi_quadrat_odr(quad_func, parameter, messpunkte, messfehler)"
   ]
  },
  {
   "cell_type": "code",
   "execution_count": 81,
   "metadata": {
    "scrolled": false
   },
   "outputs": [
    {
     "data": {
      "image/png": "[encoded data removed]",
      "text/plain": [
       "<Figure size 864x648 with 1 Axes>"
      ]
     },
     "metadata": {
      "needs_background": "light"
     },
     "output_type": "display_data"
    }
   ],
   "source": [
    "import matplotlib.pyplot as plt\n",
    "plt.figure(figsize = (12, 9))\n",
    "plt.plot(x_werte, fitwerte, '.')\n",
    "plt.errorbar(messpunkte[0], messpunkte[1], messfehler[1], messfehler[0], fmt = '.');"
   ]
  }
 ],
 "metadata": {
  "kernelspec": {
   "display_name": "Python 3",
   "language": "python",
   "name": "python3"
  },
  "language_info": {
   "codemirror_mode": {
    "name": "ipython",
    "version": 3
   },
   "file_extension": ".py",
   "mimetype": "text/x-python",
   "name": "python",
   "nbconvert_exporter": "python",
   "pygments_lexer": "ipython3",
   "version": "3.8.5"
  }
 },
 "nbformat": 4,
 "nbformat_minor": 4
}
