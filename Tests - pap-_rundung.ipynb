{
 "cells": [
  {
   "cell_type": "code",
   "execution_count": 1,
   "metadata": {},
   "outputs": [],
   "source": [
    "import numpy as np\n",
    "from numpy import array as arr"
   ]
  },
  {
   "cell_type": "markdown",
   "metadata": {},
   "source": [
    "# pap._rundung() - Entwicklung"
   ]
  },
  {
   "cell_type": "code",
   "execution_count": 2,
   "metadata": {},
   "outputs": [],
   "source": [
    "def _rundung_einzel(wert, präzision):\n",
    "    anzahl_dimensionen = np.ndim(wert)\n",
    "    \n",
    "    if anzahl_dimensionen == 0:\n",
    "        wert_gerundet = round(wert, präzision)\n",
    "    \n",
    "    elif anzahl_dimensionen > 0:\n",
    "        wert_form = np.shape(wert)\n",
    "        wert_gerundet = np.zeros(wert_form)\n",
    "        for i in range(wert_form[0]):\n",
    "            wert_gerundet[i] = _rundung_einzel(wert[i], präzision[i])\n",
    "            \n",
    "    return wert_gerundet"
   ]
  },
  {
   "cell_type": "code",
   "execution_count": 3,
   "metadata": {},
   "outputs": [],
   "source": [
    "def _rundung(werte, präzisionen):\n",
    "    präzisionen = arr(präzisionen)\n",
    "    if präzisionen.dtype != int:\n",
    "        print('präzisionen darf nur Integers enthalten!')\n",
    "        print('Die Anzahl Stellen, auf die gerundet wird, kann nur ganzzahlig sein.')\n",
    "        return\n",
    "    \n",
    "    if np.shape(werte) != np.shape(präzisionen):\n",
    "        if np.ndim(präzisionen) == 0:\n",
    "            präzisionen = np.full(np.shape(werte), präzisionen)\n",
    "        else:\n",
    "            print('werte und präzisionen müssen die gleiche np.shape haben!')\n",
    "            print('np.shape(werte) =', np.shape(werte))\n",
    "            print('np.shape(präzisionen) =', np.shape(präzisionen))\n",
    "            return\n",
    "        \n",
    "    return _rundung_einzel(werte, präzisionen)"
   ]
  },
  {
   "cell_type": "markdown",
   "metadata": {},
   "source": [
    "## Tests"
   ]
  },
  {
   "cell_type": "code",
   "execution_count": 4,
   "metadata": {},
   "outputs": [
    {
     "data": {
      "text/plain": [
       "-34.34"
      ]
     },
     "execution_count": 4,
     "metadata": {},
     "output_type": "execute_result"
    }
   ],
   "source": [
    "# Einzelne Zahlen\n",
    "_rundung(-34.342, 2)"
   ]
  },
  {
   "cell_type": "code",
   "execution_count": 5,
   "metadata": {},
   "outputs": [
    {
     "name": "stdout",
     "output_type": "stream",
     "text": [
      "präzisionen darf nur Integers enthalten!\n",
      "Die Anzahl Stellen, auf die gerundet wird, kann nur ganzzahlig sein.\n"
     ]
    }
   ],
   "source": [
    "# nicht-ganzzahlige Präzision\n",
    "_rundung(34.342, 3.2)   # Soll Fehlermeldung generieren"
   ]
  },
  {
   "cell_type": "code",
   "execution_count": 6,
   "metadata": {},
   "outputs": [
    {
     "data": {
      "text/plain": [
       "array([ 33.3, -40. ,  42.9])"
      ]
     },
     "execution_count": 6,
     "metadata": {},
     "output_type": "execute_result"
    }
   ],
   "source": [
    "# Rundung eines Arrays mit einer einzigen Präzision\n",
    "_rundung(arr([100/3, -200 / 5, 300 / 7]), 1) # soll alle auf ein Kommastelle runden"
   ]
  },
  {
   "cell_type": "code",
   "execution_count": 7,
   "metadata": {},
   "outputs": [
    {
     "data": {
      "text/plain": [
       "array([30., 40., 40.])"
      ]
     },
     "execution_count": 7,
     "metadata": {},
     "output_type": "execute_result"
    }
   ],
   "source": [
    "# negative Präzission\n",
    "_rundung(arr([100/3, 200 / 5, 300 / 7]), -1) # soll auf Zehner runden"
   ]
  },
  {
   "cell_type": "code",
   "execution_count": 8,
   "metadata": {
    "scrolled": false
   },
   "outputs": [
    {
     "data": {
      "text/plain": [
       "array([[[0.3       , 0.67      ],\n",
       "        [1.        , 1.3333    ]],\n",
       "\n",
       "       [[1.66667   , 2.        ],\n",
       "        [2.3333333 , 2.66666667]]])"
      ]
     },
     "execution_count": 8,
     "metadata": {},
     "output_type": "execute_result"
    }
   ],
   "source": [
    "# Rundung eines Arrays mit ebenso geformten Präzisions-Array\n",
    "array = arr([[[1, 2], [3, 4]], [[5, 6], [7, 8]]]) / 3\n",
    "nachkommastellen = arr([[[1, 2], [3, 4]], [[5, 6], [7, 8]]])\n",
    "\n",
    "_rundung(array, nachkommastellen)"
   ]
  },
  {
   "cell_type": "code",
   "execution_count": 9,
   "metadata": {},
   "outputs": [
    {
     "name": "stdout",
     "output_type": "stream",
     "text": [
      "werte und präzisionen müssen die gleiche np.shape haben!\n",
      "np.shape(werte) = (2, 2, 2)\n",
      "np.shape(präzisionen) = (4, 2)\n"
     ]
    }
   ],
   "source": [
    "# Rundung eines Arrays mit anders geformten Präzisions-Array\n",
    "array = arr([[[1, 2], [3, 4]], [[5, 6], [7, 8]]]) / 3\n",
    "nachkommastellen = arr([[1, 2], [3, 4], [5, 6], [7, 8]])\n",
    "\n",
    "_rundung(array, nachkommastellen)"
   ]
  },
  {
   "cell_type": "markdown",
   "metadata": {},
   "source": [
    "### Rundungsgeschwindigkeiten"
   ]
  },
  {
   "cell_type": "code",
   "execution_count": 10,
   "metadata": {},
   "outputs": [
    {
     "data": {
      "text/plain": [
       "array([16.06, 16.06, 16.06, ..., 16.06, 16.06, 16.06])"
      ]
     },
     "execution_count": 10,
     "metadata": {},
     "output_type": "execute_result"
    }
   ],
   "source": [
    "# Am schnellsten\n",
    "wert_array = np.full((int(1e8), ), 16.055)\n",
    "np.around(wert_array, 2)"
   ]
  },
  {
   "cell_type": "code",
   "execution_count": 11,
   "metadata": {},
   "outputs": [],
   "source": [
    "# Langsamer\n",
    "for i in range(int(1e6)):\n",
    "    round(16.055, 2)"
   ]
  },
  {
   "cell_type": "code",
   "execution_count": 12,
   "metadata": {},
   "outputs": [],
   "source": [
    "# Am langsamsten\n",
    "for i in np.arange(np.int(1e6)):\n",
    "    np.around(16.055, 2)"
   ]
  },
  {
   "cell_type": "code",
   "execution_count": 13,
   "metadata": {},
   "outputs": [
    {
     "name": "stdout",
     "output_type": "stream",
     "text": [
      "3\n",
      "3.5\n",
      "3.4550000000\n",
      "3.0\n",
      "3.0000000000\n"
     ]
    }
   ],
   "source": [
    "print(f'{3.455:.0f}')\n",
    "print(f'{3.455:.1f}')\n",
    "print(f'{3.455:.10f}')\n",
    "print(f'{3.000:.1f}')\n",
    "print(f'{3.000:.10f}')"
   ]
  }
 ],
 "metadata": {
  "kernelspec": {
   "display_name": "Python 3",
   "language": "python",
   "name": "python3"
  },
  "language_info": {
   "codemirror_mode": {
    "name": "ipython",
    "version": 3
   },
   "file_extension": ".py",
   "mimetype": "text/x-python",
   "name": "python",
   "nbconvert_exporter": "python",
   "pygments_lexer": "ipython3",
   "version": "3.8.5"
  }
 },
 "nbformat": 4,
 "nbformat_minor": 4
}
